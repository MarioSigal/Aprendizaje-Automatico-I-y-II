{
  "cells": [
    {
      "cell_type": "markdown",
      "metadata": {
        "id": "-w0fWBIC72e-"
      },
      "source": [
        "[![Open In Colab](https://colab.research.google.com/assets/colab-badge.svg)](https://colab.research.google.com/github/aprendizaje-automatico-dc-uba-ar/material/blob/main/notebooks/notebook_04_implementacion_arboles-published.ipynb)\n",
        "\n",
        "## Árboles de decisión\n",
        "\n",
        "### Metiendonos debajo del capot\n",
        "\n",
        "En esta notebook exploraremos el funcionamiento de un árbol de decisión construido aquí mismo.\n",
        "\n",
        "Para eso contaremos con algunas partes de código resueltas y otras que se deberán completar.\n",
        "\n",
        "El objetivo será comprender la esencia de cómo se comportan los árboles a medida que le vamos agregando funcionalidad (o introduciendo _bugs_) para entender mejor su funcionamiento."
      ]
    },
    {
      "cell_type": "code",
      "execution_count": null,
      "metadata": {
        "id": "klKWMzQ772e_"
      },
      "outputs": [],
      "source": [
        "# Puede ser necesario instalar graphviz\n",
        "#!pip install graphviz"
      ]
    },
    {
      "cell_type": "code",
      "execution_count": 1,
      "metadata": {
        "id": "7M-fnVdf72fA"
      },
      "outputs": [],
      "source": [
        "# Cargamos bibliotecas necesarias\n",
        "import numpy as np\n",
        "import pandas as pd\n",
        "\n",
        "from collections import Counter\n",
        "import operator # Trae los operadores de Python como funciones y no infix\n",
        "from IPython.display import Image, display\n",
        "\n",
        "from graphviz import Digraph\n",
        "import pydotplus"
      ]
    },
    {
      "cell_type": "markdown",
      "metadata": {
        "id": "LskSya0O72fA"
      },
      "source": [
        "A lo largo de esta notebook usaremos objetos de distintos tipos de datos. Por simplicidad diremos que en todos los casos asumiremos que los parámetros pasados para cada función serán de los siguientes tipos:\n",
        "\n",
        "   - el parámetro `instancias` será un `DataFrame` de `pandas`\n",
        "   - el parámetro `etiquetas` será un `array` de `numpy` con valores `'Si'`, `'No'` (mismo para `etiquetas_rama_izquierda` y `etiquetas_rama_derecha`)\n",
        "   - el parámetro `pregunta` será un objeto de la clase `Decision` que es definida en este mismo archivo\n",
        "\n",
        "\n",
        "La clase Árbol que definiremos a continuación, consta de:\n",
        "\n",
        "   - un constructor\n",
        "   - el método `fit` para entrenarlo (a modo de sklearn)\n",
        "   - el método `predict` para dada una instancia predecir su etiqueta\n",
        "   - el método `score` no se encuentra implementar aún\n",
        "   - métodos para visualizar y explorar el árbol\n",
        "\n"
      ]
    },
    {
      "cell_type": "code",
      "execution_count": 2,
      "metadata": {
        "id": "F_jK-3_u72fB"
      },
      "outputs": [],
      "source": [
        "# Definición de la clase árbol\n",
        "from typing import Optional, Tuple\n",
        "\n",
        "\n",
        "class Tree:\n",
        "    def __init__(\n",
        "        self,\n",
        "        decision=None,  # Esto va a tener tipo Decision, una clase que vamos a definir más adelante\n",
        "        left: Optional[\"Tree\"] = None,\n",
        "        right: Optional[\"Tree\"] = None,\n",
        "        labels: Optional[np.ndarray] = None,\n",
        "    ):\n",
        "        self.decision = decision\n",
        "        self.left = left\n",
        "        self.right = right\n",
        "\n",
        "        self.data = Counter(labels) if labels is not None else None\n",
        "\n",
        "    def fit(self, instancias: pd.DataFrame, etiquetas: np.ndarray):\n",
        "        # ALGORITMO RECURSIVO para construcción de un árbol de decisión binario.\n",
        "\n",
        "        # Suponemos que estamos parados en la raiz del árbol y tenemos que decidir cómo construirlo.\n",
        "        gain, decision = encontrar_mejor_atributo_y_corte(instancias, etiquetas)\n",
        "\n",
        "        # Criterio de corte: ¿Hay ganancia?\n",
        "        if gain <= 0:\n",
        "            #  Si no hay ganancia en separar, no separamos.\n",
        "            self.data = Counter(etiquetas)\n",
        "        else:\n",
        "            # Si hay ganancia en partir el conjunto en 2\n",
        "            (\n",
        "                instancias_cumplen,\n",
        "                etiquetas_cumplen,\n",
        "                instancias_no_cumplen,\n",
        "                etiquetas_no_cumplen,\n",
        "            ) = partir_segun(decision, instancias, etiquetas)\n",
        "            # partir devuelve instancias y etiquetas que caen en cada rama (izquierda y derecha)\n",
        "\n",
        "            # Paso recursivo (consultar con el computadorX más cercano)\n",
        "            sub_arbol_izquierdo = Tree()\n",
        "            sub_arbol_izquierdo.fit(instancias_cumplen, etiquetas_cumplen)\n",
        "            sub_arbol_derecho = Tree()\n",
        "            sub_arbol_derecho.fit(instancias_no_cumplen, etiquetas_no_cumplen)\n",
        "            # los pasos anteriores crean todo lo que necesitemos de sub-árbol izquierdo y sub-árbol derecho\n",
        "\n",
        "            self.decision = decision\n",
        "            self.left = sub_arbol_izquierdo\n",
        "            self.right = sub_arbol_derecho\n",
        "            self.data = Counter(etiquetas)\n",
        "\n",
        "    def predict(self, x_t: pd.Series) -> str:\n",
        "        if self.decision is None:\n",
        "            if self.data[\"positive\"] > self.data[\"negative\"]:\n",
        "                return \"positive\"\n",
        "            else:\n",
        "                return \"negative\"\n",
        "        else:\n",
        "            if self.decision.test(x_t):\n",
        "                return self.left.predict(x_t)\n",
        "            else:\n",
        "                return self.right.predict(x_t)\n",
        "\n",
        "    def score(self, X_test: pd.DataFrame, y_test: np.ndarray) -> float:\n",
        "        # COMPLETAR\n",
        "        pass\n",
        "\n",
        "    def __repr__(self) -> str:\n",
        "        return self._imprimir_arbol()\n",
        "\n",
        "    def _imprimir_arbol(self, spacing: str = \"\") -> str:\n",
        "        res = []\n",
        "        if self.decision is None:\n",
        "            res.append(spacing + f\"Hoja: {dict(self.data)}\")\n",
        "        else:\n",
        "            res.append(spacing + f\"{str(self.decision)} - {dict(self.data)}\")\n",
        "\n",
        "        if self.left is not None:\n",
        "            res.append(spacing + \"--> True:\")\n",
        "            res.append(self.left._imprimir_arbol(spacing + \"  \"))\n",
        "\n",
        "        if self.right is not None:\n",
        "            res.append(spacing + \"--> False:\")\n",
        "            res.append(self.right._imprimir_arbol(spacing + \"  \"))\n",
        "\n",
        "        return \"\\n\".join(res)\n",
        "\n",
        "    def render(self) -> Digraph:\n",
        "        dot = Digraph()\n",
        "\n",
        "        self.dot_tree_aux(self, dot, prefix=\"\")\n",
        "\n",
        "        return dot\n",
        "\n",
        "    def dot_tree_aux(self, subtree: \"Tree\", dot: Digraph, prefix: str):\n",
        "        label = [\n",
        "            (\n",
        "                f\"{subtree.decision.feature}: {subtree.decision.value}\"\n",
        "                if subtree.decision is not None\n",
        "                else \"\"\n",
        "            ),\n",
        "            f\"n={sum(subtree.data.values())}\",\n",
        "            str(dict(subtree.data)),\n",
        "        ]\n",
        "        label = \"\\n\".join(label)\n",
        "        col = \"#029E3980\" if subtree.data.most_common(1)[0][0] == \"Si\" else \"#EA080080\"\n",
        "        dot.node(prefix + \"n\", label=label, shape=\"box\", fillcolor=col, style=\"filled\")\n",
        "\n",
        "        if subtree.left:\n",
        "            self.dot_tree_aux(subtree.left, dot, prefix + \"l\")\n",
        "            dot.edge(prefix + \"n\", prefix + \"ln\", label=\"True\")\n",
        "\n",
        "        if subtree.right:\n",
        "            self.dot_tree_aux(subtree.right, dot, prefix + \"r\")\n",
        "            dot.edge(prefix + \"n\", prefix + \"rn\", label=\"False\")"
      ]
    },
    {
      "cell_type": "markdown",
      "metadata": {
        "id": "71ggo7zT72fC"
      },
      "source": [
        "Para la decisiones en cada nodo tendremos la siguiente clase. Actualmente funciona comparando por igualdad, pero podría ser extendida en el futuro."
      ]
    },
    {
      "cell_type": "code",
      "execution_count": 3,
      "metadata": {
        "id": "sIiU1_9v72fC"
      },
      "outputs": [],
      "source": [
        "from typing import Any\n",
        "\n",
        "class Decision:\n",
        "    def __init__(self, feature: str, value: Any, test_function=operator.eq):\n",
        "        self.feature = feature\n",
        "        self.value = value\n",
        "        self.test_function = test_function\n",
        "\n",
        "    def test(self, x: pd.Series) -> bool:\n",
        "        # Devuelve verdadero si la instancia cumple con la pregunta\n",
        "        return self.test_function(self.value, x[self.feature])\n",
        "\n",
        "    def __repr__(self):\n",
        "        return \"¿Es el valor para {} igual a {}?\".format(self.feature, self.value)"
      ]
    },
    {
      "cell_type": "markdown",
      "metadata": {
        "id": "5FBuSbOD72fD"
      },
      "source": [
        "## Funciones a completar\n",
        "\n",
        "Primero definir la función `gini`, que dado unas etiquetas dan el grado de impureza (ver definición en la teórica), se espera que devuelva un `float`."
      ]
    },
    {
      "cell_type": "code",
      "execution_count": 8,
      "metadata": {
        "id": "5j-rSulj72fE"
      },
      "outputs": [],
      "source": [
        "def gini(etiquetas: np.ndarray) -> float:\n",
        "    n = len(etiquetas)\n",
        "    if n == 0:\n",
        "        return 0.0\n",
        "    counts = Counter(etiquetas)\n",
        "    return 1.0 - sum((c / n) ** 2 for c in counts.values())"
      ]
    },
    {
      "cell_type": "markdown",
      "metadata": {
        "id": "6dhbEYNf72fE"
      },
      "source": [
        "Definir la función `ganancia_gini` que dadas ciertas instancias y una posible separación entre dos ramas nos de la mejora que obtendremos al separar de esta manera. Devuelve un `float`."
      ]
    },
    {
      "cell_type": "code",
      "execution_count": 10,
      "metadata": {
        "id": "9igpr7Wv72fE"
      },
      "outputs": [],
      "source": [
        "def ganancia_gini(etiquetas_rama_izquierda: np.ndarray, etiquetas_rama_derecha: np.ndarray) -> float:\n",
        "    nl, nr = len(etiquetas_rama_izquierda), len(etiquetas_rama_derecha)\n",
        "    n = nl + nr\n",
        "    if n == 0: return 0.0\n",
        "    etiquetas = np.concatenate([etiquetas_rama_izquierda, etiquetas_rama_derecha])\n",
        "    g_p = gini(etiquetas)\n",
        "    g_l = gini(etiquetas_rama_izquierda)\n",
        "    g_r = gini(etiquetas_rama_derecha)\n",
        "    ganancia_gini= g_p - (nl / n) * g_l - (nr / n) * g_r\n",
        "    return ganancia_gini"
      ]
    },
    {
      "cell_type": "markdown",
      "metadata": {
        "id": "IqWCA4R872fE"
      },
      "source": [
        "Definir `partir_segun` que debe separar instancias y etiquetas según si cada instancia cumple o no con condición (ver método `test` de la clase `Decision`).\n",
        "\n",
        "Para este punto se recomienda la utilizacion de máscaras de pandas (ver Notebook 01 - Herramientas).\n",
        "\n",
        "Siguiendo con lo mencionado al inicio del NoteBook, la función debe devolver:\n",
        "\n",
        "   - 2 `DataFrame` de `pandas` con las instancias que cumplen (`instancias_cumplen`) y las que no `instancias_no_cumplen`\n",
        "   - 2 `array` de `numpy` con valores `'Si'`, `'No'`, uno con el valor de la etiqueta para las intancias que cumplen con la pregunta (`etiquetas_cumplen`) y otro con las etiquetas de las que no cumple (`etiquetas_cumplen`)\n"
      ]
    },
    {
      "cell_type": "code",
      "execution_count": 12,
      "metadata": {
        "id": "GZqZj0AT72fE"
      },
      "outputs": [],
      "source": [
        "def partir_segun(\n",
        "    pregunta: Decision,\n",
        "    instancias: pd.DataFrame,\n",
        "    etiquetas: np.ndarray\n",
        ") -> Tuple[pd.DataFrame, np.ndarray, pd.DataFrame, np.ndarray]:\n",
        "    # Esta función debe separar instancias y etiquetas según si cada instancia cumple o no\n",
        "    # COMPLETAR\n",
        "    instancias_cumplen = instancias[pregunta.test(instancias)]\n",
        "    etiquetas_cumplen = etiquetas[pregunta.test(instancias)]\n",
        "    instancias_no_cumplen = instancias[~pregunta.test(instancias)]\n",
        "    etiquetas_no_cumplen = etiquetas[~pregunta.test(instancias)]\n",
        "\n",
        "    return instancias_cumplen, etiquetas_cumplen, instancias_no_cumplen, etiquetas_no_cumplen"
      ]
    },
    {
      "cell_type": "markdown",
      "metadata": {
        "id": "4nCyCnZx72fF"
      },
      "source": [
        "A continuación se propone una implementación para poder encontrar el mejor atributo y corte posible. Esta función devuelve un `float` y una `Decision` correspondientes al mejor atributo y corte."
      ]
    },
    {
      "cell_type": "code",
      "execution_count": 7,
      "metadata": {
        "id": "R54_oqQH72fF"
      },
      "outputs": [],
      "source": [
        "def encontrar_mejor_atributo_y_corte(\n",
        "    instancias: pd.DataFrame, etiquetas: np.ndarray\n",
        ") -> Tuple[float, Decision]:\n",
        "    # Implementación Gini Gain.\n",
        "    max_ganancia = 0\n",
        "    mejor_pregunta = None\n",
        "    for columna in instancias.columns:\n",
        "        for valor in set(instancias[columna]):\n",
        "            # Probando corte para atributo y valor\n",
        "            pregunta = Decision(columna, valor)\n",
        "            _, etiquetas_rama_izquierda, _, etiquetas_rama_derecha = partir_segun(\n",
        "                pregunta, instancias, etiquetas\n",
        "            )\n",
        "            if len(etiquetas_rama_izquierda) == 0 or len(etiquetas_rama_derecha) == 0:\n",
        "                continue\n",
        "\n",
        "            ganancia = ganancia_gini(etiquetas_rama_izquierda, etiquetas_rama_derecha)\n",
        "\n",
        "            if ganancia > max_ganancia:\n",
        "                max_ganancia = ganancia\n",
        "                mejor_pregunta = pregunta\n",
        "\n",
        "    return max_ganancia, mejor_pregunta"
      ]
    },
    {
      "cell_type": "markdown",
      "metadata": {
        "id": "0HPlLA1f72fF"
      },
      "source": [
        "Dado el siguiente dataset:"
      ]
    },
    {
      "cell_type": "code",
      "execution_count": 13,
      "metadata": {
        "id": "j5n-l-oH72fF"
      },
      "outputs": [],
      "source": [
        "from sklearn.datasets import fetch_openml\n",
        "import sklearn.model_selection\n",
        "\n",
        "tictactoe = fetch_openml(name='tic-tac-toe', version=1, as_frame=True)\n",
        "X_train, X_test, y_train, y_test = sklearn.model_selection.train_test_split(\n",
        "                    tictactoe['data'],\n",
        "                    tictactoe['target'],\n",
        "                    random_state=4,\n",
        "                    test_size=0.1)"
      ]
    },
    {
      "cell_type": "markdown",
      "metadata": {
        "id": "Pgm1b5yW72fG"
      },
      "source": [
        "Completar las funciones previas, entrenar y visualizar un Árbol de Decisión."
      ]
    },
    {
      "cell_type": "code",
      "execution_count": 14,
      "metadata": {
        "colab": {
          "base_uri": "https://localhost:8080/",
          "height": 1000
        },
        "id": "adZT4zGt72fG",
        "outputId": "fbb17eab-657f-43f4-86c8-ae02e522fd3b"
      },
      "outputs": [
        {
          "output_type": "stream",
          "name": "stdout",
          "text": [
            "¿Es el valor para middle-middle-square igual a o? - {'negative': 295, 'positive': 567}\n",
            "--> True:\n",
            "  ¿Es el valor para top-left-square igual a x? - {'negative': 172, 'positive': 134}\n",
            "  --> True:\n",
            "    ¿Es el valor para top-right-square igual a x? - {'negative': 68, 'positive': 79}\n",
            "    --> True:\n",
            "      ¿Es el valor para top-middle-square igual a x? - {'negative': 21, 'positive': 45}\n",
            "      --> True:\n",
            "        Hoja: {'positive': 37}\n",
            "      --> False:\n",
            "        ¿Es el valor para bottom-middle-square igual a b? - {'negative': 21, 'positive': 8}\n",
            "        --> True:\n",
            "          ¿Es el valor para middle-left-square igual a o? - {'negative': 3, 'positive': 4}\n",
            "          --> True:\n",
            "            ¿Es el valor para middle-right-square igual a x? - {'negative': 3, 'positive': 1}\n",
            "            --> True:\n",
            "              Hoja: {'positive': 1}\n",
            "            --> False:\n",
            "              Hoja: {'negative': 3}\n",
            "          --> False:\n",
            "            Hoja: {'positive': 3}\n",
            "        --> False:\n",
            "          ¿Es el valor para top-middle-square igual a b? - {'negative': 18, 'positive': 4}\n",
            "          --> True:\n",
            "            ¿Es el valor para bottom-middle-square igual a x? - {'positive': 3, 'negative': 5}\n",
            "            --> True:\n",
            "              Hoja: {'negative': 3}\n",
            "            --> False:\n",
            "              ¿Es el valor para bottom-right-square igual a o? - {'positive': 3, 'negative': 2}\n",
            "              --> True:\n",
            "                Hoja: {'negative': 1}\n",
            "              --> False:\n",
            "                ¿Es el valor para middle-left-square igual a o? - {'positive': 3, 'negative': 1}\n",
            "                --> True:\n",
            "                  ¿Es el valor para middle-right-square igual a x? - {'negative': 1, 'positive': 1}\n",
            "                  --> True:\n",
            "                    Hoja: {'positive': 1}\n",
            "                  --> False:\n",
            "                    Hoja: {'negative': 1}\n",
            "                --> False:\n",
            "                  Hoja: {'positive': 2}\n",
            "          --> False:\n",
            "            ¿Es el valor para bottom-left-square igual a o? - {'negative': 13, 'positive': 1}\n",
            "            --> True:\n",
            "              ¿Es el valor para middle-left-square igual a x? - {'negative': 3, 'positive': 1}\n",
            "              --> True:\n",
            "                Hoja: {'negative': 3}\n",
            "              --> False:\n",
            "                Hoja: {'positive': 1}\n",
            "            --> False:\n",
            "              Hoja: {'negative': 10}\n",
            "    --> False:\n",
            "      ¿Es el valor para bottom-left-square igual a x? - {'negative': 47, 'positive': 34}\n",
            "      --> True:\n",
            "        ¿Es el valor para middle-left-square igual a x? - {'negative': 12, 'positive': 34}\n",
            "        --> True:\n",
            "          Hoja: {'positive': 28}\n",
            "        --> False:\n",
            "          ¿Es el valor para middle-right-square igual a b? - {'negative': 12, 'positive': 6}\n",
            "          --> True:\n",
            "            Hoja: {'positive': 3}\n",
            "          --> False:\n",
            "            ¿Es el valor para bottom-middle-square igual a x? - {'negative': 12, 'positive': 3}\n",
            "            --> True:\n",
            "              ¿Es el valor para bottom-right-square igual a x? - {'negative': 4, 'positive': 3}\n",
            "              --> True:\n",
            "                Hoja: {'positive': 3}\n",
            "              --> False:\n",
            "                Hoja: {'negative': 4}\n",
            "            --> False:\n",
            "              Hoja: {'negative': 8}\n",
            "      --> False:\n",
            "        Hoja: {'negative': 35}\n",
            "  --> False:\n",
            "    ¿Es el valor para bottom-right-square igual a x? - {'negative': 104, 'positive': 55}\n",
            "    --> True:\n",
            "      ¿Es el valor para top-middle-square igual a x? - {'positive': 55, 'negative': 35}\n",
            "      --> True:\n",
            "        ¿Es el valor para bottom-left-square igual a o? - {'positive': 12, 'negative': 19}\n",
            "        --> True:\n",
            "          ¿Es el valor para top-right-square igual a x? - {'negative': 12, 'positive': 2}\n",
            "          --> True:\n",
            "            ¿Es el valor para middle-right-square igual a x? - {'negative': 3, 'positive': 2}\n",
            "            --> True:\n",
            "              Hoja: {'positive': 2}\n",
            "            --> False:\n",
            "              Hoja: {'negative': 3}\n",
            "          --> False:\n",
            "            Hoja: {'negative': 9}\n",
            "        --> False:\n",
            "          ¿Es el valor para bottom-middle-square igual a x? - {'positive': 10, 'negative': 7}\n",
            "          --> True:\n",
            "            ¿Es el valor para top-right-square igual a x? - {'positive': 7, 'negative': 1}\n",
            "            --> True:\n",
            "              Hoja: {'negative': 1}\n",
            "            --> False:\n",
            "              Hoja: {'positive': 7}\n",
            "          --> False:\n",
            "            ¿Es el valor para middle-right-square igual a x? - {'positive': 3, 'negative': 6}\n",
            "            --> True:\n",
            "              ¿Es el valor para top-right-square igual a x? - {'positive': 3, 'negative': 1}\n",
            "              --> True:\n",
            "                Hoja: {'positive': 3}\n",
            "              --> False:\n",
            "                Hoja: {'negative': 1}\n",
            "            --> False:\n",
            "              Hoja: {'negative': 5}\n",
            "      --> False:\n",
            "        ¿Es el valor para bottom-middle-square igual a o? - {'positive': 43, 'negative': 16}\n",
            "        --> True:\n",
            "          ¿Es el valor para top-middle-square igual a b? - {'positive': 5, 'negative': 8}\n",
            "          --> True:\n",
            "            Hoja: {'positive': 5}\n",
            "          --> False:\n",
            "            Hoja: {'negative': 8}\n",
            "        --> False:\n",
            "          ¿Es el valor para top-right-square igual a o? - {'positive': 38, 'negative': 8}\n",
            "          --> True:\n",
            "            ¿Es el valor para bottom-left-square igual a x? - {'positive': 7, 'negative': 6}\n",
            "            --> True:\n",
            "              ¿Es el valor para bottom-middle-square igual a x? - {'positive': 7, 'negative': 1}\n",
            "              --> True:\n",
            "                Hoja: {'positive': 7}\n",
            "              --> False:\n",
            "                Hoja: {'negative': 1}\n",
            "            --> False:\n",
            "              Hoja: {'negative': 5}\n",
            "          --> False:\n",
            "            ¿Es el valor para middle-right-square igual a o? - {'positive': 31, 'negative': 2}\n",
            "            --> True:\n",
            "              ¿Es el valor para middle-left-square igual a o? - {'positive': 5, 'negative': 2}\n",
            "              --> True:\n",
            "                Hoja: {'negative': 2}\n",
            "              --> False:\n",
            "                Hoja: {'positive': 5}\n",
            "            --> False:\n",
            "              Hoja: {'positive': 26}\n",
            "    --> False:\n",
            "      Hoja: {'negative': 69}\n",
            "--> False:\n",
            "  ¿Es el valor para bottom-left-square igual a o? - {'positive': 433, 'negative': 123}\n",
            "  --> True:\n",
            "    ¿Es el valor para top-left-square igual a o? - {'positive': 137, 'negative': 70}\n",
            "    --> True:\n",
            "      ¿Es el valor para middle-left-square igual a o? - {'negative': 39, 'positive': 32}\n",
            "      --> True:\n",
            "        Hoja: {'negative': 31}\n",
            "      --> False:\n",
            "        ¿Es el valor para bottom-right-square igual a b? - {'positive': 32, 'negative': 8}\n",
            "        --> True:\n",
            "          Hoja: {'positive': 12}\n",
            "        --> False:\n",
            "          ¿Es el valor para top-right-square igual a b? - {'positive': 20, 'negative': 8}\n",
            "          --> True:\n",
            "            Hoja: {'positive': 6}\n",
            "          --> False:\n",
            "            ¿Es el valor para top-middle-square igual a b? - {'negative': 8, 'positive': 14}\n",
            "            --> True:\n",
            "              Hoja: {'positive': 3}\n",
            "            --> False:\n",
            "              ¿Es el valor para bottom-middle-square igual a o? - {'negative': 8, 'positive': 11}\n",
            "              --> True:\n",
            "                ¿Es el valor para bottom-right-square igual a x? - {'negative': 4, 'positive': 3}\n",
            "                --> True:\n",
            "                  ¿Es el valor para middle-right-square igual a x? - {'positive': 3, 'negative': 1}\n",
            "                  --> True:\n",
            "                    Hoja: {'positive': 3}\n",
            "                  --> False:\n",
            "                    Hoja: {'negative': 1}\n",
            "                --> False:\n",
            "                  Hoja: {'negative': 3}\n",
            "              --> False:\n",
            "                ¿Es el valor para top-middle-square igual a x? - {'positive': 8, 'negative': 4}\n",
            "                --> True:\n",
            "                  Hoja: {'positive': 5}\n",
            "                --> False:\n",
            "                  ¿Es el valor para top-right-square igual a x? - {'positive': 3, 'negative': 4}\n",
            "                  --> True:\n",
            "                    ¿Es el valor para middle-right-square igual a x? - {'positive': 3, 'negative': 1}\n",
            "                    --> True:\n",
            "                      Hoja: {'positive': 3}\n",
            "                    --> False:\n",
            "                      Hoja: {'negative': 1}\n",
            "                  --> False:\n",
            "                    Hoja: {'negative': 3}\n",
            "    --> False:\n",
            "      ¿Es el valor para bottom-right-square igual a o? - {'positive': 105, 'negative': 31}\n",
            "      --> True:\n",
            "        ¿Es el valor para bottom-middle-square igual a o? - {'positive': 23, 'negative': 31}\n",
            "        --> True:\n",
            "          Hoja: {'negative': 26}\n",
            "        --> False:\n",
            "          ¿Es el valor para middle-right-square igual a o? - {'positive': 23, 'negative': 5}\n",
            "          --> True:\n",
            "            ¿Es el valor para top-right-square igual a o? - {'positive': 6, 'negative': 4}\n",
            "            --> True:\n",
            "              Hoja: {'negative': 3}\n",
            "            --> False:\n",
            "              ¿Es el valor para top-middle-square igual a x? - {'positive': 6, 'negative': 1}\n",
            "              --> True:\n",
            "                Hoja: {'positive': 6}\n",
            "              --> False:\n",
            "                Hoja: {'negative': 1}\n",
            "          --> False:\n",
            "            ¿Es el valor para top-middle-square igual a o? - {'positive': 17, 'negative': 1}\n",
            "            --> True:\n",
            "              ¿Es el valor para middle-left-square igual a x? - {'positive': 4, 'negative': 1}\n",
            "              --> True:\n",
            "                Hoja: {'positive': 4}\n",
            "              --> False:\n",
            "                Hoja: {'negative': 1}\n",
            "            --> False:\n",
            "              Hoja: {'positive': 13}\n",
            "      --> False:\n",
            "        Hoja: {'positive': 82}\n",
            "  --> False:\n",
            "    ¿Es el valor para top-right-square igual a o? - {'positive': 296, 'negative': 53}\n",
            "    --> True:\n",
            "      ¿Es el valor para top-left-square igual a o? - {'negative': 53, 'positive': 92}\n",
            "      --> True:\n",
            "        ¿Es el valor para top-middle-square igual a o? - {'negative': 32, 'positive': 23}\n",
            "        --> True:\n",
            "          Hoja: {'negative': 27}\n",
            "        --> False:\n",
            "          ¿Es el valor para middle-right-square igual a o? - {'positive': 23, 'negative': 5}\n",
            "          --> True:\n",
            "            ¿Es el valor para bottom-right-square igual a o? - {'positive': 7, 'negative': 4}\n",
            "            --> True:\n",
            "              Hoja: {'negative': 3}\n",
            "            --> False:\n",
            "              ¿Es el valor para bottom-middle-square igual a x? - {'positive': 7, 'negative': 1}\n",
            "              --> True:\n",
            "                Hoja: {'positive': 7}\n",
            "              --> False:\n",
            "                Hoja: {'negative': 1}\n",
            "          --> False:\n",
            "            ¿Es el valor para bottom-middle-square igual a o? - {'positive': 16, 'negative': 1}\n",
            "            --> True:\n",
            "              ¿Es el valor para middle-left-square igual a x? - {'positive': 4, 'negative': 1}\n",
            "              --> True:\n",
            "                Hoja: {'positive': 4}\n",
            "              --> False:\n",
            "                Hoja: {'negative': 1}\n",
            "            --> False:\n",
            "              Hoja: {'positive': 12}\n",
            "      --> False:\n",
            "        ¿Es el valor para bottom-right-square igual a o? - {'positive': 69, 'negative': 21}\n",
            "        --> True:\n",
            "          ¿Es el valor para middle-right-square igual a o? - {'positive': 16, 'negative': 21}\n",
            "          --> True:\n",
            "            Hoja: {'negative': 20}\n",
            "          --> False:\n",
            "            ¿Es el valor para middle-left-square igual a o? - {'positive': 16, 'negative': 1}\n",
            "            --> True:\n",
            "              ¿Es el valor para bottom-middle-square igual a x? - {'negative': 1, 'positive': 3}\n",
            "              --> True:\n",
            "                Hoja: {'positive': 3}\n",
            "              --> False:\n",
            "                Hoja: {'negative': 1}\n",
            "            --> False:\n",
            "              Hoja: {'positive': 13}\n",
            "        --> False:\n",
            "          Hoja: {'positive': 53}\n",
            "    --> False:\n",
            "      Hoja: {'positive': 204}\n"
          ]
        },
        {
          "output_type": "execute_result",
          "data": {
            "image/svg+xml": "<?xml version=\"1.0\" encoding=\"UTF-8\" standalone=\"no\"?>\n<!DOCTYPE svg PUBLIC \"-//W3C//DTD SVG 1.1//EN\"\n \"http://www.w3.org/Graphics/SVG/1.1/DTD/svg11.dtd\">\n<!-- Generated by graphviz version 2.43.0 (0)\n -->\n<!-- Title: %3 Pages: 1 -->\n<svg width=\"4245pt\" height=\"1214pt\"\n viewBox=\"0.00 0.00 4245.00 1214.00\" xmlns=\"http://www.w3.org/2000/svg\" xmlns:xlink=\"http://www.w3.org/1999/xlink\">\n<g id=\"graph0\" class=\"graph\" transform=\"scale(1 1) rotate(0) translate(4 1210)\">\n<title>%3</title>\n<polygon fill=\"white\" stroke=\"transparent\" points=\"-4,4 -4,-1210 4241,-1210 4241,4 -4,4\"/>\n<!-- n -->\n<g id=\"node1\" class=\"node\">\n<title>n</title>\n<polygon fill=\"#ea0800\" fill-opacity=\"0.501961\" stroke=\"black\" points=\"2382.5,-1206 2191.5,-1206 2191.5,-1153 2382.5,-1153 2382.5,-1206\"/>\n<text text-anchor=\"middle\" x=\"2287\" y=\"-1190.8\" font-family=\"Times,serif\" font-size=\"14.00\">middle&#45;middle&#45;square: o</text>\n<text text-anchor=\"middle\" x=\"2287\" y=\"-1175.8\" font-family=\"Times,serif\" font-size=\"14.00\">n=862</text>\n<text text-anchor=\"middle\" x=\"2287\" y=\"-1160.8\" font-family=\"Times,serif\" font-size=\"14.00\">{&#39;negative&#39;: 295, &#39;positive&#39;: 567}</text>\n</g>\n<!-- ln -->\n<g id=\"node2\" class=\"node\">\n<title>ln</title>\n<polygon fill=\"#ea0800\" fill-opacity=\"0.501961\" stroke=\"black\" points=\"1918.5,-1102 1727.5,-1102 1727.5,-1049 1918.5,-1049 1918.5,-1102\"/>\n<text text-anchor=\"middle\" x=\"1823\" y=\"-1086.8\" font-family=\"Times,serif\" font-size=\"14.00\">top&#45;left&#45;square: x</text>\n<text text-anchor=\"middle\" x=\"1823\" y=\"-1071.8\" font-family=\"Times,serif\" font-size=\"14.00\">n=306</text>\n<text text-anchor=\"middle\" x=\"1823\" y=\"-1056.8\" font-family=\"Times,serif\" font-size=\"14.00\">{&#39;negative&#39;: 172, &#39;positive&#39;: 134}</text>\n</g>\n<!-- n&#45;&gt;ln -->\n<g id=\"edge69\" class=\"edge\">\n<title>n&#45;&gt;ln</title>\n<path fill=\"none\" stroke=\"black\" d=\"M2191.42,-1157.49C2114.97,-1140.68 2007.87,-1117.14 1928.83,-1099.77\"/>\n<polygon fill=\"black\" stroke=\"black\" points=\"1929.37,-1096.3 1918.85,-1097.57 1927.87,-1103.14 1929.37,-1096.3\"/>\n<text text-anchor=\"middle\" x=\"2096\" y=\"-1123.8\" font-family=\"Times,serif\" font-size=\"14.00\">True</text>\n</g>\n<!-- rn -->\n<g id=\"node71\" class=\"node\">\n<title>rn</title>\n<polygon fill=\"#ea0800\" fill-opacity=\"0.501961\" stroke=\"black\" points=\"2811.5,-1102 2620.5,-1102 2620.5,-1049 2811.5,-1049 2811.5,-1102\"/>\n<text text-anchor=\"middle\" x=\"2716\" y=\"-1086.8\" font-family=\"Times,serif\" font-size=\"14.00\">bottom&#45;left&#45;square: o</text>\n<text text-anchor=\"middle\" x=\"2716\" y=\"-1071.8\" font-family=\"Times,serif\" font-size=\"14.00\">n=556</text>\n<text text-anchor=\"middle\" x=\"2716\" y=\"-1056.8\" font-family=\"Times,serif\" font-size=\"14.00\">{&#39;positive&#39;: 433, &#39;negative&#39;: 123}</text>\n</g>\n<!-- n&#45;&gt;rn -->\n<g id=\"edge132\" class=\"edge\">\n<title>n&#45;&gt;rn</title>\n<path fill=\"none\" stroke=\"black\" d=\"M2382.74,-1155.74C2450.18,-1139.7 2540.47,-1118.23 2610.07,-1101.69\"/>\n<polygon fill=\"black\" stroke=\"black\" points=\"2611.26,-1105 2620.18,-1099.28 2609.64,-1098.19 2611.26,-1105\"/>\n<text text-anchor=\"middle\" x=\"2542.5\" y=\"-1123.8\" font-family=\"Times,serif\" font-size=\"14.00\">False</text>\n</g>\n<!-- lln -->\n<g id=\"node3\" class=\"node\">\n<title>lln</title>\n<polygon fill=\"#ea0800\" fill-opacity=\"0.501961\" stroke=\"black\" points=\"951.5,-998 774.5,-998 774.5,-945 951.5,-945 951.5,-998\"/>\n<text text-anchor=\"middle\" x=\"863\" y=\"-982.8\" font-family=\"Times,serif\" font-size=\"14.00\">top&#45;right&#45;square: x</text>\n<text text-anchor=\"middle\" x=\"863\" y=\"-967.8\" font-family=\"Times,serif\" font-size=\"14.00\">n=147</text>\n<text text-anchor=\"middle\" x=\"863\" y=\"-952.8\" font-family=\"Times,serif\" font-size=\"14.00\">{&#39;negative&#39;: 68, &#39;positive&#39;: 79}</text>\n</g>\n<!-- ln&#45;&gt;lln -->\n<g id=\"edge35\" class=\"edge\">\n<title>ln&#45;&gt;lln</title>\n<path fill=\"none\" stroke=\"black\" d=\"M1727.44,-1064.35C1544.54,-1044.91 1146.73,-1002.65 961.53,-982.97\"/>\n<polygon fill=\"black\" stroke=\"black\" points=\"961.84,-979.48 951.52,-981.91 961.1,-986.44 961.84,-979.48\"/>\n<text text-anchor=\"middle\" x=\"1414\" y=\"-1019.8\" font-family=\"Times,serif\" font-size=\"14.00\">True</text>\n</g>\n<!-- lrn -->\n<g id=\"node38\" class=\"node\">\n<title>lrn</title>\n<polygon fill=\"#ea0800\" fill-opacity=\"0.501961\" stroke=\"black\" points=\"1915,-998 1731,-998 1731,-945 1915,-945 1915,-998\"/>\n<text text-anchor=\"middle\" x=\"1823\" y=\"-982.8\" font-family=\"Times,serif\" font-size=\"14.00\">bottom&#45;right&#45;square: x</text>\n<text text-anchor=\"middle\" x=\"1823\" y=\"-967.8\" font-family=\"Times,serif\" font-size=\"14.00\">n=159</text>\n<text text-anchor=\"middle\" x=\"1823\" y=\"-952.8\" font-family=\"Times,serif\" font-size=\"14.00\">{&#39;negative&#39;: 104, &#39;positive&#39;: 55}</text>\n</g>\n<!-- ln&#45;&gt;lrn -->\n<g id=\"edge68\" class=\"edge\">\n<title>ln&#45;&gt;lrn</title>\n<path fill=\"none\" stroke=\"black\" d=\"M1823,-1048.76C1823,-1036.56 1823,-1021.78 1823,-1008.49\"/>\n<polygon fill=\"black\" stroke=\"black\" points=\"1826.5,-1008.23 1823,-998.23 1819.5,-1008.23 1826.5,-1008.23\"/>\n<text text-anchor=\"middle\" x=\"1837.5\" y=\"-1019.8\" font-family=\"Times,serif\" font-size=\"14.00\">False</text>\n</g>\n<!-- llln -->\n<g id=\"node4\" class=\"node\">\n<title>llln</title>\n<polygon fill=\"#ea0800\" fill-opacity=\"0.501961\" stroke=\"black\" points=\"634.5,-893.5 457.5,-893.5 457.5,-840.5 634.5,-840.5 634.5,-893.5\"/>\n<text text-anchor=\"middle\" x=\"546\" y=\"-878.3\" font-family=\"Times,serif\" font-size=\"14.00\">top&#45;middle&#45;square: x</text>\n<text text-anchor=\"middle\" x=\"546\" y=\"-863.3\" font-family=\"Times,serif\" font-size=\"14.00\">n=66</text>\n<text text-anchor=\"middle\" x=\"546\" y=\"-848.3\" font-family=\"Times,serif\" font-size=\"14.00\">{&#39;negative&#39;: 21, &#39;positive&#39;: 45}</text>\n</g>\n<!-- lln&#45;&gt;llln -->\n<g id=\"edge23\" class=\"edge\">\n<title>lln&#45;&gt;llln</title>\n<path fill=\"none\" stroke=\"black\" d=\"M783.83,-944.9C738.45,-930.23 681.38,-911.77 634.52,-896.62\"/>\n<polygon fill=\"black\" stroke=\"black\" points=\"635.58,-893.29 624.99,-893.54 633.43,-899.95 635.58,-893.29\"/>\n<text text-anchor=\"middle\" x=\"737\" y=\"-915.8\" font-family=\"Times,serif\" font-size=\"14.00\">True</text>\n</g>\n<!-- llrn -->\n<g id=\"node27\" class=\"node\">\n<title>llrn</title>\n<polygon fill=\"#ea0800\" fill-opacity=\"0.501961\" stroke=\"black\" points=\"951.5,-893.5 774.5,-893.5 774.5,-840.5 951.5,-840.5 951.5,-893.5\"/>\n<text text-anchor=\"middle\" x=\"863\" y=\"-878.3\" font-family=\"Times,serif\" font-size=\"14.00\">bottom&#45;left&#45;square: x</text>\n<text text-anchor=\"middle\" x=\"863\" y=\"-863.3\" font-family=\"Times,serif\" font-size=\"14.00\">n=81</text>\n<text text-anchor=\"middle\" x=\"863\" y=\"-848.3\" font-family=\"Times,serif\" font-size=\"14.00\">{&#39;negative&#39;: 47, &#39;positive&#39;: 34}</text>\n</g>\n<!-- lln&#45;&gt;llrn -->\n<g id=\"edge34\" class=\"edge\">\n<title>lln&#45;&gt;llrn</title>\n<path fill=\"none\" stroke=\"black\" d=\"M863,-944.9C863,-932.42 863,-917.22 863,-903.63\"/>\n<polygon fill=\"black\" stroke=\"black\" points=\"866.5,-903.63 863,-893.63 859.5,-903.63 866.5,-903.63\"/>\n<text text-anchor=\"middle\" x=\"877.5\" y=\"-915.8\" font-family=\"Times,serif\" font-size=\"14.00\">False</text>\n</g>\n<!-- lllln -->\n<g id=\"node5\" class=\"node\">\n<title>lllln</title>\n<polygon fill=\"#ea0800\" fill-opacity=\"0.501961\" stroke=\"black\" points=\"443,-789 345,-789 345,-735 443,-735 443,-789\"/>\n<text text-anchor=\"middle\" x=\"394\" y=\"-757.8\" font-family=\"Times,serif\" font-size=\"14.00\">n=37</text>\n<text text-anchor=\"middle\" x=\"394\" y=\"-742.8\" font-family=\"Times,serif\" font-size=\"14.00\">{&#39;positive&#39;: 37}</text>\n</g>\n<!-- llln&#45;&gt;lllln -->\n<g id=\"edge1\" class=\"edge\">\n<title>llln&#45;&gt;lllln</title>\n<path fill=\"none\" stroke=\"black\" d=\"M508.04,-840.27C487.7,-826.49 462.46,-809.39 440.91,-794.78\"/>\n<polygon fill=\"black\" stroke=\"black\" points=\"442.78,-791.83 432.54,-789.11 438.85,-797.62 442.78,-791.83\"/>\n<text text-anchor=\"middle\" x=\"493\" y=\"-810.8\" font-family=\"Times,serif\" font-size=\"14.00\">True</text>\n</g>\n<!-- lllrn -->\n<g id=\"node6\" class=\"node\">\n<title>lllrn</title>\n<polygon fill=\"#ea0800\" fill-opacity=\"0.501961\" stroke=\"black\" points=\"631,-788.5 461,-788.5 461,-735.5 631,-735.5 631,-788.5\"/>\n<text text-anchor=\"middle\" x=\"546\" y=\"-773.3\" font-family=\"Times,serif\" font-size=\"14.00\">bottom&#45;middle&#45;square: b</text>\n<text text-anchor=\"middle\" x=\"546\" y=\"-758.3\" font-family=\"Times,serif\" font-size=\"14.00\">n=29</text>\n<text text-anchor=\"middle\" x=\"546\" y=\"-743.3\" font-family=\"Times,serif\" font-size=\"14.00\">{&#39;negative&#39;: 21, &#39;positive&#39;: 8}</text>\n</g>\n<!-- llln&#45;&gt;lllrn -->\n<g id=\"edge22\" class=\"edge\">\n<title>llln&#45;&gt;lllrn</title>\n<path fill=\"none\" stroke=\"black\" d=\"M546,-840.27C546,-827.74 546,-812.46 546,-798.81\"/>\n<polygon fill=\"black\" stroke=\"black\" points=\"549.5,-798.75 546,-788.75 542.5,-798.75 549.5,-798.75\"/>\n<text text-anchor=\"middle\" x=\"560.5\" y=\"-810.8\" font-family=\"Times,serif\" font-size=\"14.00\">False</text>\n</g>\n<!-- lllrln -->\n<g id=\"node7\" class=\"node\">\n<title>lllrln</title>\n<polygon fill=\"#ea0800\" fill-opacity=\"0.501961\" stroke=\"black\" points=\"370,-683.5 206,-683.5 206,-630.5 370,-630.5 370,-683.5\"/>\n<text text-anchor=\"middle\" x=\"288\" y=\"-668.3\" font-family=\"Times,serif\" font-size=\"14.00\">middle&#45;left&#45;square: o</text>\n<text text-anchor=\"middle\" x=\"288\" y=\"-653.3\" font-family=\"Times,serif\" font-size=\"14.00\">n=7</text>\n<text text-anchor=\"middle\" x=\"288\" y=\"-638.3\" font-family=\"Times,serif\" font-size=\"14.00\">{&#39;negative&#39;: 3, &#39;positive&#39;: 4}</text>\n</g>\n<!-- lllrn&#45;&gt;lllrln -->\n<g id=\"edge6\" class=\"edge\">\n<title>lllrn&#45;&gt;lllrln</title>\n<path fill=\"none\" stroke=\"black\" d=\"M481.89,-735.41C445.43,-720.85 399.63,-702.56 361.69,-687.42\"/>\n<polygon fill=\"black\" stroke=\"black\" points=\"362.81,-684.1 352.22,-683.64 360.21,-690.6 362.81,-684.1\"/>\n<text text-anchor=\"middle\" x=\"446\" y=\"-705.8\" font-family=\"Times,serif\" font-size=\"14.00\">True</text>\n</g>\n<!-- lllrrn -->\n<g id=\"node12\" class=\"node\">\n<title>lllrrn</title>\n<polygon fill=\"#ea0800\" fill-opacity=\"0.501961\" stroke=\"black\" points=\"631,-683.5 461,-683.5 461,-630.5 631,-630.5 631,-683.5\"/>\n<text text-anchor=\"middle\" x=\"546\" y=\"-668.3\" font-family=\"Times,serif\" font-size=\"14.00\">top&#45;middle&#45;square: b</text>\n<text text-anchor=\"middle\" x=\"546\" y=\"-653.3\" font-family=\"Times,serif\" font-size=\"14.00\">n=22</text>\n<text text-anchor=\"middle\" x=\"546\" y=\"-638.3\" font-family=\"Times,serif\" font-size=\"14.00\">{&#39;negative&#39;: 18, &#39;positive&#39;: 4}</text>\n</g>\n<!-- lllrn&#45;&gt;lllrrn -->\n<g id=\"edge21\" class=\"edge\">\n<title>lllrn&#45;&gt;lllrrn</title>\n<path fill=\"none\" stroke=\"black\" d=\"M546,-735.27C546,-722.74 546,-707.46 546,-693.81\"/>\n<polygon fill=\"black\" stroke=\"black\" points=\"549.5,-693.75 546,-683.75 542.5,-693.75 549.5,-693.75\"/>\n<text text-anchor=\"middle\" x=\"560.5\" y=\"-705.8\" font-family=\"Times,serif\" font-size=\"14.00\">False</text>\n</g>\n<!-- lllrlln -->\n<g id=\"node8\" class=\"node\">\n<title>lllrlln</title>\n<polygon fill=\"#ea0800\" fill-opacity=\"0.501961\" stroke=\"black\" points=\"224,-578.5 60,-578.5 60,-525.5 224,-525.5 224,-578.5\"/>\n<text text-anchor=\"middle\" x=\"142\" y=\"-563.3\" font-family=\"Times,serif\" font-size=\"14.00\">middle&#45;right&#45;square: x</text>\n<text text-anchor=\"middle\" x=\"142\" y=\"-548.3\" font-family=\"Times,serif\" font-size=\"14.00\">n=4</text>\n<text text-anchor=\"middle\" x=\"142\" y=\"-533.3\" font-family=\"Times,serif\" font-size=\"14.00\">{&#39;negative&#39;: 3, &#39;positive&#39;: 1}</text>\n</g>\n<!-- lllrln&#45;&gt;lllrlln -->\n<g id=\"edge4\" class=\"edge\">\n<title>lllrln&#45;&gt;lllrlln</title>\n<path fill=\"none\" stroke=\"black\" d=\"M251.53,-630.27C231.86,-616.4 207.42,-599.15 186.62,-584.48\"/>\n<polygon fill=\"black\" stroke=\"black\" points=\"188.44,-581.48 178.25,-578.58 184.41,-587.2 188.44,-581.48\"/>\n<text text-anchor=\"middle\" x=\"237\" y=\"-600.8\" font-family=\"Times,serif\" font-size=\"14.00\">True</text>\n</g>\n<!-- lllrlrn -->\n<g id=\"node11\" class=\"node\">\n<title>lllrlrn</title>\n<polygon fill=\"#ea0800\" fill-opacity=\"0.501961\" stroke=\"black\" points=\"334,-579 242,-579 242,-525 334,-525 334,-579\"/>\n<text text-anchor=\"middle\" x=\"288\" y=\"-547.8\" font-family=\"Times,serif\" font-size=\"14.00\">n=3</text>\n<text text-anchor=\"middle\" x=\"288\" y=\"-532.8\" font-family=\"Times,serif\" font-size=\"14.00\">{&#39;positive&#39;: 3}</text>\n</g>\n<!-- lllrln&#45;&gt;lllrlrn -->\n<g id=\"edge5\" class=\"edge\">\n<title>lllrln&#45;&gt;lllrlrn</title>\n<path fill=\"none\" stroke=\"black\" d=\"M288,-630.27C288,-617.83 288,-602.69 288,-589.12\"/>\n<polygon fill=\"black\" stroke=\"black\" points=\"291.5,-589.11 288,-579.11 284.5,-589.11 291.5,-589.11\"/>\n<text text-anchor=\"middle\" x=\"302.5\" y=\"-600.8\" font-family=\"Times,serif\" font-size=\"14.00\">False</text>\n</g>\n<!-- lllrllln -->\n<g id=\"node9\" class=\"node\">\n<title>lllrllln</title>\n<polygon fill=\"#ea0800\" fill-opacity=\"0.501961\" stroke=\"black\" points=\"92,-474 0,-474 0,-420 92,-420 92,-474\"/>\n<text text-anchor=\"middle\" x=\"46\" y=\"-442.8\" font-family=\"Times,serif\" font-size=\"14.00\">n=1</text>\n<text text-anchor=\"middle\" x=\"46\" y=\"-427.8\" font-family=\"Times,serif\" font-size=\"14.00\">{&#39;positive&#39;: 1}</text>\n</g>\n<!-- lllrlln&#45;&gt;lllrllln -->\n<g id=\"edge2\" class=\"edge\">\n<title>lllrlln&#45;&gt;lllrllln</title>\n<path fill=\"none\" stroke=\"black\" d=\"M118.02,-525.27C105.75,-512.1 90.64,-495.9 77.45,-481.74\"/>\n<polygon fill=\"black\" stroke=\"black\" points=\"79.72,-479.04 70.34,-474.11 74.6,-483.81 79.72,-479.04\"/>\n<text text-anchor=\"middle\" x=\"113\" y=\"-495.8\" font-family=\"Times,serif\" font-size=\"14.00\">True</text>\n</g>\n<!-- lllrllrn -->\n<g id=\"node10\" class=\"node\">\n<title>lllrllrn</title>\n<polygon fill=\"#ea0800\" fill-opacity=\"0.501961\" stroke=\"black\" points=\"205.5,-474 110.5,-474 110.5,-420 205.5,-420 205.5,-474\"/>\n<text text-anchor=\"middle\" x=\"158\" y=\"-442.8\" font-family=\"Times,serif\" font-size=\"14.00\">n=3</text>\n<text text-anchor=\"middle\" x=\"158\" y=\"-427.8\" font-family=\"Times,serif\" font-size=\"14.00\">{&#39;negative&#39;: 3}</text>\n</g>\n<!-- lllrlln&#45;&gt;lllrllrn -->\n<g id=\"edge3\" class=\"edge\">\n<title>lllrlln&#45;&gt;lllrllrn</title>\n<path fill=\"none\" stroke=\"black\" d=\"M146,-525.27C147.93,-512.83 150.28,-497.69 152.39,-484.12\"/>\n<polygon fill=\"black\" stroke=\"black\" points=\"155.87,-484.53 153.94,-474.11 148.95,-483.46 155.87,-484.53\"/>\n<text text-anchor=\"middle\" x=\"165.5\" y=\"-495.8\" font-family=\"Times,serif\" font-size=\"14.00\">False</text>\n</g>\n<!-- lllrrln -->\n<g id=\"node13\" class=\"node\">\n<title>lllrrln</title>\n<polygon fill=\"#ea0800\" fill-opacity=\"0.501961\" stroke=\"black\" points=\"516,-578.5 352,-578.5 352,-525.5 516,-525.5 516,-578.5\"/>\n<text text-anchor=\"middle\" x=\"434\" y=\"-563.3\" font-family=\"Times,serif\" font-size=\"14.00\">bottom&#45;middle&#45;square: x</text>\n<text text-anchor=\"middle\" x=\"434\" y=\"-548.3\" font-family=\"Times,serif\" font-size=\"14.00\">n=8</text>\n<text text-anchor=\"middle\" x=\"434\" y=\"-533.3\" font-family=\"Times,serif\" font-size=\"14.00\">{&#39;positive&#39;: 3, &#39;negative&#39;: 5}</text>\n</g>\n<!-- lllrrn&#45;&gt;lllrrln -->\n<g id=\"edge15\" class=\"edge\">\n<title>lllrrn&#45;&gt;lllrrln</title>\n<path fill=\"none\" stroke=\"black\" d=\"M518.03,-630.27C503.33,-616.76 485.16,-600.05 469.48,-585.63\"/>\n<polygon fill=\"black\" stroke=\"black\" points=\"471.73,-582.95 462,-578.75 467,-588.1 471.73,-582.95\"/>\n<text text-anchor=\"middle\" x=\"510\" y=\"-600.8\" font-family=\"Times,serif\" font-size=\"14.00\">True</text>\n</g>\n<!-- lllrrrn -->\n<g id=\"node22\" class=\"node\">\n<title>lllrrrn</title>\n<polygon fill=\"#ea0800\" fill-opacity=\"0.501961\" stroke=\"black\" points=\"704,-578.5 534,-578.5 534,-525.5 704,-525.5 704,-578.5\"/>\n<text text-anchor=\"middle\" x=\"619\" y=\"-563.3\" font-family=\"Times,serif\" font-size=\"14.00\">bottom&#45;left&#45;square: o</text>\n<text text-anchor=\"middle\" x=\"619\" y=\"-548.3\" font-family=\"Times,serif\" font-size=\"14.00\">n=14</text>\n<text text-anchor=\"middle\" x=\"619\" y=\"-533.3\" font-family=\"Times,serif\" font-size=\"14.00\">{&#39;negative&#39;: 13, &#39;positive&#39;: 1}</text>\n</g>\n<!-- lllrrn&#45;&gt;lllrrrn -->\n<g id=\"edge20\" class=\"edge\">\n<title>lllrrn&#45;&gt;lllrrrn</title>\n<path fill=\"none\" stroke=\"black\" d=\"M564.23,-630.27C573.47,-617.25 584.8,-601.26 594.76,-587.21\"/>\n<polygon fill=\"black\" stroke=\"black\" points=\"597.82,-588.94 600.75,-578.75 592.11,-584.89 597.82,-588.94\"/>\n<text text-anchor=\"middle\" x=\"601.5\" y=\"-600.8\" font-family=\"Times,serif\" font-size=\"14.00\">False</text>\n</g>\n<!-- lllrrlln -->\n<g id=\"node14\" class=\"node\">\n<title>lllrrlln</title>\n<polygon fill=\"#ea0800\" fill-opacity=\"0.501961\" stroke=\"black\" points=\"333.5,-474 238.5,-474 238.5,-420 333.5,-420 333.5,-474\"/>\n<text text-anchor=\"middle\" x=\"286\" y=\"-442.8\" font-family=\"Times,serif\" font-size=\"14.00\">n=3</text>\n<text text-anchor=\"middle\" x=\"286\" y=\"-427.8\" font-family=\"Times,serif\" font-size=\"14.00\">{&#39;negative&#39;: 3}</text>\n</g>\n<!-- lllrrln&#45;&gt;lllrrlln -->\n<g id=\"edge7\" class=\"edge\">\n<title>lllrrln&#45;&gt;lllrrlln</title>\n<path fill=\"none\" stroke=\"black\" d=\"M397.04,-525.27C377.32,-511.55 352.88,-494.54 331.95,-479.98\"/>\n<polygon fill=\"black\" stroke=\"black\" points=\"333.73,-476.95 323.52,-474.11 329.73,-482.7 333.73,-476.95\"/>\n<text text-anchor=\"middle\" x=\"382\" y=\"-495.8\" font-family=\"Times,serif\" font-size=\"14.00\">True</text>\n</g>\n<!-- lllrrlrn -->\n<g id=\"node15\" class=\"node\">\n<title>lllrrlrn</title>\n<polygon fill=\"#ea0800\" fill-opacity=\"0.501961\" stroke=\"black\" points=\"516,-473.5 352,-473.5 352,-420.5 516,-420.5 516,-473.5\"/>\n<text text-anchor=\"middle\" x=\"434\" y=\"-458.3\" font-family=\"Times,serif\" font-size=\"14.00\">bottom&#45;right&#45;square: o</text>\n<text text-anchor=\"middle\" x=\"434\" y=\"-443.3\" font-family=\"Times,serif\" font-size=\"14.00\">n=5</text>\n<text text-anchor=\"middle\" x=\"434\" y=\"-428.3\" font-family=\"Times,serif\" font-size=\"14.00\">{&#39;positive&#39;: 3, &#39;negative&#39;: 2}</text>\n</g>\n<!-- lllrrln&#45;&gt;lllrrlrn -->\n<g id=\"edge14\" class=\"edge\">\n<title>lllrrln&#45;&gt;lllrrlrn</title>\n<path fill=\"none\" stroke=\"black\" d=\"M434,-525.27C434,-512.74 434,-497.46 434,-483.81\"/>\n<polygon fill=\"black\" stroke=\"black\" points=\"437.5,-483.75 434,-473.75 430.5,-483.75 437.5,-483.75\"/>\n<text text-anchor=\"middle\" x=\"448.5\" y=\"-495.8\" font-family=\"Times,serif\" font-size=\"14.00\">False</text>\n</g>\n<!-- lllrrlrln -->\n<g id=\"node16\" class=\"node\">\n<title>lllrrlrln</title>\n<polygon fill=\"#ea0800\" fill-opacity=\"0.501961\" stroke=\"black\" points=\"350.5,-369 255.5,-369 255.5,-315 350.5,-315 350.5,-369\"/>\n<text text-anchor=\"middle\" x=\"303\" y=\"-337.8\" font-family=\"Times,serif\" font-size=\"14.00\">n=1</text>\n<text text-anchor=\"middle\" x=\"303\" y=\"-322.8\" font-family=\"Times,serif\" font-size=\"14.00\">{&#39;negative&#39;: 1}</text>\n</g>\n<!-- lllrrlrn&#45;&gt;lllrrlrln -->\n<g id=\"edge8\" class=\"edge\">\n<title>lllrrlrn&#45;&gt;lllrrlrln</title>\n<path fill=\"none\" stroke=\"black\" d=\"M401.28,-420.27C384.06,-406.74 362.77,-390 344.41,-375.56\"/>\n<polygon fill=\"black\" stroke=\"black\" points=\"346.24,-372.54 336.21,-369.11 341.91,-378.05 346.24,-372.54\"/>\n<text text-anchor=\"middle\" x=\"390\" y=\"-390.8\" font-family=\"Times,serif\" font-size=\"14.00\">True</text>\n</g>\n<!-- lllrrlrrn -->\n<g id=\"node17\" class=\"node\">\n<title>lllrrlrrn</title>\n<polygon fill=\"#ea0800\" fill-opacity=\"0.501961\" stroke=\"black\" points=\"533,-368.5 369,-368.5 369,-315.5 533,-315.5 533,-368.5\"/>\n<text text-anchor=\"middle\" x=\"451\" y=\"-353.3\" font-family=\"Times,serif\" font-size=\"14.00\">middle&#45;left&#45;square: o</text>\n<text text-anchor=\"middle\" x=\"451\" y=\"-338.3\" font-family=\"Times,serif\" font-size=\"14.00\">n=4</text>\n<text text-anchor=\"middle\" x=\"451\" y=\"-323.3\" font-family=\"Times,serif\" font-size=\"14.00\">{&#39;positive&#39;: 3, &#39;negative&#39;: 1}</text>\n</g>\n<!-- lllrrlrn&#45;&gt;lllrrlrrn -->\n<g id=\"edge13\" class=\"edge\">\n<title>lllrrlrn&#45;&gt;lllrrlrrn</title>\n<path fill=\"none\" stroke=\"black\" d=\"M438.25,-420.27C440.31,-407.74 442.84,-392.46 445.09,-378.81\"/>\n<polygon fill=\"black\" stroke=\"black\" points=\"448.57,-379.19 446.75,-368.75 441.67,-378.05 448.57,-379.19\"/>\n<text text-anchor=\"middle\" x=\"458.5\" y=\"-390.8\" font-family=\"Times,serif\" font-size=\"14.00\">False</text>\n</g>\n<!-- lllrrlrrln -->\n<g id=\"node18\" class=\"node\">\n<title>lllrrlrrln</title>\n<polygon fill=\"#ea0800\" fill-opacity=\"0.501961\" stroke=\"black\" points=\"436,-263.5 272,-263.5 272,-210.5 436,-210.5 436,-263.5\"/>\n<text text-anchor=\"middle\" x=\"354\" y=\"-248.3\" font-family=\"Times,serif\" font-size=\"14.00\">middle&#45;right&#45;square: x</text>\n<text text-anchor=\"middle\" x=\"354\" y=\"-233.3\" font-family=\"Times,serif\" font-size=\"14.00\">n=2</text>\n<text text-anchor=\"middle\" x=\"354\" y=\"-218.3\" font-family=\"Times,serif\" font-size=\"14.00\">{&#39;negative&#39;: 1, &#39;positive&#39;: 1}</text>\n</g>\n<!-- lllrrlrrn&#45;&gt;lllrrlrrln -->\n<g id=\"edge11\" class=\"edge\">\n<title>lllrrlrrn&#45;&gt;lllrrlrrln</title>\n<path fill=\"none\" stroke=\"black\" d=\"M426.77,-315.27C414.27,-302 398.88,-285.65 385.47,-271.41\"/>\n<polygon fill=\"black\" stroke=\"black\" points=\"387.66,-268.63 378.25,-263.75 382.56,-273.43 387.66,-268.63\"/>\n<text text-anchor=\"middle\" x=\"422\" y=\"-285.8\" font-family=\"Times,serif\" font-size=\"14.00\">True</text>\n</g>\n<!-- lllrrlrrrn -->\n<g id=\"node21\" class=\"node\">\n<title>lllrrlrrrn</title>\n<polygon fill=\"#ea0800\" fill-opacity=\"0.501961\" stroke=\"black\" points=\"546,-264 454,-264 454,-210 546,-210 546,-264\"/>\n<text text-anchor=\"middle\" x=\"500\" y=\"-232.8\" font-family=\"Times,serif\" font-size=\"14.00\">n=2</text>\n<text text-anchor=\"middle\" x=\"500\" y=\"-217.8\" font-family=\"Times,serif\" font-size=\"14.00\">{&#39;positive&#39;: 2}</text>\n</g>\n<!-- lllrrlrrn&#45;&gt;lllrrlrrrn -->\n<g id=\"edge12\" class=\"edge\">\n<title>lllrrlrrn&#45;&gt;lllrrlrrrn</title>\n<path fill=\"none\" stroke=\"black\" d=\"M463.24,-315.27C469.27,-302.59 476.64,-287.1 483.2,-273.32\"/>\n<polygon fill=\"black\" stroke=\"black\" points=\"486.44,-274.65 487.58,-264.11 480.12,-271.64 486.44,-274.65\"/>\n<text text-anchor=\"middle\" x=\"493.5\" y=\"-285.8\" font-family=\"Times,serif\" font-size=\"14.00\">False</text>\n</g>\n<!-- lllrrlrrlln -->\n<g id=\"node19\" class=\"node\">\n<title>lllrrlrrlln</title>\n<polygon fill=\"#ea0800\" fill-opacity=\"0.501961\" stroke=\"black\" points=\"344,-159 252,-159 252,-105 344,-105 344,-159\"/>\n<text text-anchor=\"middle\" x=\"298\" y=\"-127.8\" font-family=\"Times,serif\" font-size=\"14.00\">n=1</text>\n<text text-anchor=\"middle\" x=\"298\" y=\"-112.8\" font-family=\"Times,serif\" font-size=\"14.00\">{&#39;positive&#39;: 1}</text>\n</g>\n<!-- lllrrlrrln&#45;&gt;lllrrlrrlln -->\n<g id=\"edge9\" class=\"edge\">\n<title>lllrrlrrln&#45;&gt;lllrrlrrlln</title>\n<path fill=\"none\" stroke=\"black\" d=\"M340.01,-210.27C333.05,-197.47 324.53,-181.8 316.99,-167.92\"/>\n<polygon fill=\"black\" stroke=\"black\" points=\"320.05,-166.23 312.2,-159.11 313.9,-169.57 320.05,-166.23\"/>\n<text text-anchor=\"middle\" x=\"343\" y=\"-180.8\" font-family=\"Times,serif\" font-size=\"14.00\">True</text>\n</g>\n<!-- lllrrlrrlrn -->\n<g id=\"node20\" class=\"node\">\n<title>lllrrlrrlrn</title>\n<polygon fill=\"#ea0800\" fill-opacity=\"0.501961\" stroke=\"black\" points=\"457.5,-159 362.5,-159 362.5,-105 457.5,-105 457.5,-159\"/>\n<text text-anchor=\"middle\" x=\"410\" y=\"-127.8\" font-family=\"Times,serif\" font-size=\"14.00\">n=1</text>\n<text text-anchor=\"middle\" x=\"410\" y=\"-112.8\" font-family=\"Times,serif\" font-size=\"14.00\">{&#39;negative&#39;: 1}</text>\n</g>\n<!-- lllrrlrrln&#45;&gt;lllrrlrrlrn -->\n<g id=\"edge10\" class=\"edge\">\n<title>lllrrlrrln&#45;&gt;lllrrlrrlrn</title>\n<path fill=\"none\" stroke=\"black\" d=\"M367.99,-210.27C374.95,-197.47 383.47,-181.8 391.01,-167.92\"/>\n<polygon fill=\"black\" stroke=\"black\" points=\"394.1,-169.57 395.8,-159.11 387.95,-166.23 394.1,-169.57\"/>\n<text text-anchor=\"middle\" x=\"400.5\" y=\"-180.8\" font-family=\"Times,serif\" font-size=\"14.00\">False</text>\n</g>\n<!-- lllrrrln -->\n<g id=\"node23\" class=\"node\">\n<title>lllrrrln</title>\n<polygon fill=\"#ea0800\" fill-opacity=\"0.501961\" stroke=\"black\" points=\"698,-473.5 534,-473.5 534,-420.5 698,-420.5 698,-473.5\"/>\n<text text-anchor=\"middle\" x=\"616\" y=\"-458.3\" font-family=\"Times,serif\" font-size=\"14.00\">middle&#45;left&#45;square: x</text>\n<text text-anchor=\"middle\" x=\"616\" y=\"-443.3\" font-family=\"Times,serif\" font-size=\"14.00\">n=4</text>\n<text text-anchor=\"middle\" x=\"616\" y=\"-428.3\" font-family=\"Times,serif\" font-size=\"14.00\">{&#39;negative&#39;: 3, &#39;positive&#39;: 1}</text>\n</g>\n<!-- lllrrrn&#45;&gt;lllrrrln -->\n<g id=\"edge18\" class=\"edge\">\n<title>lllrrrn&#45;&gt;lllrrrln</title>\n<path fill=\"none\" stroke=\"black\" d=\"M618.25,-525.27C617.89,-512.74 617.44,-497.46 617.04,-483.81\"/>\n<polygon fill=\"black\" stroke=\"black\" points=\"620.54,-483.65 616.75,-473.75 613.54,-483.85 620.54,-483.65\"/>\n<text text-anchor=\"middle\" x=\"631\" y=\"-495.8\" font-family=\"Times,serif\" font-size=\"14.00\">True</text>\n</g>\n<!-- lllrrrrn -->\n<g id=\"node26\" class=\"node\">\n<title>lllrrrrn</title>\n<polygon fill=\"#ea0800\" fill-opacity=\"0.501961\" stroke=\"black\" points=\"817.5,-474 716.5,-474 716.5,-420 817.5,-420 817.5,-474\"/>\n<text text-anchor=\"middle\" x=\"767\" y=\"-442.8\" font-family=\"Times,serif\" font-size=\"14.00\">n=10</text>\n<text text-anchor=\"middle\" x=\"767\" y=\"-427.8\" font-family=\"Times,serif\" font-size=\"14.00\">{&#39;negative&#39;: 10}</text>\n</g>\n<!-- lllrrrn&#45;&gt;lllrrrrn -->\n<g id=\"edge19\" class=\"edge\">\n<title>lllrrrn&#45;&gt;lllrrrrn</title>\n<path fill=\"none\" stroke=\"black\" d=\"M655.96,-525.27C675.68,-511.55 700.12,-494.54 721.05,-479.98\"/>\n<polygon fill=\"black\" stroke=\"black\" points=\"723.27,-482.7 729.48,-474.11 719.27,-476.95 723.27,-482.7\"/>\n<text text-anchor=\"middle\" x=\"716.5\" y=\"-495.8\" font-family=\"Times,serif\" font-size=\"14.00\">False</text>\n</g>\n<!-- lllrrrlln -->\n<g id=\"node24\" class=\"node\">\n<title>lllrrrlln</title>\n<polygon fill=\"#ea0800\" fill-opacity=\"0.501961\" stroke=\"black\" points=\"647.5,-369 552.5,-369 552.5,-315 647.5,-315 647.5,-369\"/>\n<text text-anchor=\"middle\" x=\"600\" y=\"-337.8\" font-family=\"Times,serif\" font-size=\"14.00\">n=3</text>\n<text text-anchor=\"middle\" x=\"600\" y=\"-322.8\" font-family=\"Times,serif\" font-size=\"14.00\">{&#39;negative&#39;: 3}</text>\n</g>\n<!-- lllrrrln&#45;&gt;lllrrrlln -->\n<g id=\"edge16\" class=\"edge\">\n<title>lllrrrln&#45;&gt;lllrrrlln</title>\n<path fill=\"none\" stroke=\"black\" d=\"M612,-420.27C610.07,-407.83 607.72,-392.69 605.61,-379.12\"/>\n<polygon fill=\"black\" stroke=\"black\" points=\"609.05,-378.46 604.06,-369.11 602.13,-379.53 609.05,-378.46\"/>\n<text text-anchor=\"middle\" x=\"622\" y=\"-390.8\" font-family=\"Times,serif\" font-size=\"14.00\">True</text>\n</g>\n<!-- lllrrrlrn -->\n<g id=\"node25\" class=\"node\">\n<title>lllrrrlrn</title>\n<polygon fill=\"#ea0800\" fill-opacity=\"0.501961\" stroke=\"black\" points=\"758,-369 666,-369 666,-315 758,-315 758,-369\"/>\n<text text-anchor=\"middle\" x=\"712\" y=\"-337.8\" font-family=\"Times,serif\" font-size=\"14.00\">n=1</text>\n<text text-anchor=\"middle\" x=\"712\" y=\"-322.8\" font-family=\"Times,serif\" font-size=\"14.00\">{&#39;positive&#39;: 1}</text>\n</g>\n<!-- lllrrrln&#45;&gt;lllrrrlrn -->\n<g id=\"edge17\" class=\"edge\">\n<title>lllrrrln&#45;&gt;lllrrrlrn</title>\n<path fill=\"none\" stroke=\"black\" d=\"M639.98,-420.27C652.25,-407.1 667.36,-390.9 680.55,-376.74\"/>\n<polygon fill=\"black\" stroke=\"black\" points=\"683.4,-378.81 687.66,-369.11 678.28,-374.04 683.4,-378.81\"/>\n<text text-anchor=\"middle\" x=\"684.5\" y=\"-390.8\" font-family=\"Times,serif\" font-size=\"14.00\">False</text>\n</g>\n<!-- llrln -->\n<g id=\"node28\" class=\"node\">\n<title>llrln</title>\n<polygon fill=\"#ea0800\" fill-opacity=\"0.501961\" stroke=\"black\" points=\"872.5,-788.5 695.5,-788.5 695.5,-735.5 872.5,-735.5 872.5,-788.5\"/>\n<text text-anchor=\"middle\" x=\"784\" y=\"-773.3\" font-family=\"Times,serif\" font-size=\"14.00\">middle&#45;left&#45;square: x</text>\n<text text-anchor=\"middle\" x=\"784\" y=\"-758.3\" font-family=\"Times,serif\" font-size=\"14.00\">n=46</text>\n<text text-anchor=\"middle\" x=\"784\" y=\"-743.3\" font-family=\"Times,serif\" font-size=\"14.00\">{&#39;negative&#39;: 12, &#39;positive&#39;: 34}</text>\n</g>\n<!-- llrn&#45;&gt;llrln -->\n<g id=\"edge32\" class=\"edge\">\n<title>llrn&#45;&gt;llrln</title>\n<path fill=\"none\" stroke=\"black\" d=\"M843.27,-840.27C833.18,-827.12 820.78,-810.95 809.93,-796.81\"/>\n<polygon fill=\"black\" stroke=\"black\" points=\"812.62,-794.56 803.75,-788.75 807.06,-798.82 812.62,-794.56\"/>\n<text text-anchor=\"middle\" x=\"842\" y=\"-810.8\" font-family=\"Times,serif\" font-size=\"14.00\">True</text>\n</g>\n<!-- llrrn -->\n<g id=\"node37\" class=\"node\">\n<title>llrrn</title>\n<polygon fill=\"#ea0800\" fill-opacity=\"0.501961\" stroke=\"black\" points=\"991.5,-789 890.5,-789 890.5,-735 991.5,-735 991.5,-789\"/>\n<text text-anchor=\"middle\" x=\"941\" y=\"-757.8\" font-family=\"Times,serif\" font-size=\"14.00\">n=35</text>\n<text text-anchor=\"middle\" x=\"941\" y=\"-742.8\" font-family=\"Times,serif\" font-size=\"14.00\">{&#39;negative&#39;: 35}</text>\n</g>\n<!-- llrn&#45;&gt;llrrn -->\n<g id=\"edge33\" class=\"edge\">\n<title>llrn&#45;&gt;llrrn</title>\n<path fill=\"none\" stroke=\"black\" d=\"M882.48,-840.27C892.36,-827.22 904.5,-811.2 915.15,-797.13\"/>\n<polygon fill=\"black\" stroke=\"black\" points=\"917.98,-799.2 921.23,-789.11 912.4,-794.97 917.98,-799.2\"/>\n<text text-anchor=\"middle\" x=\"921.5\" y=\"-810.8\" font-family=\"Times,serif\" font-size=\"14.00\">False</text>\n</g>\n<!-- llrlln -->\n<g id=\"node29\" class=\"node\">\n<title>llrlln</title>\n<polygon fill=\"#ea0800\" fill-opacity=\"0.501961\" stroke=\"black\" points=\"778,-684 680,-684 680,-630 778,-630 778,-684\"/>\n<text text-anchor=\"middle\" x=\"729\" y=\"-652.8\" font-family=\"Times,serif\" font-size=\"14.00\">n=28</text>\n<text text-anchor=\"middle\" x=\"729\" y=\"-637.8\" font-family=\"Times,serif\" font-size=\"14.00\">{&#39;positive&#39;: 28}</text>\n</g>\n<!-- llrln&#45;&gt;llrlln -->\n<g id=\"edge24\" class=\"edge\">\n<title>llrln&#45;&gt;llrlln</title>\n<path fill=\"none\" stroke=\"black\" d=\"M770.26,-735.27C763.49,-722.59 755.22,-707.1 747.86,-693.32\"/>\n<polygon fill=\"black\" stroke=\"black\" points=\"750.74,-691.29 742.94,-684.11 744.57,-694.58 750.74,-691.29\"/>\n<text text-anchor=\"middle\" x=\"773\" y=\"-705.8\" font-family=\"Times,serif\" font-size=\"14.00\">True</text>\n</g>\n<!-- llrlrn -->\n<g id=\"node30\" class=\"node\">\n<title>llrlrn</title>\n<polygon fill=\"#ea0800\" fill-opacity=\"0.501961\" stroke=\"black\" points=\"966,-683.5 796,-683.5 796,-630.5 966,-630.5 966,-683.5\"/>\n<text text-anchor=\"middle\" x=\"881\" y=\"-668.3\" font-family=\"Times,serif\" font-size=\"14.00\">middle&#45;right&#45;square: b</text>\n<text text-anchor=\"middle\" x=\"881\" y=\"-653.3\" font-family=\"Times,serif\" font-size=\"14.00\">n=18</text>\n<text text-anchor=\"middle\" x=\"881\" y=\"-638.3\" font-family=\"Times,serif\" font-size=\"14.00\">{&#39;negative&#39;: 12, &#39;positive&#39;: 6}</text>\n</g>\n<!-- llrln&#45;&gt;llrlrn -->\n<g id=\"edge31\" class=\"edge\">\n<title>llrln&#45;&gt;llrlrn</title>\n<path fill=\"none\" stroke=\"black\" d=\"M808.23,-735.27C820.73,-722 836.12,-705.65 849.53,-691.41\"/>\n<polygon fill=\"black\" stroke=\"black\" points=\"852.44,-693.43 856.75,-683.75 847.34,-688.63 852.44,-693.43\"/>\n<text text-anchor=\"middle\" x=\"853.5\" y=\"-705.8\" font-family=\"Times,serif\" font-size=\"14.00\">False</text>\n</g>\n<!-- llrlrln -->\n<g id=\"node31\" class=\"node\">\n<title>llrlrln</title>\n<polygon fill=\"#ea0800\" fill-opacity=\"0.501961\" stroke=\"black\" points=\"881,-579 789,-579 789,-525 881,-525 881,-579\"/>\n<text text-anchor=\"middle\" x=\"835\" y=\"-547.8\" font-family=\"Times,serif\" font-size=\"14.00\">n=3</text>\n<text text-anchor=\"middle\" x=\"835\" y=\"-532.8\" font-family=\"Times,serif\" font-size=\"14.00\">{&#39;positive&#39;: 3}</text>\n</g>\n<!-- llrlrn&#45;&gt;llrlrln -->\n<g id=\"edge25\" class=\"edge\">\n<title>llrlrn&#45;&gt;llrlrln</title>\n<path fill=\"none\" stroke=\"black\" d=\"M869.51,-630.27C863.85,-617.59 856.93,-602.1 850.77,-588.32\"/>\n<polygon fill=\"black\" stroke=\"black\" points=\"853.94,-586.82 846.66,-579.11 847.54,-589.67 853.94,-586.82\"/>\n<text text-anchor=\"middle\" x=\"874\" y=\"-600.8\" font-family=\"Times,serif\" font-size=\"14.00\">True</text>\n</g>\n<!-- llrlrrn -->\n<g id=\"node32\" class=\"node\">\n<title>llrlrrn</title>\n<polygon fill=\"#ea0800\" fill-opacity=\"0.501961\" stroke=\"black\" points=\"1069,-578.5 899,-578.5 899,-525.5 1069,-525.5 1069,-578.5\"/>\n<text text-anchor=\"middle\" x=\"984\" y=\"-563.3\" font-family=\"Times,serif\" font-size=\"14.00\">bottom&#45;middle&#45;square: x</text>\n<text text-anchor=\"middle\" x=\"984\" y=\"-548.3\" font-family=\"Times,serif\" font-size=\"14.00\">n=15</text>\n<text text-anchor=\"middle\" x=\"984\" y=\"-533.3\" font-family=\"Times,serif\" font-size=\"14.00\">{&#39;negative&#39;: 12, &#39;positive&#39;: 3}</text>\n</g>\n<!-- llrlrn&#45;&gt;llrlrrn -->\n<g id=\"edge30\" class=\"edge\">\n<title>llrlrn&#45;&gt;llrlrrn</title>\n<path fill=\"none\" stroke=\"black\" d=\"M906.73,-630.27C920.12,-616.88 936.65,-600.35 950.98,-586.02\"/>\n<polygon fill=\"black\" stroke=\"black\" points=\"953.65,-588.3 958.25,-578.75 948.7,-583.35 953.65,-588.3\"/>\n<text text-anchor=\"middle\" x=\"953.5\" y=\"-600.8\" font-family=\"Times,serif\" font-size=\"14.00\">False</text>\n</g>\n<!-- llrlrrln -->\n<g id=\"node33\" class=\"node\">\n<title>llrlrrln</title>\n<polygon fill=\"#ea0800\" fill-opacity=\"0.501961\" stroke=\"black\" points=\"1000,-473.5 836,-473.5 836,-420.5 1000,-420.5 1000,-473.5\"/>\n<text text-anchor=\"middle\" x=\"918\" y=\"-458.3\" font-family=\"Times,serif\" font-size=\"14.00\">bottom&#45;right&#45;square: x</text>\n<text text-anchor=\"middle\" x=\"918\" y=\"-443.3\" font-family=\"Times,serif\" font-size=\"14.00\">n=7</text>\n<text text-anchor=\"middle\" x=\"918\" y=\"-428.3\" font-family=\"Times,serif\" font-size=\"14.00\">{&#39;negative&#39;: 4, &#39;positive&#39;: 3}</text>\n</g>\n<!-- llrlrrn&#45;&gt;llrlrrln -->\n<g id=\"edge28\" class=\"edge\">\n<title>llrlrrn&#45;&gt;llrlrrln</title>\n<path fill=\"none\" stroke=\"black\" d=\"M967.52,-525.27C959.17,-512.25 948.92,-496.26 939.92,-482.21\"/>\n<polygon fill=\"black\" stroke=\"black\" points=\"942.85,-480.29 934.5,-473.75 936.95,-484.06 942.85,-480.29\"/>\n<text text-anchor=\"middle\" x=\"968\" y=\"-495.8\" font-family=\"Times,serif\" font-size=\"14.00\">True</text>\n</g>\n<!-- llrlrrrn -->\n<g id=\"node36\" class=\"node\">\n<title>llrlrrrn</title>\n<polygon fill=\"#ea0800\" fill-opacity=\"0.501961\" stroke=\"black\" points=\"1113.5,-474 1018.5,-474 1018.5,-420 1113.5,-420 1113.5,-474\"/>\n<text text-anchor=\"middle\" x=\"1066\" y=\"-442.8\" font-family=\"Times,serif\" font-size=\"14.00\">n=8</text>\n<text text-anchor=\"middle\" x=\"1066\" y=\"-427.8\" font-family=\"Times,serif\" font-size=\"14.00\">{&#39;negative&#39;: 8}</text>\n</g>\n<!-- llrlrrn&#45;&gt;llrlrrrn -->\n<g id=\"edge29\" class=\"edge\">\n<title>llrlrrn&#45;&gt;llrlrrrn</title>\n<path fill=\"none\" stroke=\"black\" d=\"M1004.48,-525.27C1014.87,-512.22 1027.63,-496.2 1038.83,-482.13\"/>\n<polygon fill=\"black\" stroke=\"black\" points=\"1041.72,-484.12 1045.21,-474.11 1036.24,-479.76 1041.72,-484.12\"/>\n<text text-anchor=\"middle\" x=\"1044.5\" y=\"-495.8\" font-family=\"Times,serif\" font-size=\"14.00\">False</text>\n</g>\n<!-- llrlrrlln -->\n<g id=\"node34\" class=\"node\">\n<title>llrlrrlln</title>\n<polygon fill=\"#ea0800\" fill-opacity=\"0.501961\" stroke=\"black\" points=\"868,-369 776,-369 776,-315 868,-315 868,-369\"/>\n<text text-anchor=\"middle\" x=\"822\" y=\"-337.8\" font-family=\"Times,serif\" font-size=\"14.00\">n=3</text>\n<text text-anchor=\"middle\" x=\"822\" y=\"-322.8\" font-family=\"Times,serif\" font-size=\"14.00\">{&#39;positive&#39;: 3}</text>\n</g>\n<!-- llrlrrln&#45;&gt;llrlrrlln -->\n<g id=\"edge26\" class=\"edge\">\n<title>llrlrrln&#45;&gt;llrlrrlln</title>\n<path fill=\"none\" stroke=\"black\" d=\"M894.02,-420.27C881.75,-407.1 866.64,-390.9 853.45,-376.74\"/>\n<polygon fill=\"black\" stroke=\"black\" points=\"855.72,-374.04 846.34,-369.11 850.6,-378.81 855.72,-374.04\"/>\n<text text-anchor=\"middle\" x=\"889\" y=\"-390.8\" font-family=\"Times,serif\" font-size=\"14.00\">True</text>\n</g>\n<!-- llrlrrlrn -->\n<g id=\"node35\" class=\"node\">\n<title>llrlrrlrn</title>\n<polygon fill=\"#ea0800\" fill-opacity=\"0.501961\" stroke=\"black\" points=\"981.5,-369 886.5,-369 886.5,-315 981.5,-315 981.5,-369\"/>\n<text text-anchor=\"middle\" x=\"934\" y=\"-337.8\" font-family=\"Times,serif\" font-size=\"14.00\">n=4</text>\n<text text-anchor=\"middle\" x=\"934\" y=\"-322.8\" font-family=\"Times,serif\" font-size=\"14.00\">{&#39;negative&#39;: 4}</text>\n</g>\n<!-- llrlrrln&#45;&gt;llrlrrlrn -->\n<g id=\"edge27\" class=\"edge\">\n<title>llrlrrln&#45;&gt;llrlrrlrn</title>\n<path fill=\"none\" stroke=\"black\" d=\"M922,-420.27C923.93,-407.83 926.28,-392.69 928.39,-379.12\"/>\n<polygon fill=\"black\" stroke=\"black\" points=\"931.87,-379.53 929.94,-369.11 924.95,-378.46 931.87,-379.53\"/>\n<text text-anchor=\"middle\" x=\"941.5\" y=\"-390.8\" font-family=\"Times,serif\" font-size=\"14.00\">False</text>\n</g>\n<!-- lrln -->\n<g id=\"node39\" class=\"node\">\n<title>lrln</title>\n<polygon fill=\"#ea0800\" fill-opacity=\"0.501961\" stroke=\"black\" points=\"1832.5,-893.5 1655.5,-893.5 1655.5,-840.5 1832.5,-840.5 1832.5,-893.5\"/>\n<text text-anchor=\"middle\" x=\"1744\" y=\"-878.3\" font-family=\"Times,serif\" font-size=\"14.00\">top&#45;middle&#45;square: x</text>\n<text text-anchor=\"middle\" x=\"1744\" y=\"-863.3\" font-family=\"Times,serif\" font-size=\"14.00\">n=90</text>\n<text text-anchor=\"middle\" x=\"1744\" y=\"-848.3\" font-family=\"Times,serif\" font-size=\"14.00\">{&#39;positive&#39;: 55, &#39;negative&#39;: 35}</text>\n</g>\n<!-- lrn&#45;&gt;lrln -->\n<g id=\"edge66\" class=\"edge\">\n<title>lrn&#45;&gt;lrln</title>\n<path fill=\"none\" stroke=\"black\" d=\"M1803.27,-944.9C1793.18,-931.81 1780.78,-915.72 1769.93,-901.65\"/>\n<polygon fill=\"black\" stroke=\"black\" points=\"1772.63,-899.41 1763.75,-893.63 1767.09,-903.69 1772.63,-899.41\"/>\n<text text-anchor=\"middle\" x=\"1802\" y=\"-915.8\" font-family=\"Times,serif\" font-size=\"14.00\">True</text>\n</g>\n<!-- lrrn -->\n<g id=\"node70\" class=\"node\">\n<title>lrrn</title>\n<polygon fill=\"#ea0800\" fill-opacity=\"0.501961\" stroke=\"black\" points=\"1951.5,-894 1850.5,-894 1850.5,-840 1951.5,-840 1951.5,-894\"/>\n<text text-anchor=\"middle\" x=\"1901\" y=\"-862.8\" font-family=\"Times,serif\" font-size=\"14.00\">n=69</text>\n<text text-anchor=\"middle\" x=\"1901\" y=\"-847.8\" font-family=\"Times,serif\" font-size=\"14.00\">{&#39;negative&#39;: 69}</text>\n</g>\n<!-- lrn&#45;&gt;lrrn -->\n<g id=\"edge67\" class=\"edge\">\n<title>lrn&#45;&gt;lrrn</title>\n<path fill=\"none\" stroke=\"black\" d=\"M1842.48,-944.9C1852.2,-932.13 1864.09,-916.5 1874.61,-902.68\"/>\n<polygon fill=\"black\" stroke=\"black\" points=\"1877.68,-904.42 1880.95,-894.34 1872.11,-900.18 1877.68,-904.42\"/>\n<text text-anchor=\"middle\" x=\"1881.5\" y=\"-915.8\" font-family=\"Times,serif\" font-size=\"14.00\">False</text>\n</g>\n<!-- lrlln -->\n<g id=\"node40\" class=\"node\">\n<title>lrlln</title>\n<polygon fill=\"#ea0800\" fill-opacity=\"0.501961\" stroke=\"black\" points=\"1638.5,-788.5 1461.5,-788.5 1461.5,-735.5 1638.5,-735.5 1638.5,-788.5\"/>\n<text text-anchor=\"middle\" x=\"1550\" y=\"-773.3\" font-family=\"Times,serif\" font-size=\"14.00\">bottom&#45;left&#45;square: o</text>\n<text text-anchor=\"middle\" x=\"1550\" y=\"-758.3\" font-family=\"Times,serif\" font-size=\"14.00\">n=31</text>\n<text text-anchor=\"middle\" x=\"1550\" y=\"-743.3\" font-family=\"Times,serif\" font-size=\"14.00\">{&#39;positive&#39;: 12, &#39;negative&#39;: 19}</text>\n</g>\n<!-- lrln&#45;&gt;lrlln -->\n<g id=\"edge50\" class=\"edge\">\n<title>lrln&#45;&gt;lrlln</title>\n<path fill=\"none\" stroke=\"black\" d=\"M1695.55,-840.27C1668.71,-826.03 1635.19,-808.23 1607.09,-793.31\"/>\n<polygon fill=\"black\" stroke=\"black\" points=\"1608.65,-790.17 1598.17,-788.58 1605.36,-796.36 1608.65,-790.17\"/>\n<text text-anchor=\"middle\" x=\"1672\" y=\"-810.8\" font-family=\"Times,serif\" font-size=\"14.00\">True</text>\n</g>\n<!-- lrlrn -->\n<g id=\"node55\" class=\"node\">\n<title>lrlrn</title>\n<polygon fill=\"#ea0800\" fill-opacity=\"0.501961\" stroke=\"black\" points=\"1960.5,-788.5 1783.5,-788.5 1783.5,-735.5 1960.5,-735.5 1960.5,-788.5\"/>\n<text text-anchor=\"middle\" x=\"1872\" y=\"-773.3\" font-family=\"Times,serif\" font-size=\"14.00\">bottom&#45;middle&#45;square: o</text>\n<text text-anchor=\"middle\" x=\"1872\" y=\"-758.3\" font-family=\"Times,serif\" font-size=\"14.00\">n=59</text>\n<text text-anchor=\"middle\" x=\"1872\" y=\"-743.3\" font-family=\"Times,serif\" font-size=\"14.00\">{&#39;positive&#39;: 43, &#39;negative&#39;: 16}</text>\n</g>\n<!-- lrln&#45;&gt;lrlrn -->\n<g id=\"edge65\" class=\"edge\">\n<title>lrln&#45;&gt;lrlrn</title>\n<path fill=\"none\" stroke=\"black\" d=\"M1775.97,-840.27C1792.92,-826.63 1813.91,-809.74 1831.94,-795.23\"/>\n<polygon fill=\"black\" stroke=\"black\" points=\"1834.4,-797.75 1839.99,-788.75 1830.01,-792.3 1834.4,-797.75\"/>\n<text text-anchor=\"middle\" x=\"1830.5\" y=\"-810.8\" font-family=\"Times,serif\" font-size=\"14.00\">False</text>\n</g>\n<!-- lrllln -->\n<g id=\"node41\" class=\"node\">\n<title>lrllln</title>\n<polygon fill=\"#ea0800\" fill-opacity=\"0.501961\" stroke=\"black\" points=\"1443,-683.5 1273,-683.5 1273,-630.5 1443,-630.5 1443,-683.5\"/>\n<text text-anchor=\"middle\" x=\"1358\" y=\"-668.3\" font-family=\"Times,serif\" font-size=\"14.00\">top&#45;right&#45;square: x</text>\n<text text-anchor=\"middle\" x=\"1358\" y=\"-653.3\" font-family=\"Times,serif\" font-size=\"14.00\">n=14</text>\n<text text-anchor=\"middle\" x=\"1358\" y=\"-638.3\" font-family=\"Times,serif\" font-size=\"14.00\">{&#39;negative&#39;: 12, &#39;positive&#39;: 2}</text>\n</g>\n<!-- lrlln&#45;&gt;lrllln -->\n<g id=\"edge40\" class=\"edge\">\n<title>lrlln&#45;&gt;lrllln</title>\n<path fill=\"none\" stroke=\"black\" d=\"M1502.05,-735.27C1475.49,-721.03 1442.32,-703.23 1414.5,-688.31\"/>\n<polygon fill=\"black\" stroke=\"black\" points=\"1416.14,-685.22 1405.68,-683.58 1412.83,-691.39 1416.14,-685.22\"/>\n<text text-anchor=\"middle\" x=\"1479\" y=\"-705.8\" font-family=\"Times,serif\" font-size=\"14.00\">True</text>\n</g>\n<!-- lrllrn -->\n<g id=\"node46\" class=\"node\">\n<title>lrllrn</title>\n<polygon fill=\"#ea0800\" fill-opacity=\"0.501961\" stroke=\"black\" points=\"1635,-683.5 1465,-683.5 1465,-630.5 1635,-630.5 1635,-683.5\"/>\n<text text-anchor=\"middle\" x=\"1550\" y=\"-668.3\" font-family=\"Times,serif\" font-size=\"14.00\">bottom&#45;middle&#45;square: x</text>\n<text text-anchor=\"middle\" x=\"1550\" y=\"-653.3\" font-family=\"Times,serif\" font-size=\"14.00\">n=17</text>\n<text text-anchor=\"middle\" x=\"1550\" y=\"-638.3\" font-family=\"Times,serif\" font-size=\"14.00\">{&#39;positive&#39;: 10, &#39;negative&#39;: 7}</text>\n</g>\n<!-- lrlln&#45;&gt;lrllrn -->\n<g id=\"edge49\" class=\"edge\">\n<title>lrlln&#45;&gt;lrllrn</title>\n<path fill=\"none\" stroke=\"black\" d=\"M1550,-735.27C1550,-722.74 1550,-707.46 1550,-693.81\"/>\n<polygon fill=\"black\" stroke=\"black\" points=\"1553.5,-693.75 1550,-683.75 1546.5,-693.75 1553.5,-693.75\"/>\n<text text-anchor=\"middle\" x=\"1564.5\" y=\"-705.8\" font-family=\"Times,serif\" font-size=\"14.00\">False</text>\n</g>\n<!-- lrlllln -->\n<g id=\"node42\" class=\"node\">\n<title>lrlllln</title>\n<polygon fill=\"#ea0800\" fill-opacity=\"0.501961\" stroke=\"black\" points=\"1292,-578.5 1128,-578.5 1128,-525.5 1292,-525.5 1292,-578.5\"/>\n<text text-anchor=\"middle\" x=\"1210\" y=\"-563.3\" font-family=\"Times,serif\" font-size=\"14.00\">middle&#45;right&#45;square: x</text>\n<text text-anchor=\"middle\" x=\"1210\" y=\"-548.3\" font-family=\"Times,serif\" font-size=\"14.00\">n=5</text>\n<text text-anchor=\"middle\" x=\"1210\" y=\"-533.3\" font-family=\"Times,serif\" font-size=\"14.00\">{&#39;negative&#39;: 3, &#39;positive&#39;: 2}</text>\n</g>\n<!-- lrllln&#45;&gt;lrlllln -->\n<g id=\"edge38\" class=\"edge\">\n<title>lrllln&#45;&gt;lrlllln</title>\n<path fill=\"none\" stroke=\"black\" d=\"M1321.04,-630.27C1301.09,-616.4 1276.32,-599.15 1255.23,-584.48\"/>\n<polygon fill=\"black\" stroke=\"black\" points=\"1256.96,-581.42 1246.75,-578.58 1252.96,-587.16 1256.96,-581.42\"/>\n<text text-anchor=\"middle\" x=\"1306\" y=\"-600.8\" font-family=\"Times,serif\" font-size=\"14.00\">True</text>\n</g>\n<!-- lrlllrn -->\n<g id=\"node45\" class=\"node\">\n<title>lrlllrn</title>\n<polygon fill=\"#ea0800\" fill-opacity=\"0.501961\" stroke=\"black\" points=\"1405.5,-579 1310.5,-579 1310.5,-525 1405.5,-525 1405.5,-579\"/>\n<text text-anchor=\"middle\" x=\"1358\" y=\"-547.8\" font-family=\"Times,serif\" font-size=\"14.00\">n=9</text>\n<text text-anchor=\"middle\" x=\"1358\" y=\"-532.8\" font-family=\"Times,serif\" font-size=\"14.00\">{&#39;negative&#39;: 9}</text>\n</g>\n<!-- lrllln&#45;&gt;lrlllrn -->\n<g id=\"edge39\" class=\"edge\">\n<title>lrllln&#45;&gt;lrlllrn</title>\n<path fill=\"none\" stroke=\"black\" d=\"M1358,-630.27C1358,-617.83 1358,-602.69 1358,-589.12\"/>\n<polygon fill=\"black\" stroke=\"black\" points=\"1361.5,-589.11 1358,-579.11 1354.5,-589.11 1361.5,-589.11\"/>\n<text text-anchor=\"middle\" x=\"1372.5\" y=\"-600.8\" font-family=\"Times,serif\" font-size=\"14.00\">False</text>\n</g>\n<!-- lrllllln -->\n<g id=\"node43\" class=\"node\">\n<title>lrllllln</title>\n<polygon fill=\"#ea0800\" fill-opacity=\"0.501961\" stroke=\"black\" points=\"1224,-474 1132,-474 1132,-420 1224,-420 1224,-474\"/>\n<text text-anchor=\"middle\" x=\"1178\" y=\"-442.8\" font-family=\"Times,serif\" font-size=\"14.00\">n=2</text>\n<text text-anchor=\"middle\" x=\"1178\" y=\"-427.8\" font-family=\"Times,serif\" font-size=\"14.00\">{&#39;positive&#39;: 2}</text>\n</g>\n<!-- lrlllln&#45;&gt;lrllllln -->\n<g id=\"edge36\" class=\"edge\">\n<title>lrlllln&#45;&gt;lrllllln</title>\n<path fill=\"none\" stroke=\"black\" d=\"M1202.01,-525.27C1198.1,-512.71 1193.35,-497.39 1189.1,-483.72\"/>\n<polygon fill=\"black\" stroke=\"black\" points=\"1192.42,-482.62 1186.11,-474.11 1185.74,-484.7 1192.42,-482.62\"/>\n<text text-anchor=\"middle\" x=\"1209\" y=\"-495.8\" font-family=\"Times,serif\" font-size=\"14.00\">True</text>\n</g>\n<!-- lrllllrn -->\n<g id=\"node44\" class=\"node\">\n<title>lrllllrn</title>\n<polygon fill=\"#ea0800\" fill-opacity=\"0.501961\" stroke=\"black\" points=\"1337.5,-474 1242.5,-474 1242.5,-420 1337.5,-420 1337.5,-474\"/>\n<text text-anchor=\"middle\" x=\"1290\" y=\"-442.8\" font-family=\"Times,serif\" font-size=\"14.00\">n=3</text>\n<text text-anchor=\"middle\" x=\"1290\" y=\"-427.8\" font-family=\"Times,serif\" font-size=\"14.00\">{&#39;negative&#39;: 3}</text>\n</g>\n<!-- lrlllln&#45;&gt;lrllllrn -->\n<g id=\"edge37\" class=\"edge\">\n<title>lrlllln&#45;&gt;lrllllrn</title>\n<path fill=\"none\" stroke=\"black\" d=\"M1229.98,-525.27C1240.12,-512.22 1252.56,-496.2 1263.49,-482.13\"/>\n<polygon fill=\"black\" stroke=\"black\" points=\"1266.35,-484.16 1269.72,-474.11 1260.82,-479.86 1266.35,-484.16\"/>\n<text text-anchor=\"middle\" x=\"1269.5\" y=\"-495.8\" font-family=\"Times,serif\" font-size=\"14.00\">False</text>\n</g>\n<!-- lrllrln -->\n<g id=\"node47\" class=\"node\">\n<title>lrllrln</title>\n<polygon fill=\"#ea0800\" fill-opacity=\"0.501961\" stroke=\"black\" points=\"1588,-578.5 1424,-578.5 1424,-525.5 1588,-525.5 1588,-578.5\"/>\n<text text-anchor=\"middle\" x=\"1506\" y=\"-563.3\" font-family=\"Times,serif\" font-size=\"14.00\">top&#45;right&#45;square: x</text>\n<text text-anchor=\"middle\" x=\"1506\" y=\"-548.3\" font-family=\"Times,serif\" font-size=\"14.00\">n=8</text>\n<text text-anchor=\"middle\" x=\"1506\" y=\"-533.3\" font-family=\"Times,serif\" font-size=\"14.00\">{&#39;positive&#39;: 7, &#39;negative&#39;: 1}</text>\n</g>\n<!-- lrllrn&#45;&gt;lrllrln -->\n<g id=\"edge43\" class=\"edge\">\n<title>lrllrn&#45;&gt;lrllrln</title>\n<path fill=\"none\" stroke=\"black\" d=\"M1539.01,-630.27C1533.55,-617.49 1526.87,-601.86 1520.95,-588\"/>\n<polygon fill=\"black\" stroke=\"black\" points=\"1524.15,-586.58 1517,-578.75 1517.71,-589.33 1524.15,-586.58\"/>\n<text text-anchor=\"middle\" x=\"1544\" y=\"-600.8\" font-family=\"Times,serif\" font-size=\"14.00\">True</text>\n</g>\n<!-- lrllrrn -->\n<g id=\"node50\" class=\"node\">\n<title>lrllrrn</title>\n<polygon fill=\"#ea0800\" fill-opacity=\"0.501961\" stroke=\"black\" points=\"1770,-578.5 1606,-578.5 1606,-525.5 1770,-525.5 1770,-578.5\"/>\n<text text-anchor=\"middle\" x=\"1688\" y=\"-563.3\" font-family=\"Times,serif\" font-size=\"14.00\">middle&#45;right&#45;square: x</text>\n<text text-anchor=\"middle\" x=\"1688\" y=\"-548.3\" font-family=\"Times,serif\" font-size=\"14.00\">n=9</text>\n<text text-anchor=\"middle\" x=\"1688\" y=\"-533.3\" font-family=\"Times,serif\" font-size=\"14.00\">{&#39;positive&#39;: 3, &#39;negative&#39;: 6}</text>\n</g>\n<!-- lrllrn&#45;&gt;lrllrrn -->\n<g id=\"edge48\" class=\"edge\">\n<title>lrllrn&#45;&gt;lrllrrn</title>\n<path fill=\"none\" stroke=\"black\" d=\"M1584.47,-630.27C1602.91,-616.51 1625.78,-599.44 1645.34,-584.84\"/>\n<polygon fill=\"black\" stroke=\"black\" points=\"1647.57,-587.54 1653.49,-578.75 1643.39,-581.93 1647.57,-587.54\"/>\n<text text-anchor=\"middle\" x=\"1642.5\" y=\"-600.8\" font-family=\"Times,serif\" font-size=\"14.00\">False</text>\n</g>\n<!-- lrllrlln -->\n<g id=\"node48\" class=\"node\">\n<title>lrllrlln</title>\n<polygon fill=\"#ea0800\" fill-opacity=\"0.501961\" stroke=\"black\" points=\"1450.5,-474 1355.5,-474 1355.5,-420 1450.5,-420 1450.5,-474\"/>\n<text text-anchor=\"middle\" x=\"1403\" y=\"-442.8\" font-family=\"Times,serif\" font-size=\"14.00\">n=1</text>\n<text text-anchor=\"middle\" x=\"1403\" y=\"-427.8\" font-family=\"Times,serif\" font-size=\"14.00\">{&#39;negative&#39;: 1}</text>\n</g>\n<!-- lrllrln&#45;&gt;lrllrlln -->\n<g id=\"edge41\" class=\"edge\">\n<title>lrllrln&#45;&gt;lrllrlln</title>\n<path fill=\"none\" stroke=\"black\" d=\"M1480.27,-525.27C1466.98,-511.98 1450.6,-495.6 1436.35,-481.35\"/>\n<polygon fill=\"black\" stroke=\"black\" points=\"1438.66,-478.71 1429.11,-474.11 1433.71,-483.66 1438.66,-478.71\"/>\n<text text-anchor=\"middle\" x=\"1474\" y=\"-495.8\" font-family=\"Times,serif\" font-size=\"14.00\">True</text>\n</g>\n<!-- lrllrlrn -->\n<g id=\"node49\" class=\"node\">\n<title>lrllrlrn</title>\n<polygon fill=\"#ea0800\" fill-opacity=\"0.501961\" stroke=\"black\" points=\"1561,-474 1469,-474 1469,-420 1561,-420 1561,-474\"/>\n<text text-anchor=\"middle\" x=\"1515\" y=\"-442.8\" font-family=\"Times,serif\" font-size=\"14.00\">n=7</text>\n<text text-anchor=\"middle\" x=\"1515\" y=\"-427.8\" font-family=\"Times,serif\" font-size=\"14.00\">{&#39;positive&#39;: 7}</text>\n</g>\n<!-- lrllrln&#45;&gt;lrllrlrn -->\n<g id=\"edge42\" class=\"edge\">\n<title>lrllrln&#45;&gt;lrllrlrn</title>\n<path fill=\"none\" stroke=\"black\" d=\"M1508.25,-525.27C1509.33,-512.83 1510.66,-497.69 1511.84,-484.12\"/>\n<polygon fill=\"black\" stroke=\"black\" points=\"1515.33,-484.38 1512.72,-474.11 1508.36,-483.77 1515.33,-484.38\"/>\n<text text-anchor=\"middle\" x=\"1526.5\" y=\"-495.8\" font-family=\"Times,serif\" font-size=\"14.00\">False</text>\n</g>\n<!-- lrllrrln -->\n<g id=\"node51\" class=\"node\">\n<title>lrllrrln</title>\n<polygon fill=\"#ea0800\" fill-opacity=\"0.501961\" stroke=\"black\" points=\"1743,-473.5 1579,-473.5 1579,-420.5 1743,-420.5 1743,-473.5\"/>\n<text text-anchor=\"middle\" x=\"1661\" y=\"-458.3\" font-family=\"Times,serif\" font-size=\"14.00\">top&#45;right&#45;square: x</text>\n<text text-anchor=\"middle\" x=\"1661\" y=\"-443.3\" font-family=\"Times,serif\" font-size=\"14.00\">n=4</text>\n<text text-anchor=\"middle\" x=\"1661\" y=\"-428.3\" font-family=\"Times,serif\" font-size=\"14.00\">{&#39;positive&#39;: 3, &#39;negative&#39;: 1}</text>\n</g>\n<!-- lrllrrn&#45;&gt;lrllrrln -->\n<g id=\"edge46\" class=\"edge\">\n<title>lrllrrn&#45;&gt;lrllrrln</title>\n<path fill=\"none\" stroke=\"black\" d=\"M1681.26,-525.27C1677.97,-512.74 1673.96,-497.46 1670.39,-483.81\"/>\n<polygon fill=\"black\" stroke=\"black\" points=\"1673.67,-482.54 1667.75,-473.75 1666.9,-484.32 1673.67,-482.54\"/>\n<text text-anchor=\"middle\" x=\"1690\" y=\"-495.8\" font-family=\"Times,serif\" font-size=\"14.00\">True</text>\n</g>\n<!-- lrllrrrn -->\n<g id=\"node54\" class=\"node\">\n<title>lrllrrrn</title>\n<polygon fill=\"#ea0800\" fill-opacity=\"0.501961\" stroke=\"black\" points=\"1856.5,-474 1761.5,-474 1761.5,-420 1856.5,-420 1856.5,-474\"/>\n<text text-anchor=\"middle\" x=\"1809\" y=\"-442.8\" font-family=\"Times,serif\" font-size=\"14.00\">n=5</text>\n<text text-anchor=\"middle\" x=\"1809\" y=\"-427.8\" font-family=\"Times,serif\" font-size=\"14.00\">{&#39;negative&#39;: 5}</text>\n</g>\n<!-- lrllrrn&#45;&gt;lrllrrrn -->\n<g id=\"edge47\" class=\"edge\">\n<title>lrllrrn&#45;&gt;lrllrrrn</title>\n<path fill=\"none\" stroke=\"black\" d=\"M1718.22,-525.27C1733.98,-511.86 1753.44,-495.3 1770.29,-480.95\"/>\n<polygon fill=\"black\" stroke=\"black\" points=\"1772.98,-483.26 1778.32,-474.11 1768.44,-477.93 1772.98,-483.26\"/>\n<text text-anchor=\"middle\" x=\"1770.5\" y=\"-495.8\" font-family=\"Times,serif\" font-size=\"14.00\">False</text>\n</g>\n<!-- lrllrrlln -->\n<g id=\"node52\" class=\"node\">\n<title>lrllrrlln</title>\n<polygon fill=\"#ea0800\" fill-opacity=\"0.501961\" stroke=\"black\" points=\"1669,-369 1577,-369 1577,-315 1669,-315 1669,-369\"/>\n<text text-anchor=\"middle\" x=\"1623\" y=\"-337.8\" font-family=\"Times,serif\" font-size=\"14.00\">n=3</text>\n<text text-anchor=\"middle\" x=\"1623\" y=\"-322.8\" font-family=\"Times,serif\" font-size=\"14.00\">{&#39;positive&#39;: 3}</text>\n</g>\n<!-- lrllrrln&#45;&gt;lrllrrlln -->\n<g id=\"edge44\" class=\"edge\">\n<title>lrllrrln&#45;&gt;lrllrrlln</title>\n<path fill=\"none\" stroke=\"black\" d=\"M1651.51,-420.27C1646.87,-407.71 1641.22,-392.39 1636.18,-378.72\"/>\n<polygon fill=\"black\" stroke=\"black\" points=\"1639.38,-377.28 1632.63,-369.11 1632.81,-379.71 1639.38,-377.28\"/>\n<text text-anchor=\"middle\" x=\"1658\" y=\"-390.8\" font-family=\"Times,serif\" font-size=\"14.00\">True</text>\n</g>\n<!-- lrllrrlrn -->\n<g id=\"node53\" class=\"node\">\n<title>lrllrrlrn</title>\n<polygon fill=\"#ea0800\" fill-opacity=\"0.501961\" stroke=\"black\" points=\"1782.5,-369 1687.5,-369 1687.5,-315 1782.5,-315 1782.5,-369\"/>\n<text text-anchor=\"middle\" x=\"1735\" y=\"-337.8\" font-family=\"Times,serif\" font-size=\"14.00\">n=1</text>\n<text text-anchor=\"middle\" x=\"1735\" y=\"-322.8\" font-family=\"Times,serif\" font-size=\"14.00\">{&#39;negative&#39;: 1}</text>\n</g>\n<!-- lrllrrln&#45;&gt;lrllrrlrn -->\n<g id=\"edge45\" class=\"edge\">\n<title>lrllrrln&#45;&gt;lrllrrlrn</title>\n<path fill=\"none\" stroke=\"black\" d=\"M1679.48,-420.27C1688.77,-407.35 1700.16,-391.5 1710.19,-377.53\"/>\n<polygon fill=\"black\" stroke=\"black\" points=\"1713.25,-379.28 1716.24,-369.11 1707.56,-375.19 1713.25,-379.28\"/>\n<text text-anchor=\"middle\" x=\"1717.5\" y=\"-390.8\" font-family=\"Times,serif\" font-size=\"14.00\">False</text>\n</g>\n<!-- lrlrln -->\n<g id=\"node56\" class=\"node\">\n<title>lrlrln</title>\n<polygon fill=\"#ea0800\" fill-opacity=\"0.501961\" stroke=\"black\" points=\"1954,-683.5 1790,-683.5 1790,-630.5 1954,-630.5 1954,-683.5\"/>\n<text text-anchor=\"middle\" x=\"1872\" y=\"-668.3\" font-family=\"Times,serif\" font-size=\"14.00\">top&#45;middle&#45;square: b</text>\n<text text-anchor=\"middle\" x=\"1872\" y=\"-653.3\" font-family=\"Times,serif\" font-size=\"14.00\">n=13</text>\n<text text-anchor=\"middle\" x=\"1872\" y=\"-638.3\" font-family=\"Times,serif\" font-size=\"14.00\">{&#39;positive&#39;: 5, &#39;negative&#39;: 8}</text>\n</g>\n<!-- lrlrn&#45;&gt;lrlrln -->\n<g id=\"edge53\" class=\"edge\">\n<title>lrlrn&#45;&gt;lrlrln</title>\n<path fill=\"none\" stroke=\"black\" d=\"M1872,-735.27C1872,-722.74 1872,-707.46 1872,-693.81\"/>\n<polygon fill=\"black\" stroke=\"black\" points=\"1875.5,-693.75 1872,-683.75 1868.5,-693.75 1875.5,-693.75\"/>\n<text text-anchor=\"middle\" x=\"1885\" y=\"-705.8\" font-family=\"Times,serif\" font-size=\"14.00\">True</text>\n</g>\n<!-- lrlrrn -->\n<g id=\"node59\" class=\"node\">\n<title>lrlrrn</title>\n<polygon fill=\"#ea0800\" fill-opacity=\"0.501961\" stroke=\"black\" points=\"2179,-683.5 2009,-683.5 2009,-630.5 2179,-630.5 2179,-683.5\"/>\n<text text-anchor=\"middle\" x=\"2094\" y=\"-668.3\" font-family=\"Times,serif\" font-size=\"14.00\">top&#45;right&#45;square: o</text>\n<text text-anchor=\"middle\" x=\"2094\" y=\"-653.3\" font-family=\"Times,serif\" font-size=\"14.00\">n=46</text>\n<text text-anchor=\"middle\" x=\"2094\" y=\"-638.3\" font-family=\"Times,serif\" font-size=\"14.00\">{&#39;positive&#39;: 38, &#39;negative&#39;: 8}</text>\n</g>\n<!-- lrlrn&#45;&gt;lrlrrn -->\n<g id=\"edge64\" class=\"edge\">\n<title>lrlrn&#45;&gt;lrlrrn</title>\n<path fill=\"none\" stroke=\"black\" d=\"M1927.16,-735.41C1958.13,-721.04 1996.95,-703.03 2029.35,-688\"/>\n<polygon fill=\"black\" stroke=\"black\" points=\"2031.14,-691.02 2038.74,-683.64 2028.19,-684.67 2031.14,-691.02\"/>\n<text text-anchor=\"middle\" x=\"2011.5\" y=\"-705.8\" font-family=\"Times,serif\" font-size=\"14.00\">False</text>\n</g>\n<!-- lrlrlln -->\n<g id=\"node57\" class=\"node\">\n<title>lrlrlln</title>\n<polygon fill=\"#ea0800\" fill-opacity=\"0.501961\" stroke=\"black\" points=\"1880,-579 1788,-579 1788,-525 1880,-525 1880,-579\"/>\n<text text-anchor=\"middle\" x=\"1834\" y=\"-547.8\" font-family=\"Times,serif\" font-size=\"14.00\">n=5</text>\n<text text-anchor=\"middle\" x=\"1834\" y=\"-532.8\" font-family=\"Times,serif\" font-size=\"14.00\">{&#39;positive&#39;: 5}</text>\n</g>\n<!-- lrlrln&#45;&gt;lrlrlln -->\n<g id=\"edge51\" class=\"edge\">\n<title>lrlrln&#45;&gt;lrlrlln</title>\n<path fill=\"none\" stroke=\"black\" d=\"M1862.51,-630.27C1857.87,-617.71 1852.22,-602.39 1847.18,-588.72\"/>\n<polygon fill=\"black\" stroke=\"black\" points=\"1850.38,-587.28 1843.63,-579.11 1843.81,-589.71 1850.38,-587.28\"/>\n<text text-anchor=\"middle\" x=\"1869\" y=\"-600.8\" font-family=\"Times,serif\" font-size=\"14.00\">True</text>\n</g>\n<!-- lrlrlrn -->\n<g id=\"node58\" class=\"node\">\n<title>lrlrlrn</title>\n<polygon fill=\"#ea0800\" fill-opacity=\"0.501961\" stroke=\"black\" points=\"1993.5,-579 1898.5,-579 1898.5,-525 1993.5,-525 1993.5,-579\"/>\n<text text-anchor=\"middle\" x=\"1946\" y=\"-547.8\" font-family=\"Times,serif\" font-size=\"14.00\">n=8</text>\n<text text-anchor=\"middle\" x=\"1946\" y=\"-532.8\" font-family=\"Times,serif\" font-size=\"14.00\">{&#39;negative&#39;: 8}</text>\n</g>\n<!-- lrlrln&#45;&gt;lrlrlrn -->\n<g id=\"edge52\" class=\"edge\">\n<title>lrlrln&#45;&gt;lrlrlrn</title>\n<path fill=\"none\" stroke=\"black\" d=\"M1890.48,-630.27C1899.77,-617.35 1911.16,-601.5 1921.19,-587.53\"/>\n<polygon fill=\"black\" stroke=\"black\" points=\"1924.25,-589.28 1927.24,-579.11 1918.56,-585.19 1924.25,-589.28\"/>\n<text text-anchor=\"middle\" x=\"1928.5\" y=\"-600.8\" font-family=\"Times,serif\" font-size=\"14.00\">False</text>\n</g>\n<!-- lrlrrln -->\n<g id=\"node60\" class=\"node\">\n<title>lrlrrln</title>\n<polygon fill=\"#ea0800\" fill-opacity=\"0.501961\" stroke=\"black\" points=\"2176,-578.5 2012,-578.5 2012,-525.5 2176,-525.5 2176,-578.5\"/>\n<text text-anchor=\"middle\" x=\"2094\" y=\"-563.3\" font-family=\"Times,serif\" font-size=\"14.00\">bottom&#45;left&#45;square: x</text>\n<text text-anchor=\"middle\" x=\"2094\" y=\"-548.3\" font-family=\"Times,serif\" font-size=\"14.00\">n=13</text>\n<text text-anchor=\"middle\" x=\"2094\" y=\"-533.3\" font-family=\"Times,serif\" font-size=\"14.00\">{&#39;positive&#39;: 7, &#39;negative&#39;: 6}</text>\n</g>\n<!-- lrlrrn&#45;&gt;lrlrrln -->\n<g id=\"edge58\" class=\"edge\">\n<title>lrlrrn&#45;&gt;lrlrrln</title>\n<path fill=\"none\" stroke=\"black\" d=\"M2094,-630.27C2094,-617.74 2094,-602.46 2094,-588.81\"/>\n<polygon fill=\"black\" stroke=\"black\" points=\"2097.5,-588.75 2094,-578.75 2090.5,-588.75 2097.5,-588.75\"/>\n<text text-anchor=\"middle\" x=\"2107\" y=\"-600.8\" font-family=\"Times,serif\" font-size=\"14.00\">True</text>\n</g>\n<!-- lrlrrrn -->\n<g id=\"node65\" class=\"node\">\n<title>lrlrrrn</title>\n<polygon fill=\"#ea0800\" fill-opacity=\"0.501961\" stroke=\"black\" points=\"2364,-578.5 2194,-578.5 2194,-525.5 2364,-525.5 2364,-578.5\"/>\n<text text-anchor=\"middle\" x=\"2279\" y=\"-563.3\" font-family=\"Times,serif\" font-size=\"14.00\">middle&#45;right&#45;square: o</text>\n<text text-anchor=\"middle\" x=\"2279\" y=\"-548.3\" font-family=\"Times,serif\" font-size=\"14.00\">n=33</text>\n<text text-anchor=\"middle\" x=\"2279\" y=\"-533.3\" font-family=\"Times,serif\" font-size=\"14.00\">{&#39;positive&#39;: 31, &#39;negative&#39;: 2}</text>\n</g>\n<!-- lrlrrn&#45;&gt;lrlrrrn -->\n<g id=\"edge63\" class=\"edge\">\n<title>lrlrrn&#45;&gt;lrlrrrn</title>\n<path fill=\"none\" stroke=\"black\" d=\"M2140.21,-630.27C2165.69,-616.09 2197.48,-598.39 2224.21,-583.51\"/>\n<polygon fill=\"black\" stroke=\"black\" points=\"2226.03,-586.5 2233.06,-578.58 2222.62,-580.38 2226.03,-586.5\"/>\n<text text-anchor=\"middle\" x=\"2212.5\" y=\"-600.8\" font-family=\"Times,serif\" font-size=\"14.00\">False</text>\n</g>\n<!-- lrlrrlln -->\n<g id=\"node61\" class=\"node\">\n<title>lrlrrlln</title>\n<polygon fill=\"#ea0800\" fill-opacity=\"0.501961\" stroke=\"black\" points=\"2039,-473.5 1875,-473.5 1875,-420.5 2039,-420.5 2039,-473.5\"/>\n<text text-anchor=\"middle\" x=\"1957\" y=\"-458.3\" font-family=\"Times,serif\" font-size=\"14.00\">bottom&#45;middle&#45;square: x</text>\n<text text-anchor=\"middle\" x=\"1957\" y=\"-443.3\" font-family=\"Times,serif\" font-size=\"14.00\">n=8</text>\n<text text-anchor=\"middle\" x=\"1957\" y=\"-428.3\" font-family=\"Times,serif\" font-size=\"14.00\">{&#39;positive&#39;: 7, &#39;negative&#39;: 1}</text>\n</g>\n<!-- lrlrrln&#45;&gt;lrlrrlln -->\n<g id=\"edge56\" class=\"edge\">\n<title>lrlrrln&#45;&gt;lrlrrlln</title>\n<path fill=\"none\" stroke=\"black\" d=\"M2059.78,-525.27C2041.47,-511.51 2018.76,-494.44 1999.35,-479.84\"/>\n<polygon fill=\"black\" stroke=\"black\" points=\"2001.35,-476.97 1991.26,-473.75 1997.15,-482.56 2001.35,-476.97\"/>\n<text text-anchor=\"middle\" x=\"2047\" y=\"-495.8\" font-family=\"Times,serif\" font-size=\"14.00\">True</text>\n</g>\n<!-- lrlrrlrn -->\n<g id=\"node64\" class=\"node\">\n<title>lrlrrlrn</title>\n<polygon fill=\"#ea0800\" fill-opacity=\"0.501961\" stroke=\"black\" points=\"2152.5,-474 2057.5,-474 2057.5,-420 2152.5,-420 2152.5,-474\"/>\n<text text-anchor=\"middle\" x=\"2105\" y=\"-442.8\" font-family=\"Times,serif\" font-size=\"14.00\">n=5</text>\n<text text-anchor=\"middle\" x=\"2105\" y=\"-427.8\" font-family=\"Times,serif\" font-size=\"14.00\">{&#39;negative&#39;: 5}</text>\n</g>\n<!-- lrlrrln&#45;&gt;lrlrrlrn -->\n<g id=\"edge57\" class=\"edge\">\n<title>lrlrrln&#45;&gt;lrlrrlrn</title>\n<path fill=\"none\" stroke=\"black\" d=\"M2096.75,-525.27C2098.08,-512.83 2099.69,-497.69 2101.14,-484.12\"/>\n<polygon fill=\"black\" stroke=\"black\" points=\"2104.63,-484.43 2102.21,-474.11 2097.67,-483.68 2104.63,-484.43\"/>\n<text text-anchor=\"middle\" x=\"2115.5\" y=\"-495.8\" font-family=\"Times,serif\" font-size=\"14.00\">False</text>\n</g>\n<!-- lrlrrllln -->\n<g id=\"node62\" class=\"node\">\n<title>lrlrrllln</title>\n<polygon fill=\"#ea0800\" fill-opacity=\"0.501961\" stroke=\"black\" points=\"1929,-369 1837,-369 1837,-315 1929,-315 1929,-369\"/>\n<text text-anchor=\"middle\" x=\"1883\" y=\"-337.8\" font-family=\"Times,serif\" font-size=\"14.00\">n=7</text>\n<text text-anchor=\"middle\" x=\"1883\" y=\"-322.8\" font-family=\"Times,serif\" font-size=\"14.00\">{&#39;positive&#39;: 7}</text>\n</g>\n<!-- lrlrrlln&#45;&gt;lrlrrllln -->\n<g id=\"edge54\" class=\"edge\">\n<title>lrlrrlln&#45;&gt;lrlrrllln</title>\n<path fill=\"none\" stroke=\"black\" d=\"M1938.52,-420.27C1929.23,-407.35 1917.84,-391.5 1907.81,-377.53\"/>\n<polygon fill=\"black\" stroke=\"black\" points=\"1910.44,-375.19 1901.76,-369.11 1904.75,-379.28 1910.44,-375.19\"/>\n<text text-anchor=\"middle\" x=\"1938\" y=\"-390.8\" font-family=\"Times,serif\" font-size=\"14.00\">True</text>\n</g>\n<!-- lrlrrllrn -->\n<g id=\"node63\" class=\"node\">\n<title>lrlrrllrn</title>\n<polygon fill=\"#ea0800\" fill-opacity=\"0.501961\" stroke=\"black\" points=\"2042.5,-369 1947.5,-369 1947.5,-315 2042.5,-315 2042.5,-369\"/>\n<text text-anchor=\"middle\" x=\"1995\" y=\"-337.8\" font-family=\"Times,serif\" font-size=\"14.00\">n=1</text>\n<text text-anchor=\"middle\" x=\"1995\" y=\"-322.8\" font-family=\"Times,serif\" font-size=\"14.00\">{&#39;negative&#39;: 1}</text>\n</g>\n<!-- lrlrrlln&#45;&gt;lrlrrllrn -->\n<g id=\"edge55\" class=\"edge\">\n<title>lrlrrlln&#45;&gt;lrlrrllrn</title>\n<path fill=\"none\" stroke=\"black\" d=\"M1966.49,-420.27C1971.13,-407.71 1976.78,-392.39 1981.82,-378.72\"/>\n<polygon fill=\"black\" stroke=\"black\" points=\"1985.19,-379.71 1985.37,-369.11 1978.62,-377.28 1985.19,-379.71\"/>\n<text text-anchor=\"middle\" x=\"1993.5\" y=\"-390.8\" font-family=\"Times,serif\" font-size=\"14.00\">False</text>\n</g>\n<!-- lrlrrrln -->\n<g id=\"node66\" class=\"node\">\n<title>lrlrrrln</title>\n<polygon fill=\"#ea0800\" fill-opacity=\"0.501961\" stroke=\"black\" points=\"2335,-473.5 2171,-473.5 2171,-420.5 2335,-420.5 2335,-473.5\"/>\n<text text-anchor=\"middle\" x=\"2253\" y=\"-458.3\" font-family=\"Times,serif\" font-size=\"14.00\">middle&#45;left&#45;square: o</text>\n<text text-anchor=\"middle\" x=\"2253\" y=\"-443.3\" font-family=\"Times,serif\" font-size=\"14.00\">n=7</text>\n<text text-anchor=\"middle\" x=\"2253\" y=\"-428.3\" font-family=\"Times,serif\" font-size=\"14.00\">{&#39;positive&#39;: 5, &#39;negative&#39;: 2}</text>\n</g>\n<!-- lrlrrrn&#45;&gt;lrlrrrln -->\n<g id=\"edge61\" class=\"edge\">\n<title>lrlrrrn&#45;&gt;lrlrrrln</title>\n<path fill=\"none\" stroke=\"black\" d=\"M2272.51,-525.27C2269.34,-512.74 2265.48,-497.46 2262.04,-483.81\"/>\n<polygon fill=\"black\" stroke=\"black\" points=\"2265.34,-482.59 2259.5,-473.75 2258.56,-484.31 2265.34,-482.59\"/>\n<text text-anchor=\"middle\" x=\"2281\" y=\"-495.8\" font-family=\"Times,serif\" font-size=\"14.00\">True</text>\n</g>\n<!-- lrlrrrrn -->\n<g id=\"node69\" class=\"node\">\n<title>lrlrrrrn</title>\n<polygon fill=\"#ea0800\" fill-opacity=\"0.501961\" stroke=\"black\" points=\"2451,-474 2353,-474 2353,-420 2451,-420 2451,-474\"/>\n<text text-anchor=\"middle\" x=\"2402\" y=\"-442.8\" font-family=\"Times,serif\" font-size=\"14.00\">n=26</text>\n<text text-anchor=\"middle\" x=\"2402\" y=\"-427.8\" font-family=\"Times,serif\" font-size=\"14.00\">{&#39;positive&#39;: 26}</text>\n</g>\n<!-- lrlrrrn&#45;&gt;lrlrrrrn -->\n<g id=\"edge62\" class=\"edge\">\n<title>lrlrrrn&#45;&gt;lrlrrrrn</title>\n<path fill=\"none\" stroke=\"black\" d=\"M2309.72,-525.27C2325.89,-511.74 2345.88,-495 2363.11,-480.56\"/>\n<polygon fill=\"black\" stroke=\"black\" points=\"2365.4,-483.22 2370.82,-474.11 2360.9,-477.85 2365.4,-483.22\"/>\n<text text-anchor=\"middle\" x=\"2362.5\" y=\"-495.8\" font-family=\"Times,serif\" font-size=\"14.00\">False</text>\n</g>\n<!-- lrlrrrlln -->\n<g id=\"node67\" class=\"node\">\n<title>lrlrrrlln</title>\n<polygon fill=\"#ea0800\" fill-opacity=\"0.501961\" stroke=\"black\" points=\"2269.5,-369 2174.5,-369 2174.5,-315 2269.5,-315 2269.5,-369\"/>\n<text text-anchor=\"middle\" x=\"2222\" y=\"-337.8\" font-family=\"Times,serif\" font-size=\"14.00\">n=2</text>\n<text text-anchor=\"middle\" x=\"2222\" y=\"-322.8\" font-family=\"Times,serif\" font-size=\"14.00\">{&#39;negative&#39;: 2}</text>\n</g>\n<!-- lrlrrrln&#45;&gt;lrlrrrlln -->\n<g id=\"edge59\" class=\"edge\">\n<title>lrlrrrln&#45;&gt;lrlrrrlln</title>\n<path fill=\"none\" stroke=\"black\" d=\"M2245.26,-420.27C2241.48,-407.71 2236.87,-392.39 2232.75,-378.72\"/>\n<polygon fill=\"black\" stroke=\"black\" points=\"2236.09,-377.68 2229.86,-369.11 2229.39,-379.7 2236.09,-377.68\"/>\n<text text-anchor=\"middle\" x=\"2253\" y=\"-390.8\" font-family=\"Times,serif\" font-size=\"14.00\">True</text>\n</g>\n<!-- lrlrrrlrn -->\n<g id=\"node68\" class=\"node\">\n<title>lrlrrrlrn</title>\n<polygon fill=\"#ea0800\" fill-opacity=\"0.501961\" stroke=\"black\" points=\"2380,-369 2288,-369 2288,-315 2380,-315 2380,-369\"/>\n<text text-anchor=\"middle\" x=\"2334\" y=\"-337.8\" font-family=\"Times,serif\" font-size=\"14.00\">n=5</text>\n<text text-anchor=\"middle\" x=\"2334\" y=\"-322.8\" font-family=\"Times,serif\" font-size=\"14.00\">{&#39;positive&#39;: 5}</text>\n</g>\n<!-- lrlrrrln&#45;&gt;lrlrrrlrn -->\n<g id=\"edge60\" class=\"edge\">\n<title>lrlrrrln&#45;&gt;lrlrrrlrn</title>\n<path fill=\"none\" stroke=\"black\" d=\"M2273.23,-420.27C2283.49,-407.22 2296.1,-391.2 2307.16,-377.13\"/>\n<polygon fill=\"black\" stroke=\"black\" points=\"2310.03,-379.14 2313.46,-369.11 2304.53,-374.81 2310.03,-379.14\"/>\n<text text-anchor=\"middle\" x=\"2313.5\" y=\"-390.8\" font-family=\"Times,serif\" font-size=\"14.00\">False</text>\n</g>\n<!-- rln -->\n<g id=\"node72\" class=\"node\">\n<title>rln</title>\n<polygon fill=\"#ea0800\" fill-opacity=\"0.501961\" stroke=\"black\" points=\"2808,-998 2624,-998 2624,-945 2808,-945 2808,-998\"/>\n<text text-anchor=\"middle\" x=\"2716\" y=\"-982.8\" font-family=\"Times,serif\" font-size=\"14.00\">top&#45;left&#45;square: o</text>\n<text text-anchor=\"middle\" x=\"2716\" y=\"-967.8\" font-family=\"Times,serif\" font-size=\"14.00\">n=207</text>\n<text text-anchor=\"middle\" x=\"2716\" y=\"-952.8\" font-family=\"Times,serif\" font-size=\"14.00\">{&#39;positive&#39;: 137, &#39;negative&#39;: 70}</text>\n</g>\n<!-- rn&#45;&gt;rln -->\n<g id=\"edge106\" class=\"edge\">\n<title>rn&#45;&gt;rln</title>\n<path fill=\"none\" stroke=\"black\" d=\"M2716,-1048.76C2716,-1036.56 2716,-1021.78 2716,-1008.49\"/>\n<polygon fill=\"black\" stroke=\"black\" points=\"2719.5,-1008.23 2716,-998.23 2712.5,-1008.23 2719.5,-1008.23\"/>\n<text text-anchor=\"middle\" x=\"2729\" y=\"-1019.8\" font-family=\"Times,serif\" font-size=\"14.00\">True</text>\n</g>\n<!-- rrn -->\n<g id=\"node109\" class=\"node\">\n<title>rrn</title>\n<polygon fill=\"#ea0800\" fill-opacity=\"0.501961\" stroke=\"black\" points=\"3656,-998 3472,-998 3472,-945 3656,-945 3656,-998\"/>\n<text text-anchor=\"middle\" x=\"3564\" y=\"-982.8\" font-family=\"Times,serif\" font-size=\"14.00\">top&#45;right&#45;square: o</text>\n<text text-anchor=\"middle\" x=\"3564\" y=\"-967.8\" font-family=\"Times,serif\" font-size=\"14.00\">n=349</text>\n<text text-anchor=\"middle\" x=\"3564\" y=\"-952.8\" font-family=\"Times,serif\" font-size=\"14.00\">{&#39;positive&#39;: 296, &#39;negative&#39;: 53}</text>\n</g>\n<!-- rn&#45;&gt;rrn -->\n<g id=\"edge131\" class=\"edge\">\n<title>rn&#45;&gt;rrn</title>\n<path fill=\"none\" stroke=\"black\" d=\"M2811.63,-1063C2972.64,-1043.63 3296.43,-1004.68 3461.77,-984.8\"/>\n<polygon fill=\"black\" stroke=\"black\" points=\"3462.43,-988.24 3471.94,-983.57 3461.6,-981.29 3462.43,-988.24\"/>\n<text text-anchor=\"middle\" x=\"3205.5\" y=\"-1019.8\" font-family=\"Times,serif\" font-size=\"14.00\">False</text>\n</g>\n<!-- rlln -->\n<g id=\"node73\" class=\"node\">\n<title>rlln</title>\n<polygon fill=\"#ea0800\" fill-opacity=\"0.501961\" stroke=\"black\" points=\"2711.5,-893.5 2534.5,-893.5 2534.5,-840.5 2711.5,-840.5 2711.5,-893.5\"/>\n<text text-anchor=\"middle\" x=\"2623\" y=\"-878.3\" font-family=\"Times,serif\" font-size=\"14.00\">middle&#45;left&#45;square: o</text>\n<text text-anchor=\"middle\" x=\"2623\" y=\"-863.3\" font-family=\"Times,serif\" font-size=\"14.00\">n=71</text>\n<text text-anchor=\"middle\" x=\"2623\" y=\"-848.3\" font-family=\"Times,serif\" font-size=\"14.00\">{&#39;negative&#39;: 39, &#39;positive&#39;: 32}</text>\n</g>\n<!-- rln&#45;&gt;rlln -->\n<g id=\"edge90\" class=\"edge\">\n<title>rln&#45;&gt;rlln</title>\n<path fill=\"none\" stroke=\"black\" d=\"M2692.77,-944.9C2680.79,-931.69 2666.03,-915.42 2653.17,-901.25\"/>\n<polygon fill=\"black\" stroke=\"black\" points=\"2655.57,-898.68 2646.25,-893.63 2650.38,-903.39 2655.57,-898.68\"/>\n<text text-anchor=\"middle\" x=\"2689\" y=\"-915.8\" font-family=\"Times,serif\" font-size=\"14.00\">True</text>\n</g>\n<!-- rlrn -->\n<g id=\"node94\" class=\"node\">\n<title>rlrn</title>\n<polygon fill=\"#ea0800\" fill-opacity=\"0.501961\" stroke=\"black\" points=\"2914,-893.5 2730,-893.5 2730,-840.5 2914,-840.5 2914,-893.5\"/>\n<text text-anchor=\"middle\" x=\"2822\" y=\"-878.3\" font-family=\"Times,serif\" font-size=\"14.00\">bottom&#45;right&#45;square: o</text>\n<text text-anchor=\"middle\" x=\"2822\" y=\"-863.3\" font-family=\"Times,serif\" font-size=\"14.00\">n=136</text>\n<text text-anchor=\"middle\" x=\"2822\" y=\"-848.3\" font-family=\"Times,serif\" font-size=\"14.00\">{&#39;positive&#39;: 105, &#39;negative&#39;: 31}</text>\n</g>\n<!-- rln&#45;&gt;rlrn -->\n<g id=\"edge105\" class=\"edge\">\n<title>rln&#45;&gt;rlrn</title>\n<path fill=\"none\" stroke=\"black\" d=\"M2742.47,-944.9C2756.26,-931.57 2773.27,-915.12 2788.02,-900.86\"/>\n<polygon fill=\"black\" stroke=\"black\" points=\"2790.74,-903.1 2795.5,-893.63 2785.87,-898.06 2790.74,-903.1\"/>\n<text text-anchor=\"middle\" x=\"2790.5\" y=\"-915.8\" font-family=\"Times,serif\" font-size=\"14.00\">False</text>\n</g>\n<!-- rllln -->\n<g id=\"node74\" class=\"node\">\n<title>rllln</title>\n<polygon fill=\"#ea0800\" fill-opacity=\"0.501961\" stroke=\"black\" points=\"2521.5,-789 2420.5,-789 2420.5,-735 2521.5,-735 2521.5,-789\"/>\n<text text-anchor=\"middle\" x=\"2471\" y=\"-757.8\" font-family=\"Times,serif\" font-size=\"14.00\">n=31</text>\n<text text-anchor=\"middle\" x=\"2471\" y=\"-742.8\" font-family=\"Times,serif\" font-size=\"14.00\">{&#39;negative&#39;: 31}</text>\n</g>\n<!-- rlln&#45;&gt;rllln -->\n<g id=\"edge70\" class=\"edge\">\n<title>rlln&#45;&gt;rllln</title>\n<path fill=\"none\" stroke=\"black\" d=\"M2585.04,-840.27C2564.7,-826.49 2539.46,-809.39 2517.91,-794.78\"/>\n<polygon fill=\"black\" stroke=\"black\" points=\"2519.78,-791.83 2509.54,-789.11 2515.85,-797.62 2519.78,-791.83\"/>\n<text text-anchor=\"middle\" x=\"2570\" y=\"-810.8\" font-family=\"Times,serif\" font-size=\"14.00\">True</text>\n</g>\n<!-- rllrn -->\n<g id=\"node75\" class=\"node\">\n<title>rllrn</title>\n<polygon fill=\"#ea0800\" fill-opacity=\"0.501961\" stroke=\"black\" points=\"2710,-788.5 2540,-788.5 2540,-735.5 2710,-735.5 2710,-788.5\"/>\n<text text-anchor=\"middle\" x=\"2625\" y=\"-773.3\" font-family=\"Times,serif\" font-size=\"14.00\">bottom&#45;right&#45;square: b</text>\n<text text-anchor=\"middle\" x=\"2625\" y=\"-758.3\" font-family=\"Times,serif\" font-size=\"14.00\">n=40</text>\n<text text-anchor=\"middle\" x=\"2625\" y=\"-743.3\" font-family=\"Times,serif\" font-size=\"14.00\">{&#39;positive&#39;: 32, &#39;negative&#39;: 8}</text>\n</g>\n<!-- rlln&#45;&gt;rllrn -->\n<g id=\"edge89\" class=\"edge\">\n<title>rlln&#45;&gt;rllrn</title>\n<path fill=\"none\" stroke=\"black\" d=\"M2623.5,-840.27C2623.74,-827.74 2624.04,-812.46 2624.3,-798.81\"/>\n<polygon fill=\"black\" stroke=\"black\" points=\"2627.81,-798.82 2624.5,-788.75 2620.81,-798.68 2627.81,-798.82\"/>\n<text text-anchor=\"middle\" x=\"2639.5\" y=\"-810.8\" font-family=\"Times,serif\" font-size=\"14.00\">False</text>\n</g>\n<!-- rllrln -->\n<g id=\"node76\" class=\"node\">\n<title>rllrln</title>\n<polygon fill=\"#ea0800\" fill-opacity=\"0.501961\" stroke=\"black\" points=\"2552,-684 2454,-684 2454,-630 2552,-630 2552,-684\"/>\n<text text-anchor=\"middle\" x=\"2503\" y=\"-652.8\" font-family=\"Times,serif\" font-size=\"14.00\">n=12</text>\n<text text-anchor=\"middle\" x=\"2503\" y=\"-637.8\" font-family=\"Times,serif\" font-size=\"14.00\">{&#39;positive&#39;: 12}</text>\n</g>\n<!-- rllrn&#45;&gt;rllrln -->\n<g id=\"edge71\" class=\"edge\">\n<title>rllrn&#45;&gt;rllrln</title>\n<path fill=\"none\" stroke=\"black\" d=\"M2594.53,-735.27C2578.64,-721.86 2559.02,-705.3 2542.03,-690.95\"/>\n<polygon fill=\"black\" stroke=\"black\" points=\"2543.83,-687.89 2533.93,-684.11 2539.31,-693.24 2543.83,-687.89\"/>\n<text text-anchor=\"middle\" x=\"2585\" y=\"-705.8\" font-family=\"Times,serif\" font-size=\"14.00\">True</text>\n</g>\n<!-- rllrrn -->\n<g id=\"node77\" class=\"node\">\n<title>rllrrn</title>\n<polygon fill=\"#ea0800\" fill-opacity=\"0.501961\" stroke=\"black\" points=\"2740,-683.5 2570,-683.5 2570,-630.5 2740,-630.5 2740,-683.5\"/>\n<text text-anchor=\"middle\" x=\"2655\" y=\"-668.3\" font-family=\"Times,serif\" font-size=\"14.00\">top&#45;right&#45;square: b</text>\n<text text-anchor=\"middle\" x=\"2655\" y=\"-653.3\" font-family=\"Times,serif\" font-size=\"14.00\">n=28</text>\n<text text-anchor=\"middle\" x=\"2655\" y=\"-638.3\" font-family=\"Times,serif\" font-size=\"14.00\">{&#39;positive&#39;: 20, &#39;negative&#39;: 8}</text>\n</g>\n<!-- rllrn&#45;&gt;rllrrn -->\n<g id=\"edge88\" class=\"edge\">\n<title>rllrn&#45;&gt;rllrrn</title>\n<path fill=\"none\" stroke=\"black\" d=\"M2632.49,-735.27C2636.18,-722.62 2640.68,-707.16 2644.69,-693.4\"/>\n<polygon fill=\"black\" stroke=\"black\" points=\"2648.06,-694.33 2647.5,-683.75 2641.34,-692.38 2648.06,-694.33\"/>\n<text text-anchor=\"middle\" x=\"2656.5\" y=\"-705.8\" font-family=\"Times,serif\" font-size=\"14.00\">False</text>\n</g>\n<!-- rllrrln -->\n<g id=\"node78\" class=\"node\">\n<title>rllrrln</title>\n<polygon fill=\"#ea0800\" fill-opacity=\"0.501961\" stroke=\"black\" points=\"2558,-579 2466,-579 2466,-525 2558,-525 2558,-579\"/>\n<text text-anchor=\"middle\" x=\"2512\" y=\"-547.8\" font-family=\"Times,serif\" font-size=\"14.00\">n=6</text>\n<text text-anchor=\"middle\" x=\"2512\" y=\"-532.8\" font-family=\"Times,serif\" font-size=\"14.00\">{&#39;positive&#39;: 6}</text>\n</g>\n<!-- rllrrn&#45;&gt;rllrrln -->\n<g id=\"edge72\" class=\"edge\">\n<title>rllrrn&#45;&gt;rllrrln</title>\n<path fill=\"none\" stroke=\"black\" d=\"M2619.28,-630.27C2600.23,-616.55 2576.62,-599.54 2556.4,-584.98\"/>\n<polygon fill=\"black\" stroke=\"black\" points=\"2558.41,-582.12 2548.25,-579.11 2554.32,-587.8 2558.41,-582.12\"/>\n<text text-anchor=\"middle\" x=\"2606\" y=\"-600.8\" font-family=\"Times,serif\" font-size=\"14.00\">True</text>\n</g>\n<!-- rllrrrn -->\n<g id=\"node79\" class=\"node\">\n<title>rllrrrn</title>\n<polygon fill=\"#ea0800\" fill-opacity=\"0.501961\" stroke=\"black\" points=\"2746,-578.5 2576,-578.5 2576,-525.5 2746,-525.5 2746,-578.5\"/>\n<text text-anchor=\"middle\" x=\"2661\" y=\"-563.3\" font-family=\"Times,serif\" font-size=\"14.00\">top&#45;middle&#45;square: b</text>\n<text text-anchor=\"middle\" x=\"2661\" y=\"-548.3\" font-family=\"Times,serif\" font-size=\"14.00\">n=22</text>\n<text text-anchor=\"middle\" x=\"2661\" y=\"-533.3\" font-family=\"Times,serif\" font-size=\"14.00\">{&#39;negative&#39;: 8, &#39;positive&#39;: 14}</text>\n</g>\n<!-- rllrrn&#45;&gt;rllrrrn -->\n<g id=\"edge87\" class=\"edge\">\n<title>rllrrn&#45;&gt;rllrrrn</title>\n<path fill=\"none\" stroke=\"black\" d=\"M2656.5,-630.27C2657.23,-617.74 2658.12,-602.46 2658.91,-588.81\"/>\n<polygon fill=\"black\" stroke=\"black\" points=\"2662.41,-588.94 2659.5,-578.75 2655.42,-588.53 2662.41,-588.94\"/>\n<text text-anchor=\"middle\" x=\"2673.5\" y=\"-600.8\" font-family=\"Times,serif\" font-size=\"14.00\">False</text>\n</g>\n<!-- rllrrrln -->\n<g id=\"node80\" class=\"node\">\n<title>rllrrrln</title>\n<polygon fill=\"#ea0800\" fill-opacity=\"0.501961\" stroke=\"black\" points=\"2561,-474 2469,-474 2469,-420 2561,-420 2561,-474\"/>\n<text text-anchor=\"middle\" x=\"2515\" y=\"-442.8\" font-family=\"Times,serif\" font-size=\"14.00\">n=3</text>\n<text text-anchor=\"middle\" x=\"2515\" y=\"-427.8\" font-family=\"Times,serif\" font-size=\"14.00\">{&#39;positive&#39;: 3}</text>\n</g>\n<!-- rllrrrn&#45;&gt;rllrrrln -->\n<g id=\"edge73\" class=\"edge\">\n<title>rllrrrn&#45;&gt;rllrrrln</title>\n<path fill=\"none\" stroke=\"black\" d=\"M2624.53,-525.27C2605.09,-511.55 2580.97,-494.54 2560.33,-479.98\"/>\n<polygon fill=\"black\" stroke=\"black\" points=\"2562.2,-477.02 2552.01,-474.11 2558.17,-482.74 2562.2,-477.02\"/>\n<text text-anchor=\"middle\" x=\"2610\" y=\"-495.8\" font-family=\"Times,serif\" font-size=\"14.00\">True</text>\n</g>\n<!-- rllrrrrn -->\n<g id=\"node81\" class=\"node\">\n<title>rllrrrrn</title>\n<polygon fill=\"#ea0800\" fill-opacity=\"0.501961\" stroke=\"black\" points=\"2749,-473.5 2579,-473.5 2579,-420.5 2749,-420.5 2749,-473.5\"/>\n<text text-anchor=\"middle\" x=\"2664\" y=\"-458.3\" font-family=\"Times,serif\" font-size=\"14.00\">bottom&#45;middle&#45;square: o</text>\n<text text-anchor=\"middle\" x=\"2664\" y=\"-443.3\" font-family=\"Times,serif\" font-size=\"14.00\">n=19</text>\n<text text-anchor=\"middle\" x=\"2664\" y=\"-428.3\" font-family=\"Times,serif\" font-size=\"14.00\">{&#39;negative&#39;: 8, &#39;positive&#39;: 11}</text>\n</g>\n<!-- rllrrrn&#45;&gt;rllrrrrn -->\n<g id=\"edge86\" class=\"edge\">\n<title>rllrrrn&#45;&gt;rllrrrrn</title>\n<path fill=\"none\" stroke=\"black\" d=\"M2661.75,-525.27C2662.11,-512.74 2662.56,-497.46 2662.96,-483.81\"/>\n<polygon fill=\"black\" stroke=\"black\" points=\"2666.46,-483.85 2663.25,-473.75 2659.46,-483.65 2666.46,-483.85\"/>\n<text text-anchor=\"middle\" x=\"2677.5\" y=\"-495.8\" font-family=\"Times,serif\" font-size=\"14.00\">False</text>\n</g>\n<!-- rllrrrrln -->\n<g id=\"node82\" class=\"node\">\n<title>rllrrrrln</title>\n<polygon fill=\"#ea0800\" fill-opacity=\"0.501961\" stroke=\"black\" points=\"2603,-368.5 2439,-368.5 2439,-315.5 2603,-315.5 2603,-368.5\"/>\n<text text-anchor=\"middle\" x=\"2521\" y=\"-353.3\" font-family=\"Times,serif\" font-size=\"14.00\">bottom&#45;right&#45;square: x</text>\n<text text-anchor=\"middle\" x=\"2521\" y=\"-338.3\" font-family=\"Times,serif\" font-size=\"14.00\">n=7</text>\n<text text-anchor=\"middle\" x=\"2521\" y=\"-323.3\" font-family=\"Times,serif\" font-size=\"14.00\">{&#39;negative&#39;: 4, &#39;positive&#39;: 3}</text>\n</g>\n<!-- rllrrrrn&#45;&gt;rllrrrrln -->\n<g id=\"edge78\" class=\"edge\">\n<title>rllrrrrn&#45;&gt;rllrrrrln</title>\n<path fill=\"none\" stroke=\"black\" d=\"M2628.28,-420.27C2609.09,-406.45 2585.26,-389.28 2564.94,-374.65\"/>\n<polygon fill=\"black\" stroke=\"black\" points=\"2566.92,-371.76 2556.76,-368.75 2562.83,-377.44 2566.92,-371.76\"/>\n<text text-anchor=\"middle\" x=\"2615\" y=\"-390.8\" font-family=\"Times,serif\" font-size=\"14.00\">True</text>\n</g>\n<!-- rllrrrrrn -->\n<g id=\"node87\" class=\"node\">\n<title>rllrrrrrn</title>\n<polygon fill=\"#ea0800\" fill-opacity=\"0.501961\" stroke=\"black\" points=\"2785,-368.5 2621,-368.5 2621,-315.5 2785,-315.5 2785,-368.5\"/>\n<text text-anchor=\"middle\" x=\"2703\" y=\"-353.3\" font-family=\"Times,serif\" font-size=\"14.00\">top&#45;middle&#45;square: x</text>\n<text text-anchor=\"middle\" x=\"2703\" y=\"-338.3\" font-family=\"Times,serif\" font-size=\"14.00\">n=12</text>\n<text text-anchor=\"middle\" x=\"2703\" y=\"-323.3\" font-family=\"Times,serif\" font-size=\"14.00\">{&#39;positive&#39;: 8, &#39;negative&#39;: 4}</text>\n</g>\n<!-- rllrrrrn&#45;&gt;rllrrrrrn -->\n<g id=\"edge85\" class=\"edge\">\n<title>rllrrrrn&#45;&gt;rllrrrrrn</title>\n<path fill=\"none\" stroke=\"black\" d=\"M2673.74,-420.27C2678.53,-407.62 2684.39,-392.16 2689.59,-378.4\"/>\n<polygon fill=\"black\" stroke=\"black\" points=\"2692.98,-379.35 2693.25,-368.75 2686.43,-376.87 2692.98,-379.35\"/>\n<text text-anchor=\"middle\" x=\"2700.5\" y=\"-390.8\" font-family=\"Times,serif\" font-size=\"14.00\">False</text>\n</g>\n<!-- rllrrrrlln -->\n<g id=\"node83\" class=\"node\">\n<title>rllrrrrlln</title>\n<polygon fill=\"#ea0800\" fill-opacity=\"0.501961\" stroke=\"black\" points=\"2490,-263.5 2326,-263.5 2326,-210.5 2490,-210.5 2490,-263.5\"/>\n<text text-anchor=\"middle\" x=\"2408\" y=\"-248.3\" font-family=\"Times,serif\" font-size=\"14.00\">middle&#45;right&#45;square: x</text>\n<text text-anchor=\"middle\" x=\"2408\" y=\"-233.3\" font-family=\"Times,serif\" font-size=\"14.00\">n=4</text>\n<text text-anchor=\"middle\" x=\"2408\" y=\"-218.3\" font-family=\"Times,serif\" font-size=\"14.00\">{&#39;positive&#39;: 3, &#39;negative&#39;: 1}</text>\n</g>\n<!-- rllrrrrln&#45;&gt;rllrrrrlln -->\n<g id=\"edge76\" class=\"edge\">\n<title>rllrrrrln&#45;&gt;rllrrrrlln</title>\n<path fill=\"none\" stroke=\"black\" d=\"M2492.78,-315.27C2477.95,-301.76 2459.61,-285.05 2443.79,-270.63\"/>\n<polygon fill=\"black\" stroke=\"black\" points=\"2446,-267.9 2436.26,-263.75 2441.29,-273.08 2446,-267.9\"/>\n<text text-anchor=\"middle\" x=\"2485\" y=\"-285.8\" font-family=\"Times,serif\" font-size=\"14.00\">True</text>\n</g>\n<!-- rllrrrrlrn -->\n<g id=\"node86\" class=\"node\">\n<title>rllrrrrlrn</title>\n<polygon fill=\"#ea0800\" fill-opacity=\"0.501961\" stroke=\"black\" points=\"2603.5,-264 2508.5,-264 2508.5,-210 2603.5,-210 2603.5,-264\"/>\n<text text-anchor=\"middle\" x=\"2556\" y=\"-232.8\" font-family=\"Times,serif\" font-size=\"14.00\">n=3</text>\n<text text-anchor=\"middle\" x=\"2556\" y=\"-217.8\" font-family=\"Times,serif\" font-size=\"14.00\">{&#39;negative&#39;: 3}</text>\n</g>\n<!-- rllrrrrln&#45;&gt;rllrrrrlrn -->\n<g id=\"edge77\" class=\"edge\">\n<title>rllrrrrln&#45;&gt;rllrrrrlrn</title>\n<path fill=\"none\" stroke=\"black\" d=\"M2529.74,-315.27C2534.01,-302.71 2539.22,-287.39 2543.86,-273.72\"/>\n<polygon fill=\"black\" stroke=\"black\" points=\"2547.22,-274.71 2547.13,-264.11 2540.6,-272.46 2547.22,-274.71\"/>\n<text text-anchor=\"middle\" x=\"2555.5\" y=\"-285.8\" font-family=\"Times,serif\" font-size=\"14.00\">False</text>\n</g>\n<!-- rllrrrrllln -->\n<g id=\"node84\" class=\"node\">\n<title>rllrrrrllln</title>\n<polygon fill=\"#ea0800\" fill-opacity=\"0.501961\" stroke=\"black\" points=\"2398,-159 2306,-159 2306,-105 2398,-105 2398,-159\"/>\n<text text-anchor=\"middle\" x=\"2352\" y=\"-127.8\" font-family=\"Times,serif\" font-size=\"14.00\">n=3</text>\n<text text-anchor=\"middle\" x=\"2352\" y=\"-112.8\" font-family=\"Times,serif\" font-size=\"14.00\">{&#39;positive&#39;: 3}</text>\n</g>\n<!-- rllrrrrlln&#45;&gt;rllrrrrllln -->\n<g id=\"edge74\" class=\"edge\">\n<title>rllrrrrlln&#45;&gt;rllrrrrllln</title>\n<path fill=\"none\" stroke=\"black\" d=\"M2394.01,-210.27C2387.05,-197.47 2378.53,-181.8 2370.99,-167.92\"/>\n<polygon fill=\"black\" stroke=\"black\" points=\"2374.05,-166.23 2366.2,-159.11 2367.9,-169.57 2374.05,-166.23\"/>\n<text text-anchor=\"middle\" x=\"2397\" y=\"-180.8\" font-family=\"Times,serif\" font-size=\"14.00\">True</text>\n</g>\n<!-- rllrrrrllrn -->\n<g id=\"node85\" class=\"node\">\n<title>rllrrrrllrn</title>\n<polygon fill=\"#ea0800\" fill-opacity=\"0.501961\" stroke=\"black\" points=\"2511.5,-159 2416.5,-159 2416.5,-105 2511.5,-105 2511.5,-159\"/>\n<text text-anchor=\"middle\" x=\"2464\" y=\"-127.8\" font-family=\"Times,serif\" font-size=\"14.00\">n=1</text>\n<text text-anchor=\"middle\" x=\"2464\" y=\"-112.8\" font-family=\"Times,serif\" font-size=\"14.00\">{&#39;negative&#39;: 1}</text>\n</g>\n<!-- rllrrrrlln&#45;&gt;rllrrrrllrn -->\n<g id=\"edge75\" class=\"edge\">\n<title>rllrrrrlln&#45;&gt;rllrrrrllrn</title>\n<path fill=\"none\" stroke=\"black\" d=\"M2421.99,-210.27C2428.95,-197.47 2437.47,-181.8 2445.01,-167.92\"/>\n<polygon fill=\"black\" stroke=\"black\" points=\"2448.1,-169.57 2449.8,-159.11 2441.95,-166.23 2448.1,-169.57\"/>\n<text text-anchor=\"middle\" x=\"2454.5\" y=\"-180.8\" font-family=\"Times,serif\" font-size=\"14.00\">False</text>\n</g>\n<!-- rllrrrrrln -->\n<g id=\"node88\" class=\"node\">\n<title>rllrrrrrln</title>\n<polygon fill=\"#ea0800\" fill-opacity=\"0.501961\" stroke=\"black\" points=\"2719,-264 2627,-264 2627,-210 2719,-210 2719,-264\"/>\n<text text-anchor=\"middle\" x=\"2673\" y=\"-232.8\" font-family=\"Times,serif\" font-size=\"14.00\">n=5</text>\n<text text-anchor=\"middle\" x=\"2673\" y=\"-217.8\" font-family=\"Times,serif\" font-size=\"14.00\">{&#39;positive&#39;: 5}</text>\n</g>\n<!-- rllrrrrrn&#45;&gt;rllrrrrrln -->\n<g id=\"edge79\" class=\"edge\">\n<title>rllrrrrrn&#45;&gt;rllrrrrrln</title>\n<path fill=\"none\" stroke=\"black\" d=\"M2690.77,-315.3C2688.27,-309.38 2685.84,-303.05 2684,-297 2681.79,-289.74 2679.94,-281.83 2678.43,-274.23\"/>\n<polygon fill=\"black\" stroke=\"black\" points=\"2681.83,-273.35 2676.59,-264.15 2674.95,-274.62 2681.83,-273.35\"/>\n<text text-anchor=\"middle\" x=\"2697\" y=\"-285.8\" font-family=\"Times,serif\" font-size=\"14.00\">True</text>\n</g>\n<!-- rllrrrrrrn -->\n<g id=\"node89\" class=\"node\">\n<title>rllrrrrrrn</title>\n<polygon fill=\"#ea0800\" fill-opacity=\"0.501961\" stroke=\"black\" points=\"2901,-263.5 2737,-263.5 2737,-210.5 2901,-210.5 2901,-263.5\"/>\n<text text-anchor=\"middle\" x=\"2819\" y=\"-248.3\" font-family=\"Times,serif\" font-size=\"14.00\">top&#45;right&#45;square: x</text>\n<text text-anchor=\"middle\" x=\"2819\" y=\"-233.3\" font-family=\"Times,serif\" font-size=\"14.00\">n=7</text>\n<text text-anchor=\"middle\" x=\"2819\" y=\"-218.3\" font-family=\"Times,serif\" font-size=\"14.00\">{&#39;positive&#39;: 3, &#39;negative&#39;: 4}</text>\n</g>\n<!-- rllrrrrrn&#45;&gt;rllrrrrrrn -->\n<g id=\"edge84\" class=\"edge\">\n<title>rllrrrrrn&#45;&gt;rllrrrrrrn</title>\n<path fill=\"none\" stroke=\"black\" d=\"M2731.97,-315.27C2747.2,-301.76 2766.02,-285.05 2782.26,-270.63\"/>\n<polygon fill=\"black\" stroke=\"black\" points=\"2784.84,-273.01 2789.99,-263.75 2780.19,-267.78 2784.84,-273.01\"/>\n<text text-anchor=\"middle\" x=\"2782.5\" y=\"-285.8\" font-family=\"Times,serif\" font-size=\"14.00\">False</text>\n</g>\n<!-- rllrrrrrrln -->\n<g id=\"node90\" class=\"node\">\n<title>rllrrrrrrln</title>\n<polygon fill=\"#ea0800\" fill-opacity=\"0.501961\" stroke=\"black\" points=\"2802,-158.5 2638,-158.5 2638,-105.5 2802,-105.5 2802,-158.5\"/>\n<text text-anchor=\"middle\" x=\"2720\" y=\"-143.3\" font-family=\"Times,serif\" font-size=\"14.00\">middle&#45;right&#45;square: x</text>\n<text text-anchor=\"middle\" x=\"2720\" y=\"-128.3\" font-family=\"Times,serif\" font-size=\"14.00\">n=4</text>\n<text text-anchor=\"middle\" x=\"2720\" y=\"-113.3\" font-family=\"Times,serif\" font-size=\"14.00\">{&#39;positive&#39;: 3, &#39;negative&#39;: 1}</text>\n</g>\n<!-- rllrrrrrrn&#45;&gt;rllrrrrrrln -->\n<g id=\"edge82\" class=\"edge\">\n<title>rllrrrrrrn&#45;&gt;rllrrrrrrln</title>\n<path fill=\"none\" stroke=\"black\" d=\"M2794.27,-210.27C2781.4,-196.88 2765.51,-180.35 2751.74,-166.02\"/>\n<polygon fill=\"black\" stroke=\"black\" points=\"2754.21,-163.54 2744.75,-158.75 2749.16,-168.39 2754.21,-163.54\"/>\n<text text-anchor=\"middle\" x=\"2789\" y=\"-180.8\" font-family=\"Times,serif\" font-size=\"14.00\">True</text>\n</g>\n<!-- rllrrrrrrrn -->\n<g id=\"node93\" class=\"node\">\n<title>rllrrrrrrrn</title>\n<polygon fill=\"#ea0800\" fill-opacity=\"0.501961\" stroke=\"black\" points=\"2915.5,-159 2820.5,-159 2820.5,-105 2915.5,-105 2915.5,-159\"/>\n<text text-anchor=\"middle\" x=\"2868\" y=\"-127.8\" font-family=\"Times,serif\" font-size=\"14.00\">n=3</text>\n<text text-anchor=\"middle\" x=\"2868\" y=\"-112.8\" font-family=\"Times,serif\" font-size=\"14.00\">{&#39;negative&#39;: 3}</text>\n</g>\n<!-- rllrrrrrrn&#45;&gt;rllrrrrrrrn -->\n<g id=\"edge83\" class=\"edge\">\n<title>rllrrrrrrn&#45;&gt;rllrrrrrrrn</title>\n<path fill=\"none\" stroke=\"black\" d=\"M2831.24,-210.27C2837.27,-197.59 2844.64,-182.1 2851.2,-168.32\"/>\n<polygon fill=\"black\" stroke=\"black\" points=\"2854.44,-169.65 2855.58,-159.11 2848.12,-166.64 2854.44,-169.65\"/>\n<text text-anchor=\"middle\" x=\"2861.5\" y=\"-180.8\" font-family=\"Times,serif\" font-size=\"14.00\">False</text>\n</g>\n<!-- rllrrrrrrlln -->\n<g id=\"node91\" class=\"node\">\n<title>rllrrrrrrlln</title>\n<polygon fill=\"#ea0800\" fill-opacity=\"0.501961\" stroke=\"black\" points=\"2710,-54 2618,-54 2618,0 2710,0 2710,-54\"/>\n<text text-anchor=\"middle\" x=\"2664\" y=\"-22.8\" font-family=\"Times,serif\" font-size=\"14.00\">n=3</text>\n<text text-anchor=\"middle\" x=\"2664\" y=\"-7.8\" font-family=\"Times,serif\" font-size=\"14.00\">{&#39;positive&#39;: 3}</text>\n</g>\n<!-- rllrrrrrrln&#45;&gt;rllrrrrrrlln -->\n<g id=\"edge80\" class=\"edge\">\n<title>rllrrrrrrln&#45;&gt;rllrrrrrrlln</title>\n<path fill=\"none\" stroke=\"black\" d=\"M2706.01,-105.27C2699.05,-92.47 2690.53,-76.8 2682.99,-62.92\"/>\n<polygon fill=\"black\" stroke=\"black\" points=\"2686.05,-61.23 2678.2,-54.11 2679.9,-64.57 2686.05,-61.23\"/>\n<text text-anchor=\"middle\" x=\"2709\" y=\"-75.8\" font-family=\"Times,serif\" font-size=\"14.00\">True</text>\n</g>\n<!-- rllrrrrrrlrn -->\n<g id=\"node92\" class=\"node\">\n<title>rllrrrrrrlrn</title>\n<polygon fill=\"#ea0800\" fill-opacity=\"0.501961\" stroke=\"black\" points=\"2823.5,-54 2728.5,-54 2728.5,0 2823.5,0 2823.5,-54\"/>\n<text text-anchor=\"middle\" x=\"2776\" y=\"-22.8\" font-family=\"Times,serif\" font-size=\"14.00\">n=1</text>\n<text text-anchor=\"middle\" x=\"2776\" y=\"-7.8\" font-family=\"Times,serif\" font-size=\"14.00\">{&#39;negative&#39;: 1}</text>\n</g>\n<!-- rllrrrrrrln&#45;&gt;rllrrrrrrlrn -->\n<g id=\"edge81\" class=\"edge\">\n<title>rllrrrrrrln&#45;&gt;rllrrrrrrlrn</title>\n<path fill=\"none\" stroke=\"black\" d=\"M2733.99,-105.27C2740.95,-92.47 2749.47,-76.8 2757.01,-62.92\"/>\n<polygon fill=\"black\" stroke=\"black\" points=\"2760.1,-64.57 2761.8,-54.11 2753.95,-61.23 2760.1,-64.57\"/>\n<text text-anchor=\"middle\" x=\"2766.5\" y=\"-75.8\" font-family=\"Times,serif\" font-size=\"14.00\">False</text>\n</g>\n<!-- rlrln -->\n<g id=\"node95\" class=\"node\">\n<title>rlrln</title>\n<polygon fill=\"#ea0800\" fill-opacity=\"0.501961\" stroke=\"black\" points=\"2908.5,-788.5 2731.5,-788.5 2731.5,-735.5 2908.5,-735.5 2908.5,-788.5\"/>\n<text text-anchor=\"middle\" x=\"2820\" y=\"-773.3\" font-family=\"Times,serif\" font-size=\"14.00\">bottom&#45;middle&#45;square: o</text>\n<text text-anchor=\"middle\" x=\"2820\" y=\"-758.3\" font-family=\"Times,serif\" font-size=\"14.00\">n=54</text>\n<text text-anchor=\"middle\" x=\"2820\" y=\"-743.3\" font-family=\"Times,serif\" font-size=\"14.00\">{&#39;positive&#39;: 23, &#39;negative&#39;: 31}</text>\n</g>\n<!-- rlrn&#45;&gt;rlrln -->\n<g id=\"edge103\" class=\"edge\">\n<title>rlrn&#45;&gt;rlrln</title>\n<path fill=\"none\" stroke=\"black\" d=\"M2821.5,-840.27C2821.26,-827.74 2820.96,-812.46 2820.7,-798.81\"/>\n<polygon fill=\"black\" stroke=\"black\" points=\"2824.19,-798.68 2820.5,-788.75 2817.19,-798.82 2824.19,-798.68\"/>\n<text text-anchor=\"middle\" x=\"2835\" y=\"-810.8\" font-family=\"Times,serif\" font-size=\"14.00\">True</text>\n</g>\n<!-- rlrrn -->\n<g id=\"node108\" class=\"node\">\n<title>rlrrn</title>\n<polygon fill=\"#ea0800\" fill-opacity=\"0.501961\" stroke=\"black\" points=\"3024,-789 2926,-789 2926,-735 3024,-735 3024,-789\"/>\n<text text-anchor=\"middle\" x=\"2975\" y=\"-757.8\" font-family=\"Times,serif\" font-size=\"14.00\">n=82</text>\n<text text-anchor=\"middle\" x=\"2975\" y=\"-742.8\" font-family=\"Times,serif\" font-size=\"14.00\">{&#39;positive&#39;: 82}</text>\n</g>\n<!-- rlrn&#45;&gt;rlrrn -->\n<g id=\"edge104\" class=\"edge\">\n<title>rlrn&#45;&gt;rlrrn</title>\n<path fill=\"none\" stroke=\"black\" d=\"M2860.21,-840.27C2880.69,-826.49 2906.09,-809.39 2927.79,-794.78\"/>\n<polygon fill=\"black\" stroke=\"black\" points=\"2929.87,-797.6 2936.21,-789.11 2925.96,-791.79 2929.87,-797.6\"/>\n<text text-anchor=\"middle\" x=\"2922.5\" y=\"-810.8\" font-family=\"Times,serif\" font-size=\"14.00\">False</text>\n</g>\n<!-- rlrlln -->\n<g id=\"node96\" class=\"node\">\n<title>rlrlln</title>\n<polygon fill=\"#ea0800\" fill-opacity=\"0.501961\" stroke=\"black\" points=\"2864.5,-684 2763.5,-684 2763.5,-630 2864.5,-630 2864.5,-684\"/>\n<text text-anchor=\"middle\" x=\"2814\" y=\"-652.8\" font-family=\"Times,serif\" font-size=\"14.00\">n=26</text>\n<text text-anchor=\"middle\" x=\"2814\" y=\"-637.8\" font-family=\"Times,serif\" font-size=\"14.00\">{&#39;negative&#39;: 26}</text>\n</g>\n<!-- rlrln&#45;&gt;rlrlln -->\n<g id=\"edge91\" class=\"edge\">\n<title>rlrln&#45;&gt;rlrlln</title>\n<path fill=\"none\" stroke=\"black\" d=\"M2818.5,-735.27C2817.78,-722.83 2816.89,-707.69 2816.1,-694.12\"/>\n<polygon fill=\"black\" stroke=\"black\" points=\"2819.6,-693.89 2815.52,-684.11 2812.61,-694.3 2819.6,-693.89\"/>\n<text text-anchor=\"middle\" x=\"2831\" y=\"-705.8\" font-family=\"Times,serif\" font-size=\"14.00\">True</text>\n</g>\n<!-- rlrlrn -->\n<g id=\"node97\" class=\"node\">\n<title>rlrlrn</title>\n<polygon fill=\"#ea0800\" fill-opacity=\"0.501961\" stroke=\"black\" points=\"3053,-683.5 2883,-683.5 2883,-630.5 3053,-630.5 3053,-683.5\"/>\n<text text-anchor=\"middle\" x=\"2968\" y=\"-668.3\" font-family=\"Times,serif\" font-size=\"14.00\">middle&#45;right&#45;square: o</text>\n<text text-anchor=\"middle\" x=\"2968\" y=\"-653.3\" font-family=\"Times,serif\" font-size=\"14.00\">n=28</text>\n<text text-anchor=\"middle\" x=\"2968\" y=\"-638.3\" font-family=\"Times,serif\" font-size=\"14.00\">{&#39;positive&#39;: 23, &#39;negative&#39;: 5}</text>\n</g>\n<!-- rlrln&#45;&gt;rlrlrn -->\n<g id=\"edge102\" class=\"edge\">\n<title>rlrln&#45;&gt;rlrlrn</title>\n<path fill=\"none\" stroke=\"black\" d=\"M2856.96,-735.27C2876.91,-721.4 2901.68,-704.15 2922.77,-689.48\"/>\n<polygon fill=\"black\" stroke=\"black\" points=\"2925.04,-692.16 2931.25,-683.58 2921.04,-686.42 2925.04,-692.16\"/>\n<text text-anchor=\"middle\" x=\"2917.5\" y=\"-705.8\" font-family=\"Times,serif\" font-size=\"14.00\">False</text>\n</g>\n<!-- rlrlrln -->\n<g id=\"node98\" class=\"node\">\n<title>rlrlrln</title>\n<polygon fill=\"#ea0800\" fill-opacity=\"0.501961\" stroke=\"black\" points=\"3043,-578.5 2879,-578.5 2879,-525.5 3043,-525.5 3043,-578.5\"/>\n<text text-anchor=\"middle\" x=\"2961\" y=\"-563.3\" font-family=\"Times,serif\" font-size=\"14.00\">top&#45;right&#45;square: o</text>\n<text text-anchor=\"middle\" x=\"2961\" y=\"-548.3\" font-family=\"Times,serif\" font-size=\"14.00\">n=10</text>\n<text text-anchor=\"middle\" x=\"2961\" y=\"-533.3\" font-family=\"Times,serif\" font-size=\"14.00\">{&#39;positive&#39;: 6, &#39;negative&#39;: 4}</text>\n</g>\n<!-- rlrlrn&#45;&gt;rlrlrln -->\n<g id=\"edge96\" class=\"edge\">\n<title>rlrlrn&#45;&gt;rlrlrln</title>\n<path fill=\"none\" stroke=\"black\" d=\"M2966.25,-630.27C2965.4,-617.74 2964.36,-602.46 2963.43,-588.81\"/>\n<polygon fill=\"black\" stroke=\"black\" points=\"2966.92,-588.49 2962.75,-578.75 2959.94,-588.97 2966.92,-588.49\"/>\n<text text-anchor=\"middle\" x=\"2978\" y=\"-600.8\" font-family=\"Times,serif\" font-size=\"14.00\">True</text>\n</g>\n<!-- rlrlrrn -->\n<g id=\"node103\" class=\"node\">\n<title>rlrlrrn</title>\n<polygon fill=\"#ea0800\" fill-opacity=\"0.501961\" stroke=\"black\" points=\"3231,-578.5 3061,-578.5 3061,-525.5 3231,-525.5 3231,-578.5\"/>\n<text text-anchor=\"middle\" x=\"3146\" y=\"-563.3\" font-family=\"Times,serif\" font-size=\"14.00\">top&#45;middle&#45;square: o</text>\n<text text-anchor=\"middle\" x=\"3146\" y=\"-548.3\" font-family=\"Times,serif\" font-size=\"14.00\">n=18</text>\n<text text-anchor=\"middle\" x=\"3146\" y=\"-533.3\" font-family=\"Times,serif\" font-size=\"14.00\">{&#39;positive&#39;: 17, &#39;negative&#39;: 1}</text>\n</g>\n<!-- rlrlrn&#45;&gt;rlrlrrn -->\n<g id=\"edge101\" class=\"edge\">\n<title>rlrlrn&#45;&gt;rlrlrrn</title>\n<path fill=\"none\" stroke=\"black\" d=\"M3012.46,-630.27C3036.87,-616.15 3067.3,-598.54 3092.95,-583.7\"/>\n<polygon fill=\"black\" stroke=\"black\" points=\"3094.9,-586.61 3101.8,-578.58 3091.39,-580.56 3094.9,-586.61\"/>\n<text text-anchor=\"middle\" x=\"3082.5\" y=\"-600.8\" font-family=\"Times,serif\" font-size=\"14.00\">False</text>\n</g>\n<!-- rlrlrlln -->\n<g id=\"node99\" class=\"node\">\n<title>rlrlrlln</title>\n<polygon fill=\"#ea0800\" fill-opacity=\"0.501961\" stroke=\"black\" points=\"2862.5,-474 2767.5,-474 2767.5,-420 2862.5,-420 2862.5,-474\"/>\n<text text-anchor=\"middle\" x=\"2815\" y=\"-442.8\" font-family=\"Times,serif\" font-size=\"14.00\">n=3</text>\n<text text-anchor=\"middle\" x=\"2815\" y=\"-427.8\" font-family=\"Times,serif\" font-size=\"14.00\">{&#39;negative&#39;: 3}</text>\n</g>\n<!-- rlrlrln&#45;&gt;rlrlrlln -->\n<g id=\"edge92\" class=\"edge\">\n<title>rlrlrln&#45;&gt;rlrlrlln</title>\n<path fill=\"none\" stroke=\"black\" d=\"M2924.53,-525.27C2905.09,-511.55 2880.97,-494.54 2860.33,-479.98\"/>\n<polygon fill=\"black\" stroke=\"black\" points=\"2862.2,-477.02 2852.01,-474.11 2858.17,-482.74 2862.2,-477.02\"/>\n<text text-anchor=\"middle\" x=\"2910\" y=\"-495.8\" font-family=\"Times,serif\" font-size=\"14.00\">True</text>\n</g>\n<!-- rlrlrlrn -->\n<g id=\"node100\" class=\"node\">\n<title>rlrlrlrn</title>\n<polygon fill=\"#ea0800\" fill-opacity=\"0.501961\" stroke=\"black\" points=\"3045,-473.5 2881,-473.5 2881,-420.5 3045,-420.5 3045,-473.5\"/>\n<text text-anchor=\"middle\" x=\"2963\" y=\"-458.3\" font-family=\"Times,serif\" font-size=\"14.00\">top&#45;middle&#45;square: x</text>\n<text text-anchor=\"middle\" x=\"2963\" y=\"-443.3\" font-family=\"Times,serif\" font-size=\"14.00\">n=7</text>\n<text text-anchor=\"middle\" x=\"2963\" y=\"-428.3\" font-family=\"Times,serif\" font-size=\"14.00\">{&#39;positive&#39;: 6, &#39;negative&#39;: 1}</text>\n</g>\n<!-- rlrlrln&#45;&gt;rlrlrlrn -->\n<g id=\"edge95\" class=\"edge\">\n<title>rlrlrln&#45;&gt;rlrlrlrn</title>\n<path fill=\"none\" stroke=\"black\" d=\"M2961.5,-525.27C2961.74,-512.74 2962.04,-497.46 2962.3,-483.81\"/>\n<polygon fill=\"black\" stroke=\"black\" points=\"2965.81,-483.82 2962.5,-473.75 2958.81,-483.68 2965.81,-483.82\"/>\n<text text-anchor=\"middle\" x=\"2977.5\" y=\"-495.8\" font-family=\"Times,serif\" font-size=\"14.00\">False</text>\n</g>\n<!-- rlrlrlrln -->\n<g id=\"node101\" class=\"node\">\n<title>rlrlrlrln</title>\n<polygon fill=\"#ea0800\" fill-opacity=\"0.501961\" stroke=\"black\" points=\"2914,-369 2822,-369 2822,-315 2914,-315 2914,-369\"/>\n<text text-anchor=\"middle\" x=\"2868\" y=\"-337.8\" font-family=\"Times,serif\" font-size=\"14.00\">n=6</text>\n<text text-anchor=\"middle\" x=\"2868\" y=\"-322.8\" font-family=\"Times,serif\" font-size=\"14.00\">{&#39;positive&#39;: 6}</text>\n</g>\n<!-- rlrlrlrn&#45;&gt;rlrlrlrln -->\n<g id=\"edge93\" class=\"edge\">\n<title>rlrlrlrn&#45;&gt;rlrlrlrln</title>\n<path fill=\"none\" stroke=\"black\" d=\"M2939.27,-420.27C2927.12,-407.1 2912.18,-390.9 2899.12,-376.74\"/>\n<polygon fill=\"black\" stroke=\"black\" points=\"2901.44,-374.09 2892.08,-369.11 2896.29,-378.84 2901.44,-374.09\"/>\n<text text-anchor=\"middle\" x=\"2935\" y=\"-390.8\" font-family=\"Times,serif\" font-size=\"14.00\">True</text>\n</g>\n<!-- rlrlrlrrn -->\n<g id=\"node102\" class=\"node\">\n<title>rlrlrlrrn</title>\n<polygon fill=\"#ea0800\" fill-opacity=\"0.501961\" stroke=\"black\" points=\"3027.5,-369 2932.5,-369 2932.5,-315 3027.5,-315 3027.5,-369\"/>\n<text text-anchor=\"middle\" x=\"2980\" y=\"-337.8\" font-family=\"Times,serif\" font-size=\"14.00\">n=1</text>\n<text text-anchor=\"middle\" x=\"2980\" y=\"-322.8\" font-family=\"Times,serif\" font-size=\"14.00\">{&#39;negative&#39;: 1}</text>\n</g>\n<!-- rlrlrlrn&#45;&gt;rlrlrlrrn -->\n<g id=\"edge94\" class=\"edge\">\n<title>rlrlrlrn&#45;&gt;rlrlrlrrn</title>\n<path fill=\"none\" stroke=\"black\" d=\"M2967.25,-420.27C2969.3,-407.83 2971.8,-392.69 2974.04,-379.12\"/>\n<polygon fill=\"black\" stroke=\"black\" points=\"2977.51,-379.55 2975.69,-369.11 2970.61,-378.41 2977.51,-379.55\"/>\n<text text-anchor=\"middle\" x=\"2987.5\" y=\"-390.8\" font-family=\"Times,serif\" font-size=\"14.00\">False</text>\n</g>\n<!-- rlrlrrln -->\n<g id=\"node104\" class=\"node\">\n<title>rlrlrrln</title>\n<polygon fill=\"#ea0800\" fill-opacity=\"0.501961\" stroke=\"black\" points=\"3227,-473.5 3063,-473.5 3063,-420.5 3227,-420.5 3227,-473.5\"/>\n<text text-anchor=\"middle\" x=\"3145\" y=\"-458.3\" font-family=\"Times,serif\" font-size=\"14.00\">middle&#45;left&#45;square: x</text>\n<text text-anchor=\"middle\" x=\"3145\" y=\"-443.3\" font-family=\"Times,serif\" font-size=\"14.00\">n=5</text>\n<text text-anchor=\"middle\" x=\"3145\" y=\"-428.3\" font-family=\"Times,serif\" font-size=\"14.00\">{&#39;positive&#39;: 4, &#39;negative&#39;: 1}</text>\n</g>\n<!-- rlrlrrn&#45;&gt;rlrlrrln -->\n<g id=\"edge99\" class=\"edge\">\n<title>rlrlrrn&#45;&gt;rlrlrrln</title>\n<path fill=\"none\" stroke=\"black\" d=\"M3145.75,-525.27C3145.63,-512.74 3145.48,-497.46 3145.35,-483.81\"/>\n<polygon fill=\"black\" stroke=\"black\" points=\"3148.85,-483.72 3145.25,-473.75 3141.85,-483.79 3148.85,-483.72\"/>\n<text text-anchor=\"middle\" x=\"3159\" y=\"-495.8\" font-family=\"Times,serif\" font-size=\"14.00\">True</text>\n</g>\n<!-- rlrlrrrn -->\n<g id=\"node107\" class=\"node\">\n<title>rlrlrrrn</title>\n<polygon fill=\"#ea0800\" fill-opacity=\"0.501961\" stroke=\"black\" points=\"3343,-474 3245,-474 3245,-420 3343,-420 3343,-474\"/>\n<text text-anchor=\"middle\" x=\"3294\" y=\"-442.8\" font-family=\"Times,serif\" font-size=\"14.00\">n=13</text>\n<text text-anchor=\"middle\" x=\"3294\" y=\"-427.8\" font-family=\"Times,serif\" font-size=\"14.00\">{&#39;positive&#39;: 13}</text>\n</g>\n<!-- rlrlrrn&#45;&gt;rlrlrrrn -->\n<g id=\"edge100\" class=\"edge\">\n<title>rlrlrrn&#45;&gt;rlrlrrrn</title>\n<path fill=\"none\" stroke=\"black\" d=\"M3182.96,-525.27C3202.68,-511.55 3227.12,-494.54 3248.05,-479.98\"/>\n<polygon fill=\"black\" stroke=\"black\" points=\"3250.27,-482.7 3256.48,-474.11 3246.27,-476.95 3250.27,-482.7\"/>\n<text text-anchor=\"middle\" x=\"3243.5\" y=\"-495.8\" font-family=\"Times,serif\" font-size=\"14.00\">False</text>\n</g>\n<!-- rlrlrrlln -->\n<g id=\"node105\" class=\"node\">\n<title>rlrlrrlln</title>\n<polygon fill=\"#ea0800\" fill-opacity=\"0.501961\" stroke=\"black\" points=\"3156,-369 3064,-369 3064,-315 3156,-315 3156,-369\"/>\n<text text-anchor=\"middle\" x=\"3110\" y=\"-337.8\" font-family=\"Times,serif\" font-size=\"14.00\">n=4</text>\n<text text-anchor=\"middle\" x=\"3110\" y=\"-322.8\" font-family=\"Times,serif\" font-size=\"14.00\">{&#39;positive&#39;: 4}</text>\n</g>\n<!-- rlrlrrln&#45;&gt;rlrlrrlln -->\n<g id=\"edge97\" class=\"edge\">\n<title>rlrlrrln&#45;&gt;rlrlrrlln</title>\n<path fill=\"none\" stroke=\"black\" d=\"M3136.26,-420.27C3131.99,-407.71 3126.78,-392.39 3122.14,-378.72\"/>\n<polygon fill=\"black\" stroke=\"black\" points=\"3125.4,-377.46 3118.87,-369.11 3118.78,-379.71 3125.4,-377.46\"/>\n<text text-anchor=\"middle\" x=\"3143\" y=\"-390.8\" font-family=\"Times,serif\" font-size=\"14.00\">True</text>\n</g>\n<!-- rlrlrrlrn -->\n<g id=\"node106\" class=\"node\">\n<title>rlrlrrlrn</title>\n<polygon fill=\"#ea0800\" fill-opacity=\"0.501961\" stroke=\"black\" points=\"3269.5,-369 3174.5,-369 3174.5,-315 3269.5,-315 3269.5,-369\"/>\n<text text-anchor=\"middle\" x=\"3222\" y=\"-337.8\" font-family=\"Times,serif\" font-size=\"14.00\">n=1</text>\n<text text-anchor=\"middle\" x=\"3222\" y=\"-322.8\" font-family=\"Times,serif\" font-size=\"14.00\">{&#39;negative&#39;: 1}</text>\n</g>\n<!-- rlrlrrln&#45;&gt;rlrlrrlrn -->\n<g id=\"edge98\" class=\"edge\">\n<title>rlrlrrln&#45;&gt;rlrlrrlrn</title>\n<path fill=\"none\" stroke=\"black\" d=\"M3164.23,-420.27C3173.99,-407.22 3185.97,-391.2 3196.48,-377.13\"/>\n<polygon fill=\"black\" stroke=\"black\" points=\"3199.29,-379.22 3202.48,-369.11 3193.69,-375.03 3199.29,-379.22\"/>\n<text text-anchor=\"middle\" x=\"3203.5\" y=\"-390.8\" font-family=\"Times,serif\" font-size=\"14.00\">False</text>\n</g>\n<!-- rrln -->\n<g id=\"node110\" class=\"node\">\n<title>rrln</title>\n<polygon fill=\"#ea0800\" fill-opacity=\"0.501961\" stroke=\"black\" points=\"3652.5,-893.5 3475.5,-893.5 3475.5,-840.5 3652.5,-840.5 3652.5,-893.5\"/>\n<text text-anchor=\"middle\" x=\"3564\" y=\"-878.3\" font-family=\"Times,serif\" font-size=\"14.00\">top&#45;left&#45;square: o</text>\n<text text-anchor=\"middle\" x=\"3564\" y=\"-863.3\" font-family=\"Times,serif\" font-size=\"14.00\">n=145</text>\n<text text-anchor=\"middle\" x=\"3564\" y=\"-848.3\" font-family=\"Times,serif\" font-size=\"14.00\">{&#39;negative&#39;: 53, &#39;positive&#39;: 92}</text>\n</g>\n<!-- rrn&#45;&gt;rrln -->\n<g id=\"edge129\" class=\"edge\">\n<title>rrn&#45;&gt;rrln</title>\n<path fill=\"none\" stroke=\"black\" d=\"M3564,-944.9C3564,-932.42 3564,-917.22 3564,-903.63\"/>\n<polygon fill=\"black\" stroke=\"black\" points=\"3567.5,-903.63 3564,-893.63 3560.5,-903.63 3567.5,-903.63\"/>\n<text text-anchor=\"middle\" x=\"3577\" y=\"-915.8\" font-family=\"Times,serif\" font-size=\"14.00\">True</text>\n</g>\n<!-- rrrn -->\n<g id=\"node133\" class=\"node\">\n<title>rrrn</title>\n<polygon fill=\"#ea0800\" fill-opacity=\"0.501961\" stroke=\"black\" points=\"3775.5,-894 3670.5,-894 3670.5,-840 3775.5,-840 3775.5,-894\"/>\n<text text-anchor=\"middle\" x=\"3723\" y=\"-862.8\" font-family=\"Times,serif\" font-size=\"14.00\">n=204</text>\n<text text-anchor=\"middle\" x=\"3723\" y=\"-847.8\" font-family=\"Times,serif\" font-size=\"14.00\">{&#39;positive&#39;: 204}</text>\n</g>\n<!-- rrn&#45;&gt;rrrn -->\n<g id=\"edge130\" class=\"edge\">\n<title>rrn&#45;&gt;rrrn</title>\n<path fill=\"none\" stroke=\"black\" d=\"M3603.71,-944.9C3625,-931.18 3651.42,-914.15 3673.97,-899.6\"/>\n<polygon fill=\"black\" stroke=\"black\" points=\"3675.9,-902.53 3682.41,-894.17 3672.11,-896.64 3675.9,-902.53\"/>\n<text text-anchor=\"middle\" x=\"3668.5\" y=\"-915.8\" font-family=\"Times,serif\" font-size=\"14.00\">False</text>\n</g>\n<!-- rrlln -->\n<g id=\"node111\" class=\"node\">\n<title>rrlln</title>\n<polygon fill=\"#ea0800\" fill-opacity=\"0.501961\" stroke=\"black\" points=\"3652.5,-788.5 3475.5,-788.5 3475.5,-735.5 3652.5,-735.5 3652.5,-788.5\"/>\n<text text-anchor=\"middle\" x=\"3564\" y=\"-773.3\" font-family=\"Times,serif\" font-size=\"14.00\">top&#45;middle&#45;square: o</text>\n<text text-anchor=\"middle\" x=\"3564\" y=\"-758.3\" font-family=\"Times,serif\" font-size=\"14.00\">n=55</text>\n<text text-anchor=\"middle\" x=\"3564\" y=\"-743.3\" font-family=\"Times,serif\" font-size=\"14.00\">{&#39;negative&#39;: 32, &#39;positive&#39;: 23}</text>\n</g>\n<!-- rrln&#45;&gt;rrlln -->\n<g id=\"edge119\" class=\"edge\">\n<title>rrln&#45;&gt;rrlln</title>\n<path fill=\"none\" stroke=\"black\" d=\"M3564,-840.27C3564,-827.74 3564,-812.46 3564,-798.81\"/>\n<polygon fill=\"black\" stroke=\"black\" points=\"3567.5,-798.75 3564,-788.75 3560.5,-798.75 3567.5,-798.75\"/>\n<text text-anchor=\"middle\" x=\"3577\" y=\"-810.8\" font-family=\"Times,serif\" font-size=\"14.00\">True</text>\n</g>\n<!-- rrlrn -->\n<g id=\"node124\" class=\"node\">\n<title>rrlrn</title>\n<polygon fill=\"#ea0800\" fill-opacity=\"0.501961\" stroke=\"black\" points=\"3981.5,-788.5 3804.5,-788.5 3804.5,-735.5 3981.5,-735.5 3981.5,-788.5\"/>\n<text text-anchor=\"middle\" x=\"3893\" y=\"-773.3\" font-family=\"Times,serif\" font-size=\"14.00\">bottom&#45;right&#45;square: o</text>\n<text text-anchor=\"middle\" x=\"3893\" y=\"-758.3\" font-family=\"Times,serif\" font-size=\"14.00\">n=90</text>\n<text text-anchor=\"middle\" x=\"3893\" y=\"-743.3\" font-family=\"Times,serif\" font-size=\"14.00\">{&#39;positive&#39;: 69, &#39;negative&#39;: 21}</text>\n</g>\n<!-- rrln&#45;&gt;rrlrn -->\n<g id=\"edge128\" class=\"edge\">\n<title>rrln&#45;&gt;rrlrn</title>\n<path fill=\"none\" stroke=\"black\" d=\"M3645.75,-840.41C3693.12,-825.58 3752.86,-806.87 3801.76,-791.56\"/>\n<polygon fill=\"black\" stroke=\"black\" points=\"3802.89,-794.88 3811.39,-788.55 3800.8,-788.2 3802.89,-794.88\"/>\n<text text-anchor=\"middle\" x=\"3763.5\" y=\"-810.8\" font-family=\"Times,serif\" font-size=\"14.00\">False</text>\n</g>\n<!-- rrllln -->\n<g id=\"node112\" class=\"node\">\n<title>rrllln</title>\n<polygon fill=\"#ea0800\" fill-opacity=\"0.501961\" stroke=\"black\" points=\"3537.5,-684 3436.5,-684 3436.5,-630 3537.5,-630 3537.5,-684\"/>\n<text text-anchor=\"middle\" x=\"3487\" y=\"-652.8\" font-family=\"Times,serif\" font-size=\"14.00\">n=27</text>\n<text text-anchor=\"middle\" x=\"3487\" y=\"-637.8\" font-family=\"Times,serif\" font-size=\"14.00\">{&#39;negative&#39;: 27}</text>\n</g>\n<!-- rrlln&#45;&gt;rrllln -->\n<g id=\"edge107\" class=\"edge\">\n<title>rrlln&#45;&gt;rrllln</title>\n<path fill=\"none\" stroke=\"black\" d=\"M3544.77,-735.27C3535.01,-722.22 3523.03,-706.2 3512.52,-692.13\"/>\n<polygon fill=\"black\" stroke=\"black\" points=\"3515.31,-690.03 3506.52,-684.11 3509.71,-694.22 3515.31,-690.03\"/>\n<text text-anchor=\"middle\" x=\"3544\" y=\"-705.8\" font-family=\"Times,serif\" font-size=\"14.00\">True</text>\n</g>\n<!-- rrllrn -->\n<g id=\"node113\" class=\"node\">\n<title>rrllrn</title>\n<polygon fill=\"#ea0800\" fill-opacity=\"0.501961\" stroke=\"black\" points=\"3726,-683.5 3556,-683.5 3556,-630.5 3726,-630.5 3726,-683.5\"/>\n<text text-anchor=\"middle\" x=\"3641\" y=\"-668.3\" font-family=\"Times,serif\" font-size=\"14.00\">middle&#45;right&#45;square: o</text>\n<text text-anchor=\"middle\" x=\"3641\" y=\"-653.3\" font-family=\"Times,serif\" font-size=\"14.00\">n=28</text>\n<text text-anchor=\"middle\" x=\"3641\" y=\"-638.3\" font-family=\"Times,serif\" font-size=\"14.00\">{&#39;positive&#39;: 23, &#39;negative&#39;: 5}</text>\n</g>\n<!-- rrlln&#45;&gt;rrllrn -->\n<g id=\"edge118\" class=\"edge\">\n<title>rrlln&#45;&gt;rrllrn</title>\n<path fill=\"none\" stroke=\"black\" d=\"M3583.23,-735.27C3593.06,-722.12 3605.15,-705.95 3615.72,-691.81\"/>\n<polygon fill=\"black\" stroke=\"black\" points=\"3618.56,-693.86 3621.75,-683.75 3612.96,-689.67 3618.56,-693.86\"/>\n<text text-anchor=\"middle\" x=\"3622.5\" y=\"-705.8\" font-family=\"Times,serif\" font-size=\"14.00\">False</text>\n</g>\n<!-- rrllrln -->\n<g id=\"node114\" class=\"node\">\n<title>rrllrln</title>\n<polygon fill=\"#ea0800\" fill-opacity=\"0.501961\" stroke=\"black\" points=\"3636,-578.5 3472,-578.5 3472,-525.5 3636,-525.5 3636,-578.5\"/>\n<text text-anchor=\"middle\" x=\"3554\" y=\"-563.3\" font-family=\"Times,serif\" font-size=\"14.00\">bottom&#45;right&#45;square: o</text>\n<text text-anchor=\"middle\" x=\"3554\" y=\"-548.3\" font-family=\"Times,serif\" font-size=\"14.00\">n=11</text>\n<text text-anchor=\"middle\" x=\"3554\" y=\"-533.3\" font-family=\"Times,serif\" font-size=\"14.00\">{&#39;positive&#39;: 7, &#39;negative&#39;: 4}</text>\n</g>\n<!-- rrllrn&#45;&gt;rrllrln -->\n<g id=\"edge112\" class=\"edge\">\n<title>rrllrn&#45;&gt;rrllrln</title>\n<path fill=\"none\" stroke=\"black\" d=\"M3619.27,-630.27C3608.06,-617 3594.25,-600.65 3582.22,-586.41\"/>\n<polygon fill=\"black\" stroke=\"black\" points=\"3584.88,-584.14 3575.75,-578.75 3579.53,-588.65 3584.88,-584.14\"/>\n<text text-anchor=\"middle\" x=\"3616\" y=\"-600.8\" font-family=\"Times,serif\" font-size=\"14.00\">True</text>\n</g>\n<!-- rrllrrn -->\n<g id=\"node119\" class=\"node\">\n<title>rrllrrn</title>\n<polygon fill=\"#ea0800\" fill-opacity=\"0.501961\" stroke=\"black\" points=\"3824,-578.5 3654,-578.5 3654,-525.5 3824,-525.5 3824,-578.5\"/>\n<text text-anchor=\"middle\" x=\"3739\" y=\"-563.3\" font-family=\"Times,serif\" font-size=\"14.00\">bottom&#45;middle&#45;square: o</text>\n<text text-anchor=\"middle\" x=\"3739\" y=\"-548.3\" font-family=\"Times,serif\" font-size=\"14.00\">n=17</text>\n<text text-anchor=\"middle\" x=\"3739\" y=\"-533.3\" font-family=\"Times,serif\" font-size=\"14.00\">{&#39;positive&#39;: 16, &#39;negative&#39;: 1}</text>\n</g>\n<!-- rrllrn&#45;&gt;rrllrrn -->\n<g id=\"edge117\" class=\"edge\">\n<title>rrllrn&#45;&gt;rrllrrn</title>\n<path fill=\"none\" stroke=\"black\" d=\"M3665.48,-630.27C3678.22,-616.88 3693.95,-600.35 3707.58,-586.02\"/>\n<polygon fill=\"black\" stroke=\"black\" points=\"3710.14,-588.41 3714.5,-578.75 3705.07,-583.59 3710.14,-588.41\"/>\n<text text-anchor=\"middle\" x=\"3710.5\" y=\"-600.8\" font-family=\"Times,serif\" font-size=\"14.00\">False</text>\n</g>\n<!-- rrllrlln -->\n<g id=\"node115\" class=\"node\">\n<title>rrllrlln</title>\n<polygon fill=\"#ea0800\" fill-opacity=\"0.501961\" stroke=\"black\" points=\"3456.5,-474 3361.5,-474 3361.5,-420 3456.5,-420 3456.5,-474\"/>\n<text text-anchor=\"middle\" x=\"3409\" y=\"-442.8\" font-family=\"Times,serif\" font-size=\"14.00\">n=3</text>\n<text text-anchor=\"middle\" x=\"3409\" y=\"-427.8\" font-family=\"Times,serif\" font-size=\"14.00\">{&#39;negative&#39;: 3}</text>\n</g>\n<!-- rrllrln&#45;&gt;rrllrlln -->\n<g id=\"edge108\" class=\"edge\">\n<title>rrllrln&#45;&gt;rrllrlln</title>\n<path fill=\"none\" stroke=\"black\" d=\"M3517.78,-525.27C3498.47,-511.55 3474.52,-494.54 3454.02,-479.98\"/>\n<polygon fill=\"black\" stroke=\"black\" points=\"3455.94,-477.05 3445.76,-474.11 3451.89,-482.76 3455.94,-477.05\"/>\n<text text-anchor=\"middle\" x=\"3504\" y=\"-495.8\" font-family=\"Times,serif\" font-size=\"14.00\">True</text>\n</g>\n<!-- rrllrlrn -->\n<g id=\"node116\" class=\"node\">\n<title>rrllrlrn</title>\n<polygon fill=\"#ea0800\" fill-opacity=\"0.501961\" stroke=\"black\" points=\"3639,-473.5 3475,-473.5 3475,-420.5 3639,-420.5 3639,-473.5\"/>\n<text text-anchor=\"middle\" x=\"3557\" y=\"-458.3\" font-family=\"Times,serif\" font-size=\"14.00\">bottom&#45;middle&#45;square: x</text>\n<text text-anchor=\"middle\" x=\"3557\" y=\"-443.3\" font-family=\"Times,serif\" font-size=\"14.00\">n=8</text>\n<text text-anchor=\"middle\" x=\"3557\" y=\"-428.3\" font-family=\"Times,serif\" font-size=\"14.00\">{&#39;positive&#39;: 7, &#39;negative&#39;: 1}</text>\n</g>\n<!-- rrllrln&#45;&gt;rrllrlrn -->\n<g id=\"edge111\" class=\"edge\">\n<title>rrllrln&#45;&gt;rrllrlrn</title>\n<path fill=\"none\" stroke=\"black\" d=\"M3554.75,-525.27C3555.11,-512.74 3555.56,-497.46 3555.96,-483.81\"/>\n<polygon fill=\"black\" stroke=\"black\" points=\"3559.46,-483.85 3556.25,-473.75 3552.46,-483.65 3559.46,-483.85\"/>\n<text text-anchor=\"middle\" x=\"3570.5\" y=\"-495.8\" font-family=\"Times,serif\" font-size=\"14.00\">False</text>\n</g>\n<!-- rrllrlrln -->\n<g id=\"node117\" class=\"node\">\n<title>rrllrlrln</title>\n<polygon fill=\"#ea0800\" fill-opacity=\"0.501961\" stroke=\"black\" points=\"3500,-369 3408,-369 3408,-315 3500,-315 3500,-369\"/>\n<text text-anchor=\"middle\" x=\"3454\" y=\"-337.8\" font-family=\"Times,serif\" font-size=\"14.00\">n=7</text>\n<text text-anchor=\"middle\" x=\"3454\" y=\"-322.8\" font-family=\"Times,serif\" font-size=\"14.00\">{&#39;positive&#39;: 7}</text>\n</g>\n<!-- rrllrlrn&#45;&gt;rrllrlrln -->\n<g id=\"edge109\" class=\"edge\">\n<title>rrllrlrn&#45;&gt;rrllrlrln</title>\n<path fill=\"none\" stroke=\"black\" d=\"M3531.27,-420.27C3517.98,-406.98 3501.6,-390.6 3487.35,-376.35\"/>\n<polygon fill=\"black\" stroke=\"black\" points=\"3489.66,-373.71 3480.11,-369.11 3484.71,-378.66 3489.66,-373.71\"/>\n<text text-anchor=\"middle\" x=\"3525\" y=\"-390.8\" font-family=\"Times,serif\" font-size=\"14.00\">True</text>\n</g>\n<!-- rrllrlrrn -->\n<g id=\"node118\" class=\"node\">\n<title>rrllrlrrn</title>\n<polygon fill=\"#ea0800\" fill-opacity=\"0.501961\" stroke=\"black\" points=\"3613.5,-369 3518.5,-369 3518.5,-315 3613.5,-315 3613.5,-369\"/>\n<text text-anchor=\"middle\" x=\"3566\" y=\"-337.8\" font-family=\"Times,serif\" font-size=\"14.00\">n=1</text>\n<text text-anchor=\"middle\" x=\"3566\" y=\"-322.8\" font-family=\"Times,serif\" font-size=\"14.00\">{&#39;negative&#39;: 1}</text>\n</g>\n<!-- rrllrlrn&#45;&gt;rrllrlrrn -->\n<g id=\"edge110\" class=\"edge\">\n<title>rrllrlrn&#45;&gt;rrllrlrrn</title>\n<path fill=\"none\" stroke=\"black\" d=\"M3559.25,-420.27C3560.33,-407.83 3561.66,-392.69 3562.84,-379.12\"/>\n<polygon fill=\"black\" stroke=\"black\" points=\"3566.33,-379.38 3563.72,-369.11 3559.36,-378.77 3566.33,-379.38\"/>\n<text text-anchor=\"middle\" x=\"3577.5\" y=\"-390.8\" font-family=\"Times,serif\" font-size=\"14.00\">False</text>\n</g>\n<!-- rrllrrln -->\n<g id=\"node120\" class=\"node\">\n<title>rrllrrln</title>\n<polygon fill=\"#ea0800\" fill-opacity=\"0.501961\" stroke=\"black\" points=\"3821,-473.5 3657,-473.5 3657,-420.5 3821,-420.5 3821,-473.5\"/>\n<text text-anchor=\"middle\" x=\"3739\" y=\"-458.3\" font-family=\"Times,serif\" font-size=\"14.00\">middle&#45;left&#45;square: x</text>\n<text text-anchor=\"middle\" x=\"3739\" y=\"-443.3\" font-family=\"Times,serif\" font-size=\"14.00\">n=5</text>\n<text text-anchor=\"middle\" x=\"3739\" y=\"-428.3\" font-family=\"Times,serif\" font-size=\"14.00\">{&#39;positive&#39;: 4, &#39;negative&#39;: 1}</text>\n</g>\n<!-- rrllrrn&#45;&gt;rrllrrln -->\n<g id=\"edge115\" class=\"edge\">\n<title>rrllrrn&#45;&gt;rrllrrln</title>\n<path fill=\"none\" stroke=\"black\" d=\"M3739,-525.27C3739,-512.74 3739,-497.46 3739,-483.81\"/>\n<polygon fill=\"black\" stroke=\"black\" points=\"3742.5,-483.75 3739,-473.75 3735.5,-483.75 3742.5,-483.75\"/>\n<text text-anchor=\"middle\" x=\"3752\" y=\"-495.8\" font-family=\"Times,serif\" font-size=\"14.00\">True</text>\n</g>\n<!-- rrllrrrn -->\n<g id=\"node123\" class=\"node\">\n<title>rrllrrrn</title>\n<polygon fill=\"#ea0800\" fill-opacity=\"0.501961\" stroke=\"black\" points=\"3937,-474 3839,-474 3839,-420 3937,-420 3937,-474\"/>\n<text text-anchor=\"middle\" x=\"3888\" y=\"-442.8\" font-family=\"Times,serif\" font-size=\"14.00\">n=12</text>\n<text text-anchor=\"middle\" x=\"3888\" y=\"-427.8\" font-family=\"Times,serif\" font-size=\"14.00\">{&#39;positive&#39;: 12}</text>\n</g>\n<!-- rrllrrn&#45;&gt;rrllrrrn -->\n<g id=\"edge116\" class=\"edge\">\n<title>rrllrrn&#45;&gt;rrllrrrn</title>\n<path fill=\"none\" stroke=\"black\" d=\"M3776.21,-525.27C3796.06,-511.55 3820.67,-494.54 3841.74,-479.98\"/>\n<polygon fill=\"black\" stroke=\"black\" points=\"3843.99,-482.68 3850.22,-474.11 3840.01,-476.92 3843.99,-482.68\"/>\n<text text-anchor=\"middle\" x=\"3837.5\" y=\"-495.8\" font-family=\"Times,serif\" font-size=\"14.00\">False</text>\n</g>\n<!-- rrllrrlln -->\n<g id=\"node121\" class=\"node\">\n<title>rrllrrlln</title>\n<polygon fill=\"#ea0800\" fill-opacity=\"0.501961\" stroke=\"black\" points=\"3759,-369 3667,-369 3667,-315 3759,-315 3759,-369\"/>\n<text text-anchor=\"middle\" x=\"3713\" y=\"-337.8\" font-family=\"Times,serif\" font-size=\"14.00\">n=4</text>\n<text text-anchor=\"middle\" x=\"3713\" y=\"-322.8\" font-family=\"Times,serif\" font-size=\"14.00\">{&#39;positive&#39;: 4}</text>\n</g>\n<!-- rrllrrln&#45;&gt;rrllrrlln -->\n<g id=\"edge113\" class=\"edge\">\n<title>rrllrrln&#45;&gt;rrllrrlln</title>\n<path fill=\"none\" stroke=\"black\" d=\"M3732.51,-420.27C3729.37,-407.83 3725.54,-392.69 3722.12,-379.12\"/>\n<polygon fill=\"black\" stroke=\"black\" points=\"3725.43,-377.95 3719.59,-369.11 3718.65,-379.67 3725.43,-377.95\"/>\n<text text-anchor=\"middle\" x=\"3741\" y=\"-390.8\" font-family=\"Times,serif\" font-size=\"14.00\">True</text>\n</g>\n<!-- rrllrrlrn -->\n<g id=\"node122\" class=\"node\">\n<title>rrllrrlrn</title>\n<polygon fill=\"#ea0800\" fill-opacity=\"0.501961\" stroke=\"black\" points=\"3872.5,-369 3777.5,-369 3777.5,-315 3872.5,-315 3872.5,-369\"/>\n<text text-anchor=\"middle\" x=\"3825\" y=\"-337.8\" font-family=\"Times,serif\" font-size=\"14.00\">n=1</text>\n<text text-anchor=\"middle\" x=\"3825\" y=\"-322.8\" font-family=\"Times,serif\" font-size=\"14.00\">{&#39;negative&#39;: 1}</text>\n</g>\n<!-- rrllrrln&#45;&gt;rrllrrlrn -->\n<g id=\"edge114\" class=\"edge\">\n<title>rrllrrln&#45;&gt;rrllrrlrn</title>\n<path fill=\"none\" stroke=\"black\" d=\"M3760.48,-420.27C3771.38,-407.22 3784.76,-391.2 3796.5,-377.13\"/>\n<polygon fill=\"black\" stroke=\"black\" points=\"3799.47,-379.03 3803.2,-369.11 3794.1,-374.55 3799.47,-379.03\"/>\n<text text-anchor=\"middle\" x=\"3802.5\" y=\"-390.8\" font-family=\"Times,serif\" font-size=\"14.00\">False</text>\n</g>\n<!-- rrlrln -->\n<g id=\"node125\" class=\"node\">\n<title>rrlrln</title>\n<polygon fill=\"#ea0800\" fill-opacity=\"0.501961\" stroke=\"black\" points=\"3981.5,-683.5 3804.5,-683.5 3804.5,-630.5 3981.5,-630.5 3981.5,-683.5\"/>\n<text text-anchor=\"middle\" x=\"3893\" y=\"-668.3\" font-family=\"Times,serif\" font-size=\"14.00\">middle&#45;right&#45;square: o</text>\n<text text-anchor=\"middle\" x=\"3893\" y=\"-653.3\" font-family=\"Times,serif\" font-size=\"14.00\">n=37</text>\n<text text-anchor=\"middle\" x=\"3893\" y=\"-638.3\" font-family=\"Times,serif\" font-size=\"14.00\">{&#39;positive&#39;: 16, &#39;negative&#39;: 21}</text>\n</g>\n<!-- rrlrn&#45;&gt;rrlrln -->\n<g id=\"edge126\" class=\"edge\">\n<title>rrlrn&#45;&gt;rrlrln</title>\n<path fill=\"none\" stroke=\"black\" d=\"M3893,-735.27C3893,-722.74 3893,-707.46 3893,-693.81\"/>\n<polygon fill=\"black\" stroke=\"black\" points=\"3896.5,-693.75 3893,-683.75 3889.5,-693.75 3896.5,-693.75\"/>\n<text text-anchor=\"middle\" x=\"3906\" y=\"-705.8\" font-family=\"Times,serif\" font-size=\"14.00\">True</text>\n</g>\n<!-- rrlrrn -->\n<g id=\"node132\" class=\"node\">\n<title>rrlrrn</title>\n<polygon fill=\"#ea0800\" fill-opacity=\"0.501961\" stroke=\"black\" points=\"4097,-684 3999,-684 3999,-630 4097,-630 4097,-684\"/>\n<text text-anchor=\"middle\" x=\"4048\" y=\"-652.8\" font-family=\"Times,serif\" font-size=\"14.00\">n=53</text>\n<text text-anchor=\"middle\" x=\"4048\" y=\"-637.8\" font-family=\"Times,serif\" font-size=\"14.00\">{&#39;positive&#39;: 53}</text>\n</g>\n<!-- rrlrn&#45;&gt;rrlrrn -->\n<g id=\"edge127\" class=\"edge\">\n<title>rrlrn&#45;&gt;rrlrrn</title>\n<path fill=\"none\" stroke=\"black\" d=\"M3931.71,-735.27C3952.45,-721.49 3978.19,-704.39 4000.17,-689.78\"/>\n<polygon fill=\"black\" stroke=\"black\" points=\"4002.31,-692.56 4008.7,-684.11 3998.44,-686.73 4002.31,-692.56\"/>\n<text text-anchor=\"middle\" x=\"3994.5\" y=\"-705.8\" font-family=\"Times,serif\" font-size=\"14.00\">False</text>\n</g>\n<!-- rrlrlln -->\n<g id=\"node126\" class=\"node\">\n<title>rrlrlln</title>\n<polygon fill=\"#ea0800\" fill-opacity=\"0.501961\" stroke=\"black\" points=\"3943.5,-579 3842.5,-579 3842.5,-525 3943.5,-525 3943.5,-579\"/>\n<text text-anchor=\"middle\" x=\"3893\" y=\"-547.8\" font-family=\"Times,serif\" font-size=\"14.00\">n=20</text>\n<text text-anchor=\"middle\" x=\"3893\" y=\"-532.8\" font-family=\"Times,serif\" font-size=\"14.00\">{&#39;negative&#39;: 20}</text>\n</g>\n<!-- rrlrln&#45;&gt;rrlrlln -->\n<g id=\"edge120\" class=\"edge\">\n<title>rrlrln&#45;&gt;rrlrlln</title>\n<path fill=\"none\" stroke=\"black\" d=\"M3893,-630.27C3893,-617.83 3893,-602.69 3893,-589.12\"/>\n<polygon fill=\"black\" stroke=\"black\" points=\"3896.5,-589.11 3893,-579.11 3889.5,-589.11 3896.5,-589.11\"/>\n<text text-anchor=\"middle\" x=\"3906\" y=\"-600.8\" font-family=\"Times,serif\" font-size=\"14.00\">True</text>\n</g>\n<!-- rrlrlrn -->\n<g id=\"node127\" class=\"node\">\n<title>rrlrlrn</title>\n<polygon fill=\"#ea0800\" fill-opacity=\"0.501961\" stroke=\"black\" points=\"4132,-578.5 3962,-578.5 3962,-525.5 4132,-525.5 4132,-578.5\"/>\n<text text-anchor=\"middle\" x=\"4047\" y=\"-563.3\" font-family=\"Times,serif\" font-size=\"14.00\">middle&#45;left&#45;square: o</text>\n<text text-anchor=\"middle\" x=\"4047\" y=\"-548.3\" font-family=\"Times,serif\" font-size=\"14.00\">n=17</text>\n<text text-anchor=\"middle\" x=\"4047\" y=\"-533.3\" font-family=\"Times,serif\" font-size=\"14.00\">{&#39;positive&#39;: 16, &#39;negative&#39;: 1}</text>\n</g>\n<!-- rrlrln&#45;&gt;rrlrlrn -->\n<g id=\"edge125\" class=\"edge\">\n<title>rrlrln&#45;&gt;rrlrlrn</title>\n<path fill=\"none\" stroke=\"black\" d=\"M3931.46,-630.27C3952.31,-616.33 3978.22,-599 4000.23,-584.28\"/>\n<polygon fill=\"black\" stroke=\"black\" points=\"4002.39,-587.04 4008.76,-578.58 3998.5,-581.23 4002.39,-587.04\"/>\n<text text-anchor=\"middle\" x=\"3994.5\" y=\"-600.8\" font-family=\"Times,serif\" font-size=\"14.00\">False</text>\n</g>\n<!-- rrlrlrln -->\n<g id=\"node128\" class=\"node\">\n<title>rrlrlrln</title>\n<polygon fill=\"#ea0800\" fill-opacity=\"0.501961\" stroke=\"black\" points=\"4121,-473.5 3957,-473.5 3957,-420.5 4121,-420.5 4121,-473.5\"/>\n<text text-anchor=\"middle\" x=\"4039\" y=\"-458.3\" font-family=\"Times,serif\" font-size=\"14.00\">bottom&#45;middle&#45;square: x</text>\n<text text-anchor=\"middle\" x=\"4039\" y=\"-443.3\" font-family=\"Times,serif\" font-size=\"14.00\">n=4</text>\n<text text-anchor=\"middle\" x=\"4039\" y=\"-428.3\" font-family=\"Times,serif\" font-size=\"14.00\">{&#39;negative&#39;: 1, &#39;positive&#39;: 3}</text>\n</g>\n<!-- rrlrlrn&#45;&gt;rrlrlrln -->\n<g id=\"edge123\" class=\"edge\">\n<title>rrlrlrn&#45;&gt;rrlrlrln</title>\n<path fill=\"none\" stroke=\"black\" d=\"M4045,-525.27C4044.03,-512.74 4042.84,-497.46 4041.78,-483.81\"/>\n<polygon fill=\"black\" stroke=\"black\" points=\"4045.26,-483.45 4041,-473.75 4038.29,-484 4045.26,-483.45\"/>\n<text text-anchor=\"middle\" x=\"4057\" y=\"-495.8\" font-family=\"Times,serif\" font-size=\"14.00\">True</text>\n</g>\n<!-- rrlrlrrn -->\n<g id=\"node131\" class=\"node\">\n<title>rrlrlrrn</title>\n<polygon fill=\"#ea0800\" fill-opacity=\"0.501961\" stroke=\"black\" points=\"4237,-474 4139,-474 4139,-420 4237,-420 4237,-474\"/>\n<text text-anchor=\"middle\" x=\"4188\" y=\"-442.8\" font-family=\"Times,serif\" font-size=\"14.00\">n=13</text>\n<text text-anchor=\"middle\" x=\"4188\" y=\"-427.8\" font-family=\"Times,serif\" font-size=\"14.00\">{&#39;positive&#39;: 13}</text>\n</g>\n<!-- rrlrlrn&#45;&gt;rrlrlrrn -->\n<g id=\"edge124\" class=\"edge\">\n<title>rrlrlrn&#45;&gt;rrlrlrrn</title>\n<path fill=\"none\" stroke=\"black\" d=\"M4082.22,-525.27C4100.92,-511.61 4124.08,-494.69 4143.96,-480.17\"/>\n<polygon fill=\"black\" stroke=\"black\" points=\"4146.24,-482.84 4152.25,-474.11 4142.11,-477.19 4146.24,-482.84\"/>\n<text text-anchor=\"middle\" x=\"4140.5\" y=\"-495.8\" font-family=\"Times,serif\" font-size=\"14.00\">False</text>\n</g>\n<!-- rrlrlrlln -->\n<g id=\"node129\" class=\"node\">\n<title>rrlrlrlln</title>\n<polygon fill=\"#ea0800\" fill-opacity=\"0.501961\" stroke=\"black\" points=\"3999,-369 3907,-369 3907,-315 3999,-315 3999,-369\"/>\n<text text-anchor=\"middle\" x=\"3953\" y=\"-337.8\" font-family=\"Times,serif\" font-size=\"14.00\">n=3</text>\n<text text-anchor=\"middle\" x=\"3953\" y=\"-322.8\" font-family=\"Times,serif\" font-size=\"14.00\">{&#39;positive&#39;: 3}</text>\n</g>\n<!-- rrlrlrln&#45;&gt;rrlrlrlln -->\n<g id=\"edge121\" class=\"edge\">\n<title>rrlrlrln&#45;&gt;rrlrlrlln</title>\n<path fill=\"none\" stroke=\"black\" d=\"M4017.52,-420.27C4006.62,-407.22 3993.24,-391.2 3981.5,-377.13\"/>\n<polygon fill=\"black\" stroke=\"black\" points=\"3983.9,-374.55 3974.8,-369.11 3978.53,-379.03 3983.9,-374.55\"/>\n<text text-anchor=\"middle\" x=\"4015\" y=\"-390.8\" font-family=\"Times,serif\" font-size=\"14.00\">True</text>\n</g>\n<!-- rrlrlrlrn -->\n<g id=\"node130\" class=\"node\">\n<title>rrlrlrlrn</title>\n<polygon fill=\"#ea0800\" fill-opacity=\"0.501961\" stroke=\"black\" points=\"4112.5,-369 4017.5,-369 4017.5,-315 4112.5,-315 4112.5,-369\"/>\n<text text-anchor=\"middle\" x=\"4065\" y=\"-337.8\" font-family=\"Times,serif\" font-size=\"14.00\">n=1</text>\n<text text-anchor=\"middle\" x=\"4065\" y=\"-322.8\" font-family=\"Times,serif\" font-size=\"14.00\">{&#39;negative&#39;: 1}</text>\n</g>\n<!-- rrlrlrln&#45;&gt;rrlrlrlrn -->\n<g id=\"edge122\" class=\"edge\">\n<title>rrlrlrln&#45;&gt;rrlrlrlrn</title>\n<path fill=\"none\" stroke=\"black\" d=\"M4045.49,-420.27C4048.63,-407.83 4052.46,-392.69 4055.88,-379.12\"/>\n<polygon fill=\"black\" stroke=\"black\" points=\"4059.35,-379.67 4058.41,-369.11 4052.57,-377.95 4059.35,-379.67\"/>\n<text text-anchor=\"middle\" x=\"4068.5\" y=\"-390.8\" font-family=\"Times,serif\" font-size=\"14.00\">False</text>\n</g>\n</g>\n</svg>\n",
            "text/plain": [
              "<graphviz.graphs.Digraph at 0x7d2f79a85700>"
            ]
          },
          "metadata": {},
          "execution_count": 14
        }
      ],
      "source": [
        "arbol = Tree()\n",
        "arbol.fit(X_train, y_train)\n",
        "print(arbol)\n",
        "arbol.render()"
      ]
    },
    {
      "cell_type": "markdown",
      "metadata": {
        "id": "qLXWBDeu72fG"
      },
      "source": [
        "Para evaluar instancias en el árbol podemos elegir alguna del conjunto de testeo y evaluarlas de la siguiente manera:"
      ]
    },
    {
      "cell_type": "code",
      "execution_count": 15,
      "metadata": {
        "colab": {
          "base_uri": "https://localhost:8080/"
        },
        "id": "JmipSHhB72fG",
        "outputId": "c1e40198-4f55-4084-b2cc-fa2af642a708"
      },
      "outputs": [
        {
          "output_type": "stream",
          "name": "stdout",
          "text": [
            "Para una instancia {'top-left-square': 'x', 'top-middle-square': 'x', 'top-right-square': 'o', 'middle-left-square': 'x', 'middle-middle-square': 'x', 'middle-right-square': 'b', 'bottom-left-square': 'o', 'bottom-middle-square': 'o', 'bottom-right-square': 'o'} obtuve negative\n",
            "Para una instancia {'top-left-square': 'o', 'top-middle-square': 'b', 'top-right-square': 'x', 'middle-left-square': 'o', 'middle-middle-square': 'x', 'middle-right-square': 'x', 'bottom-left-square': 'o', 'bottom-middle-square': 'b', 'bottom-right-square': 'b'} obtuve negative\n",
            "Para una instancia {'top-left-square': 'b', 'top-middle-square': 'o', 'top-right-square': 'b', 'middle-left-square': 'x', 'middle-middle-square': 'o', 'middle-right-square': 'b', 'bottom-left-square': 'x', 'bottom-middle-square': 'o', 'bottom-right-square': 'x'} obtuve negative\n",
            "Para una instancia {'top-left-square': 'x', 'top-middle-square': 'x', 'top-right-square': 'x', 'middle-left-square': 'b', 'middle-middle-square': 'b', 'middle-right-square': 'o', 'bottom-left-square': 'o', 'bottom-middle-square': 'b', 'bottom-right-square': 'b'} obtuve positive\n"
          ]
        }
      ],
      "source": [
        "xs_nuevo = X_test.head(4).to_dict(orient='records')\n",
        "\n",
        "for instancia in xs_nuevo:\n",
        "    res = arbol.predict(instancia)\n",
        "    print(f\"Para una instancia {instancia} obtuve {res}\")"
      ]
    },
    {
      "cell_type": "markdown",
      "metadata": {
        "id": "E5q4zpBl72fG"
      },
      "source": [
        "¿Se obtuvieron los valores esperados? Explorar al menos 1 caso por cada rama del árbol."
      ]
    },
    {
      "cell_type": "markdown",
      "metadata": {
        "id": "Fi6RFzE072fG"
      },
      "source": [
        "## Importancia de los atributos"
      ]
    },
    {
      "cell_type": "markdown",
      "metadata": {
        "id": "g3asZ3I172fG"
      },
      "source": [
        "A continuación, implementaremos dos métodos distintos para medir la importancia de los atributos en nuestro árbol de decisión. Estos métodos nos permitirán entender mejor qué variables tienen mayor influencia en las predicciones del modelo. El primer método que implementaremos es la Importancia Gini, que se basa en la reducción de la impureza Gini en cada nodo del árbol. El segundo método es la Importancia por Permutación, que evalúa cuánto empeora el rendimiento del modelo cuando los valores de una característica se permutan aleatoriamente."
      ]
    },
    {
      "cell_type": "markdown",
      "metadata": {
        "id": "K7IHBnus72fG"
      },
      "source": [
        "*Gini importance*"
      ]
    },
    {
      "cell_type": "code",
      "execution_count": 21,
      "metadata": {
        "id": "-_9mgxLR72fH"
      },
      "outputs": [],
      "source": [
        "def gini_importance(tree: Tree) -> dict:\n",
        "    \"\"\"\n",
        "    Calcula la Disminución Media en la Impureza (Importancia Gini) para un árbol de decisión entrenado.\n",
        "\n",
        "    Argumentos:\n",
        "    - arbol: Una instancia de Tree entrenada\n",
        "\n",
        "    Retorna:\n",
        "    - Un diccionario que asocia los nombres de los atributos con sus puntajes de importancia Gini\n",
        "    \"\"\"\n",
        "\n",
        "    importance = {}\n",
        "\n",
        "    def recorrer_arbol(node: Tree, parent_samples: int):\n",
        "        # Si es una hoja termina la recursión\n",
        "        if node.decision is None:\n",
        "            return\n",
        "\n",
        "        # Qué atributo se uso en ese nodo\n",
        "        feature = node.decision.feature\n",
        "\n",
        "        # Si todavia no habiamos usado ese atributo para partir un nodo\n",
        "        if feature not in importance:\n",
        "            importance[feature] = 0\n",
        "\n",
        "        # Calculamos Gini gain del corte\n",
        "        # Convert dict_values to numpy arrays before passing to ganancia_gini\n",
        "        gini_gain = ganancia_gini(np.array(list(node.left.data.values())), np.array(list(node.right.data.values())))\n",
        "\n",
        "\n",
        "        # Actualizamos el valor de ese atributo\n",
        "        importance[feature] = importance[feature] + gini_gain\n",
        "\n",
        "        # Recorrer recursivamente los subárboles\n",
        "        recorrer_arbol(node.left, parent_samples)\n",
        "        recorrer_arbol(node.right, parent_samples)\n",
        "\n",
        "    # Arrancamos el recorrido desde la raíz\n",
        "    cantidad_total = sum(tree.data.values())\n",
        "    recorrer_arbol(tree, cantidad_total)\n",
        "\n",
        "    return importance"
      ]
    },
    {
      "cell_type": "code",
      "execution_count": 22,
      "metadata": {
        "colab": {
          "base_uri": "https://localhost:8080/"
        },
        "id": "3O5Z4zrT72fH",
        "outputId": "fb0b218c-e17d-4803-e402-de478297d1e4"
      },
      "outputs": [
        {
          "output_type": "execute_result",
          "data": {
            "text/plain": [
              "{'middle-middle-square': 0.25,\n",
              " 'top-left-square': 0.75,\n",
              " 'top-right-square': 2.944444444444445,\n",
              " 'top-middle-square': 3.1666666666666674,\n",
              " 'bottom-middle-square': 3.2361111111111116,\n",
              " 'middle-left-square': 3.555555555555556,\n",
              " 'middle-right-square': 3.6111111111111116,\n",
              " 'bottom-right-square': 2.3888888888888897,\n",
              " 'bottom-left-square': 1.5000000000000002}"
            ]
          },
          "metadata": {},
          "execution_count": 22
        }
      ],
      "source": [
        "gini_importance(arbol)"
      ]
    },
    {
      "cell_type": "markdown",
      "metadata": {
        "id": "7a24H-3y72fH"
      },
      "source": [
        "*Permutation importance*"
      ]
    },
    {
      "cell_type": "code",
      "execution_count": null,
      "metadata": {
        "id": "Ce6W7OX-72fH"
      },
      "outputs": [],
      "source": [
        "from typing import Callable\n",
        "\n",
        "def permutation_importance(\n",
        "    tree: Tree,\n",
        "    X: pd.DataFrame,\n",
        "    y: np.ndarray,\n",
        "    score_func: Callable,\n",
        "    n_repeats: int = 10\n",
        ") -> dict:\n",
        "    \"\"\"\n",
        "    Calcula la importancia por permutación para los atributos en un árbol entrenado.\n",
        "\n",
        "    Argumentos:\n",
        "    - tree: Instancia de Tree entrenada\n",
        "    - X: DataFrame de atributos\n",
        "    - y: Vector de etiquetas\n",
        "    - score_func: Función para calcular el puntaje (por ejemplo, accuracy_score, r2_score)\n",
        "    - n_repeats: Número de veces para repetir el proceso de permutación\n",
        "\n",
        "    Retorna:\n",
        "    - Diccionario de importancias de los atributos\n",
        "    \"\"\"\n",
        "\n",
        "    # Calcular el puntaje de referencia\n",
        "    y_pred = np.array([tree.predict(x) for _, x in X.iterrows()])\n",
        "    reference_score = score_func(y, y_pred)\n",
        "\n",
        "    n_samples, n_features = X.shape\n",
        "    importances = {}\n",
        "\n",
        "    for feature in X.columns:\n",
        "        feature_importance = []\n",
        "\n",
        "        for _ in range(n_repeats):\n",
        "            # Crear una copia de los datos\n",
        "            X_corrupted = #COMPLETAR\n",
        "\n",
        "            # Permutar aleatoriamente los valores en la columna feature\n",
        "            X_corrupted[feature] = #COMPLETAR\n",
        "\n",
        "            # Calcular el nuevo score usando los datos corrompidos\n",
        "            corrupted_score = #COMPLETAR\n",
        "\n",
        "            feature_importance.append(corrupted_score)\n",
        "\n",
        "        # Calcular la importancia para este atributo según el algoritmo\n",
        "        importances[feature] = #COMPLETAR\n",
        "\n",
        "    return importances"
      ]
    },
    {
      "cell_type": "code",
      "execution_count": null,
      "metadata": {
        "id": "952XwS4772fH"
      },
      "outputs": [],
      "source": [
        "from sklearn.metrics import accuracy_score\n",
        "\n",
        "permutation_importance(arbol, X_train, y_train, accuracy_score)"
      ]
    },
    {
      "cell_type": "markdown",
      "metadata": {
        "id": "osGarwAV72fH"
      },
      "source": [
        "¿Se obtienen los mismos valores cuando se calcula sobre el conjunto de testeo?"
      ]
    },
    {
      "cell_type": "markdown",
      "metadata": {
        "id": "OdiiVYQc72fH"
      },
      "source": [
        "# Opcional: Atributos continuos"
      ]
    },
    {
      "cell_type": "markdown",
      "metadata": {
        "id": "jjIqCcpe72fH"
      },
      "source": [
        "La implementación anterior permite construir árboles partiendo de un dataset cuyos atributos no son continuos. Modificar dicha implementación para que soporte este tipo de atributos.\n",
        "¿Qué funciones hay que modificar?"
      ]
    }
  ],
  "metadata": {
    "celltoolbar": "Tags",
    "kernelspec": {
      "display_name": "Python 3 (ipykernel)",
      "language": "python",
      "name": "python3"
    },
    "language_info": {
      "codemirror_mode": {
        "name": "ipython",
        "version": 3
      },
      "file_extension": ".py",
      "mimetype": "text/x-python",
      "name": "python",
      "nbconvert_exporter": "python",
      "pygments_lexer": "ipython3",
      "version": "3.10.12"
    },
    "colab": {
      "provenance": []
    }
  },
  "nbformat": 4,
  "nbformat_minor": 0
}